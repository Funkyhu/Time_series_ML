{
 "cells": [
  {
   "attachments": {},
   "cell_type": "markdown",
   "metadata": {},
   "source": [
    "# Train-Test Split of heating data"
   ]
  },
  {
   "cell_type": "code",
   "execution_count": 2,
   "metadata": {},
   "outputs": [],
   "source": [
    "import pandas as pd\n",
    "import numpy as np\n",
    "from sklearn.model_selection import TimeSeriesSplit"
   ]
  },
  {
   "cell_type": "code",
   "execution_count": 5,
   "metadata": {},
   "outputs": [],
   "source": [
    "#use csv with already preprocessed features (scaling, differnecing etc needed)\n",
    "df = pd.read_csv(\"somewhatcleaned_heatingdemand.csv\", index_col=0)"
   ]
  },
  {
   "attachments": {},
   "cell_type": "markdown",
   "metadata": {},
   "source": [
    "### some small data checks"
   ]
  },
  {
   "cell_type": "code",
   "execution_count": 6,
   "metadata": {},
   "outputs": [
    {
     "data": {
      "text/html": [
       "<div>\n",
       "<style scoped>\n",
       "    .dataframe tbody tr th:only-of-type {\n",
       "        vertical-align: middle;\n",
       "    }\n",
       "\n",
       "    .dataframe tbody tr th {\n",
       "        vertical-align: top;\n",
       "    }\n",
       "\n",
       "    .dataframe thead th {\n",
       "        text-align: right;\n",
       "    }\n",
       "</style>\n",
       "<table border=\"1\" class=\"dataframe\">\n",
       "  <thead>\n",
       "    <tr style=\"text-align: right;\">\n",
       "      <th></th>\n",
       "      <th>total_heat</th>\n",
       "    </tr>\n",
       "  </thead>\n",
       "  <tbody>\n",
       "    <tr>\n",
       "      <th>2007-12-31 22:00:00+00:00</th>\n",
       "      <td>95296.0</td>\n",
       "    </tr>\n",
       "    <tr>\n",
       "      <th>2007-12-31 23:00:00+00:00</th>\n",
       "      <td>95296.0</td>\n",
       "    </tr>\n",
       "    <tr>\n",
       "      <th>2008-01-01 00:00:00+00:00</th>\n",
       "      <td>98086.0</td>\n",
       "    </tr>\n",
       "    <tr>\n",
       "      <th>2008-01-01 01:00:00+00:00</th>\n",
       "      <td>100454.0</td>\n",
       "    </tr>\n",
       "    <tr>\n",
       "      <th>2008-01-01 02:00:00+00:00</th>\n",
       "      <td>107183.0</td>\n",
       "    </tr>\n",
       "    <tr>\n",
       "      <th>...</th>\n",
       "      <td>...</td>\n",
       "    </tr>\n",
       "    <tr>\n",
       "      <th>2015-01-01 19:00:00+00:00</th>\n",
       "      <td>82364.0</td>\n",
       "    </tr>\n",
       "    <tr>\n",
       "      <th>2015-01-01 20:00:00+00:00</th>\n",
       "      <td>74662.0</td>\n",
       "    </tr>\n",
       "    <tr>\n",
       "      <th>2015-01-01 21:00:00+00:00</th>\n",
       "      <td>60137.0</td>\n",
       "    </tr>\n",
       "    <tr>\n",
       "      <th>2015-01-01 22:00:00+00:00</th>\n",
       "      <td>49587.0</td>\n",
       "    </tr>\n",
       "    <tr>\n",
       "      <th>2015-01-01 23:00:00+00:00</th>\n",
       "      <td>43014.0</td>\n",
       "    </tr>\n",
       "  </tbody>\n",
       "</table>\n",
       "<p>61394 rows × 1 columns</p>\n",
       "</div>"
      ],
      "text/plain": [
       "                           total_heat\n",
       "2007-12-31 22:00:00+00:00     95296.0\n",
       "2007-12-31 23:00:00+00:00     95296.0\n",
       "2008-01-01 00:00:00+00:00     98086.0\n",
       "2008-01-01 01:00:00+00:00    100454.0\n",
       "2008-01-01 02:00:00+00:00    107183.0\n",
       "...                               ...\n",
       "2015-01-01 19:00:00+00:00     82364.0\n",
       "2015-01-01 20:00:00+00:00     74662.0\n",
       "2015-01-01 21:00:00+00:00     60137.0\n",
       "2015-01-01 22:00:00+00:00     49587.0\n",
       "2015-01-01 23:00:00+00:00     43014.0\n",
       "\n",
       "[61394 rows x 1 columns]"
      ]
     },
     "execution_count": 6,
     "metadata": {},
     "output_type": "execute_result"
    }
   ],
   "source": [
    "df"
   ]
  },
  {
   "cell_type": "code",
   "execution_count": 8,
   "metadata": {},
   "outputs": [],
   "source": [
    "df.index = pd.DatetimeIndex(df.index)"
   ]
  },
  {
   "cell_type": "code",
   "execution_count": 19,
   "metadata": {},
   "outputs": [
    {
     "data": {
      "text/plain": [
       "total_heat\n",
       "24            2558\n",
       "2                1\n",
       "dtype: int64"
      ]
     },
     "execution_count": 19,
     "metadata": {},
     "output_type": "execute_result"
    }
   ],
   "source": [
    "df.groupby(df.index.floor('d')).count().value_counts()"
   ]
  },
  {
   "cell_type": "code",
   "execution_count": 33,
   "metadata": {},
   "outputs": [],
   "source": [
    "# removing the 2 values from first year if necessary\n",
    "np_array = df.iloc[2:].to_numpy()"
   ]
  },
  {
   "attachments": {},
   "cell_type": "markdown",
   "metadata": {},
   "source": [
    "## Creating input X and target y"
   ]
  },
  {
   "cell_type": "code",
   "execution_count": 12,
   "metadata": {},
   "outputs": [],
   "source": [
    "# Hyperparameter\n",
    "train_days = 10\n",
    "forecast_days = 2"
   ]
  },
  {
   "cell_type": "code",
   "execution_count": 40,
   "metadata": {},
   "outputs": [
    {
     "data": {
      "text/plain": [
       "61104"
      ]
     },
     "execution_count": 40,
     "metadata": {},
     "output_type": "execute_result"
    }
   ],
   "source": [
    "len(np_array[train_days*24:-forecast_days*24])"
   ]
  },
  {
   "attachments": {},
   "cell_type": "markdown",
   "metadata": {},
   "source": [
    "Possibility 1"
   ]
  },
  {
   "cell_type": "code",
   "execution_count": 73,
   "metadata": {},
   "outputs": [],
   "source": [
    "# creating tuples with x and y\n",
    "arr = [\n",
    "    (np_array[i-train_days*24:i], np_array[i:i+forecast_days*24]) for \n",
    "    i  in range(train_days*24, len(np_array)-forecast_days*24)\n",
    "    ]"
   ]
  },
  {
   "attachments": {},
   "cell_type": "markdown",
   "metadata": {},
   "source": [
    "Possibility 2"
   ]
  },
  {
   "cell_type": "code",
   "execution_count": 74,
   "metadata": {},
   "outputs": [],
   "source": [
    "# creating two seperate lists with a function\n",
    "\n",
    "def create_X_y(data_array: np.array, train_days:int, forecast_days:int):\n",
    "    \"\"\"\"\"\"\n",
    "    X_list = []\n",
    "    y_list = []\n",
    "\n",
    "    for i in range(train_days*24, len(data_array)-forecast_days*24):\n",
    "        X_list.append(data_array[i-train_days*24:i])\n",
    "        y_list.append(data_array[i:i+forecast_days*24])\n",
    "    \n",
    "    return X_list, y_list\n",
    "    "
   ]
  },
  {
   "cell_type": "code",
   "execution_count": 76,
   "metadata": {},
   "outputs": [],
   "source": [
    "X_list, y_list = create_X_y(np_array, train_days, forecast_days)"
   ]
  },
  {
   "cell_type": "code",
   "execution_count": 77,
   "metadata": {},
   "outputs": [
    {
     "data": {
      "text/plain": [
       "(61104, 61104)"
      ]
     },
     "execution_count": 77,
     "metadata": {},
     "output_type": "execute_result"
    }
   ],
   "source": [
    "len(X_list), len(y_list)"
   ]
  },
  {
   "attachments": {},
   "cell_type": "markdown",
   "metadata": {},
   "source": [
    "## Data split in train, eval, test"
   ]
  },
  {
   "attachments": {},
   "cell_type": "markdown",
   "metadata": {},
   "source": [
    "Should decide that on a portion of data which is not for hyperparam tuning, but is only used at the very end.  (Test-data)\n",
    "-> Maybe last year of data\n",
    "\n",
    "Could decide that one portion of data will be used for hyperparam tuning, but not for training of data. (eval-data)\n",
    "-> Maybe second last year"
   ]
  },
  {
   "cell_type": "code",
   "execution_count": 30,
   "metadata": {},
   "outputs": [
    {
     "data": {
      "text/plain": [
       "(8760, 8760, 43874)"
      ]
     },
     "execution_count": 30,
     "metadata": {},
     "output_type": "execute_result"
    }
   ],
   "source": [
    "np_test = np_array[-365*24:]\n",
    "np_eval = np_array[-365*24*2:-365*24]\n",
    "np_train = np_array[:-365*24*2]\n",
    "len(np_test), len(np_eval), len(np_train)"
   ]
  },
  {
   "cell_type": "code",
   "execution_count": null,
   "metadata": {},
   "outputs": [],
   "source": []
  }
 ],
 "metadata": {
  "kernelspec": {
   "display_name": "idw",
   "language": "python",
   "name": "python3"
  },
  "language_info": {
   "codemirror_mode": {
    "name": "ipython",
    "version": 3
   },
   "file_extension": ".py",
   "mimetype": "text/x-python",
   "name": "python",
   "nbconvert_exporter": "python",
   "pygments_lexer": "ipython3",
   "version": "3.10.2"
  },
  "orig_nbformat": 4
 },
 "nbformat": 4,
 "nbformat_minor": 2
}
