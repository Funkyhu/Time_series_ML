{
 "cells": [
  {
   "attachments": {},
   "cell_type": "markdown",
   "metadata": {},
   "source": [
    "# Train-Test Split of heating data"
   ]
  },
  {
   "cell_type": "code",
   "execution_count": 1,
   "metadata": {},
   "outputs": [],
   "source": [
    "import pandas as pd\n",
    "import numpy as np\n",
    "from sklearn.model_selection import TimeSeriesSplit"
   ]
  },
  {
   "cell_type": "code",
   "execution_count": 2,
   "metadata": {},
   "outputs": [],
   "source": [
    "#use csv with already preprocessed features (scaling, differnecing etc needed)\n",
    "df = pd.read_csv(\"Data_Prep.csv\", index_col=0)"
   ]
  },
  {
   "attachments": {},
   "cell_type": "markdown",
   "metadata": {},
   "source": [
    "### some small data checks"
   ]
  },
  {
   "cell_type": "code",
   "execution_count": 3,
   "metadata": {},
   "outputs": [
    {
     "data": {
      "text/html": [
       "<div>\n",
       "<style scoped>\n",
       "    .dataframe tbody tr th:only-of-type {\n",
       "        vertical-align: middle;\n",
       "    }\n",
       "\n",
       "    .dataframe tbody tr th {\n",
       "        vertical-align: top;\n",
       "    }\n",
       "\n",
       "    .dataframe thead th {\n",
       "        text-align: right;\n",
       "    }\n",
       "</style>\n",
       "<table border=\"1\" class=\"dataframe\">\n",
       "  <thead>\n",
       "    <tr style=\"text-align: right;\">\n",
       "      <th></th>\n",
       "      <th>Total_Heat</th>\n",
       "      <th>Hour</th>\n",
       "      <th>Day</th>\n",
       "      <th>Month</th>\n",
       "      <th>Year</th>\n",
       "      <th>Weekday</th>\n",
       "      <th>Weekend</th>\n",
       "      <th>Holiday</th>\n",
       "    </tr>\n",
       "  </thead>\n",
       "  <tbody>\n",
       "    <tr>\n",
       "      <th>2008-01-01 00:00:00+00:00</th>\n",
       "      <td>98086.0</td>\n",
       "      <td>0</td>\n",
       "      <td>1</td>\n",
       "      <td>1</td>\n",
       "      <td>2008</td>\n",
       "      <td>1</td>\n",
       "      <td>0</td>\n",
       "      <td>1</td>\n",
       "    </tr>\n",
       "    <tr>\n",
       "      <th>2008-01-01 01:00:00+00:00</th>\n",
       "      <td>100454.0</td>\n",
       "      <td>1</td>\n",
       "      <td>1</td>\n",
       "      <td>1</td>\n",
       "      <td>2008</td>\n",
       "      <td>1</td>\n",
       "      <td>0</td>\n",
       "      <td>1</td>\n",
       "    </tr>\n",
       "    <tr>\n",
       "      <th>2008-01-01 02:00:00+00:00</th>\n",
       "      <td>107183.0</td>\n",
       "      <td>2</td>\n",
       "      <td>1</td>\n",
       "      <td>1</td>\n",
       "      <td>2008</td>\n",
       "      <td>1</td>\n",
       "      <td>0</td>\n",
       "      <td>1</td>\n",
       "    </tr>\n",
       "    <tr>\n",
       "      <th>2008-01-01 03:00:00+00:00</th>\n",
       "      <td>120688.0</td>\n",
       "      <td>3</td>\n",
       "      <td>1</td>\n",
       "      <td>1</td>\n",
       "      <td>2008</td>\n",
       "      <td>1</td>\n",
       "      <td>0</td>\n",
       "      <td>1</td>\n",
       "    </tr>\n",
       "    <tr>\n",
       "      <th>2008-01-01 04:00:00+00:00</th>\n",
       "      <td>158569.0</td>\n",
       "      <td>4</td>\n",
       "      <td>1</td>\n",
       "      <td>1</td>\n",
       "      <td>2008</td>\n",
       "      <td>1</td>\n",
       "      <td>0</td>\n",
       "      <td>1</td>\n",
       "    </tr>\n",
       "    <tr>\n",
       "      <th>...</th>\n",
       "      <td>...</td>\n",
       "      <td>...</td>\n",
       "      <td>...</td>\n",
       "      <td>...</td>\n",
       "      <td>...</td>\n",
       "      <td>...</td>\n",
       "      <td>...</td>\n",
       "      <td>...</td>\n",
       "    </tr>\n",
       "    <tr>\n",
       "      <th>2014-12-31 19:00:00+00:00</th>\n",
       "      <td>153908.0</td>\n",
       "      <td>19</td>\n",
       "      <td>31</td>\n",
       "      <td>12</td>\n",
       "      <td>2014</td>\n",
       "      <td>2</td>\n",
       "      <td>0</td>\n",
       "      <td>0</td>\n",
       "    </tr>\n",
       "    <tr>\n",
       "      <th>2014-12-31 20:00:00+00:00</th>\n",
       "      <td>139544.0</td>\n",
       "      <td>20</td>\n",
       "      <td>31</td>\n",
       "      <td>12</td>\n",
       "      <td>2014</td>\n",
       "      <td>2</td>\n",
       "      <td>0</td>\n",
       "      <td>0</td>\n",
       "    </tr>\n",
       "    <tr>\n",
       "      <th>2014-12-31 21:00:00+00:00</th>\n",
       "      <td>114048.0</td>\n",
       "      <td>21</td>\n",
       "      <td>31</td>\n",
       "      <td>12</td>\n",
       "      <td>2014</td>\n",
       "      <td>2</td>\n",
       "      <td>0</td>\n",
       "      <td>0</td>\n",
       "    </tr>\n",
       "    <tr>\n",
       "      <th>2014-12-31 22:00:00+00:00</th>\n",
       "      <td>71690.5</td>\n",
       "      <td>22</td>\n",
       "      <td>31</td>\n",
       "      <td>12</td>\n",
       "      <td>2014</td>\n",
       "      <td>2</td>\n",
       "      <td>0</td>\n",
       "      <td>0</td>\n",
       "    </tr>\n",
       "    <tr>\n",
       "      <th>2014-12-31 23:00:00+00:00</th>\n",
       "      <td>71690.5</td>\n",
       "      <td>23</td>\n",
       "      <td>31</td>\n",
       "      <td>12</td>\n",
       "      <td>2014</td>\n",
       "      <td>2</td>\n",
       "      <td>0</td>\n",
       "      <td>0</td>\n",
       "    </tr>\n",
       "  </tbody>\n",
       "</table>\n",
       "<p>61368 rows × 8 columns</p>\n",
       "</div>"
      ],
      "text/plain": [
       "                           Total_Heat  Hour  Day  Month  Year  Weekday  \\\n",
       "2008-01-01 00:00:00+00:00     98086.0     0    1      1  2008        1   \n",
       "2008-01-01 01:00:00+00:00    100454.0     1    1      1  2008        1   \n",
       "2008-01-01 02:00:00+00:00    107183.0     2    1      1  2008        1   \n",
       "2008-01-01 03:00:00+00:00    120688.0     3    1      1  2008        1   \n",
       "2008-01-01 04:00:00+00:00    158569.0     4    1      1  2008        1   \n",
       "...                               ...   ...  ...    ...   ...      ...   \n",
       "2014-12-31 19:00:00+00:00    153908.0    19   31     12  2014        2   \n",
       "2014-12-31 20:00:00+00:00    139544.0    20   31     12  2014        2   \n",
       "2014-12-31 21:00:00+00:00    114048.0    21   31     12  2014        2   \n",
       "2014-12-31 22:00:00+00:00     71690.5    22   31     12  2014        2   \n",
       "2014-12-31 23:00:00+00:00     71690.5    23   31     12  2014        2   \n",
       "\n",
       "                           Weekend  Holiday  \n",
       "2008-01-01 00:00:00+00:00        0        1  \n",
       "2008-01-01 01:00:00+00:00        0        1  \n",
       "2008-01-01 02:00:00+00:00        0        1  \n",
       "2008-01-01 03:00:00+00:00        0        1  \n",
       "2008-01-01 04:00:00+00:00        0        1  \n",
       "...                            ...      ...  \n",
       "2014-12-31 19:00:00+00:00        0        0  \n",
       "2014-12-31 20:00:00+00:00        0        0  \n",
       "2014-12-31 21:00:00+00:00        0        0  \n",
       "2014-12-31 22:00:00+00:00        0        0  \n",
       "2014-12-31 23:00:00+00:00        0        0  \n",
       "\n",
       "[61368 rows x 8 columns]"
      ]
     },
     "execution_count": 3,
     "metadata": {},
     "output_type": "execute_result"
    }
   ],
   "source": [
    "df"
   ]
  },
  {
   "cell_type": "code",
   "execution_count": 4,
   "metadata": {},
   "outputs": [],
   "source": [
    "from sklearn.preprocessing import MinMaxScaler"
   ]
  },
  {
   "cell_type": "code",
   "execution_count": 5,
   "metadata": {},
   "outputs": [],
   "source": [
    "df_scaler = MinMaxScaler()\n",
    "df.Total_Heat = df_scaler.fit_transform(df[[\"Total_Heat\"]])\n"
   ]
  },
  {
   "cell_type": "code",
   "execution_count": 6,
   "metadata": {},
   "outputs": [
    {
     "data": {
      "text/html": [
       "<div>\n",
       "<style scoped>\n",
       "    .dataframe tbody tr th:only-of-type {\n",
       "        vertical-align: middle;\n",
       "    }\n",
       "\n",
       "    .dataframe tbody tr th {\n",
       "        vertical-align: top;\n",
       "    }\n",
       "\n",
       "    .dataframe thead th {\n",
       "        text-align: right;\n",
       "    }\n",
       "</style>\n",
       "<table border=\"1\" class=\"dataframe\">\n",
       "  <thead>\n",
       "    <tr style=\"text-align: right;\">\n",
       "      <th></th>\n",
       "      <th>Total_Heat</th>\n",
       "      <th>Hour</th>\n",
       "      <th>Day</th>\n",
       "      <th>Month</th>\n",
       "      <th>Year</th>\n",
       "      <th>Weekday</th>\n",
       "      <th>Weekend</th>\n",
       "      <th>Holiday</th>\n",
       "    </tr>\n",
       "  </thead>\n",
       "  <tbody>\n",
       "    <tr>\n",
       "      <th>2008-01-01 00:00:00+00:00</th>\n",
       "      <td>0.362881</td>\n",
       "      <td>0</td>\n",
       "      <td>1</td>\n",
       "      <td>1</td>\n",
       "      <td>2008</td>\n",
       "      <td>1</td>\n",
       "      <td>0</td>\n",
       "      <td>1</td>\n",
       "    </tr>\n",
       "    <tr>\n",
       "      <th>2008-01-01 01:00:00+00:00</th>\n",
       "      <td>0.371961</td>\n",
       "      <td>1</td>\n",
       "      <td>1</td>\n",
       "      <td>1</td>\n",
       "      <td>2008</td>\n",
       "      <td>1</td>\n",
       "      <td>0</td>\n",
       "      <td>1</td>\n",
       "    </tr>\n",
       "    <tr>\n",
       "      <th>2008-01-01 02:00:00+00:00</th>\n",
       "      <td>0.397763</td>\n",
       "      <td>2</td>\n",
       "      <td>1</td>\n",
       "      <td>1</td>\n",
       "      <td>2008</td>\n",
       "      <td>1</td>\n",
       "      <td>0</td>\n",
       "      <td>1</td>\n",
       "    </tr>\n",
       "    <tr>\n",
       "      <th>2008-01-01 03:00:00+00:00</th>\n",
       "      <td>0.449547</td>\n",
       "      <td>3</td>\n",
       "      <td>1</td>\n",
       "      <td>1</td>\n",
       "      <td>2008</td>\n",
       "      <td>1</td>\n",
       "      <td>0</td>\n",
       "      <td>1</td>\n",
       "    </tr>\n",
       "    <tr>\n",
       "      <th>2008-01-01 04:00:00+00:00</th>\n",
       "      <td>0.594798</td>\n",
       "      <td>4</td>\n",
       "      <td>1</td>\n",
       "      <td>1</td>\n",
       "      <td>2008</td>\n",
       "      <td>1</td>\n",
       "      <td>0</td>\n",
       "      <td>1</td>\n",
       "    </tr>\n",
       "    <tr>\n",
       "      <th>...</th>\n",
       "      <td>...</td>\n",
       "      <td>...</td>\n",
       "      <td>...</td>\n",
       "      <td>...</td>\n",
       "      <td>...</td>\n",
       "      <td>...</td>\n",
       "      <td>...</td>\n",
       "      <td>...</td>\n",
       "    </tr>\n",
       "    <tr>\n",
       "      <th>2014-12-31 19:00:00+00:00</th>\n",
       "      <td>0.576926</td>\n",
       "      <td>19</td>\n",
       "      <td>31</td>\n",
       "      <td>12</td>\n",
       "      <td>2014</td>\n",
       "      <td>2</td>\n",
       "      <td>0</td>\n",
       "      <td>0</td>\n",
       "    </tr>\n",
       "    <tr>\n",
       "      <th>2014-12-31 20:00:00+00:00</th>\n",
       "      <td>0.521848</td>\n",
       "      <td>20</td>\n",
       "      <td>31</td>\n",
       "      <td>12</td>\n",
       "      <td>2014</td>\n",
       "      <td>2</td>\n",
       "      <td>0</td>\n",
       "      <td>0</td>\n",
       "    </tr>\n",
       "    <tr>\n",
       "      <th>2014-12-31 21:00:00+00:00</th>\n",
       "      <td>0.424086</td>\n",
       "      <td>21</td>\n",
       "      <td>31</td>\n",
       "      <td>12</td>\n",
       "      <td>2014</td>\n",
       "      <td>2</td>\n",
       "      <td>0</td>\n",
       "      <td>0</td>\n",
       "    </tr>\n",
       "    <tr>\n",
       "      <th>2014-12-31 22:00:00+00:00</th>\n",
       "      <td>0.261670</td>\n",
       "      <td>22</td>\n",
       "      <td>31</td>\n",
       "      <td>12</td>\n",
       "      <td>2014</td>\n",
       "      <td>2</td>\n",
       "      <td>0</td>\n",
       "      <td>0</td>\n",
       "    </tr>\n",
       "    <tr>\n",
       "      <th>2014-12-31 23:00:00+00:00</th>\n",
       "      <td>0.261670</td>\n",
       "      <td>23</td>\n",
       "      <td>31</td>\n",
       "      <td>12</td>\n",
       "      <td>2014</td>\n",
       "      <td>2</td>\n",
       "      <td>0</td>\n",
       "      <td>0</td>\n",
       "    </tr>\n",
       "  </tbody>\n",
       "</table>\n",
       "<p>61368 rows × 8 columns</p>\n",
       "</div>"
      ],
      "text/plain": [
       "                           Total_Heat  Hour  Day  Month  Year  Weekday  \\\n",
       "2008-01-01 00:00:00+00:00    0.362881     0    1      1  2008        1   \n",
       "2008-01-01 01:00:00+00:00    0.371961     1    1      1  2008        1   \n",
       "2008-01-01 02:00:00+00:00    0.397763     2    1      1  2008        1   \n",
       "2008-01-01 03:00:00+00:00    0.449547     3    1      1  2008        1   \n",
       "2008-01-01 04:00:00+00:00    0.594798     4    1      1  2008        1   \n",
       "...                               ...   ...  ...    ...   ...      ...   \n",
       "2014-12-31 19:00:00+00:00    0.576926    19   31     12  2014        2   \n",
       "2014-12-31 20:00:00+00:00    0.521848    20   31     12  2014        2   \n",
       "2014-12-31 21:00:00+00:00    0.424086    21   31     12  2014        2   \n",
       "2014-12-31 22:00:00+00:00    0.261670    22   31     12  2014        2   \n",
       "2014-12-31 23:00:00+00:00    0.261670    23   31     12  2014        2   \n",
       "\n",
       "                           Weekend  Holiday  \n",
       "2008-01-01 00:00:00+00:00        0        1  \n",
       "2008-01-01 01:00:00+00:00        0        1  \n",
       "2008-01-01 02:00:00+00:00        0        1  \n",
       "2008-01-01 03:00:00+00:00        0        1  \n",
       "2008-01-01 04:00:00+00:00        0        1  \n",
       "...                            ...      ...  \n",
       "2014-12-31 19:00:00+00:00        0        0  \n",
       "2014-12-31 20:00:00+00:00        0        0  \n",
       "2014-12-31 21:00:00+00:00        0        0  \n",
       "2014-12-31 22:00:00+00:00        0        0  \n",
       "2014-12-31 23:00:00+00:00        0        0  \n",
       "\n",
       "[61368 rows x 8 columns]"
      ]
     },
     "execution_count": 6,
     "metadata": {},
     "output_type": "execute_result"
    }
   ],
   "source": [
    "df"
   ]
  },
  {
   "cell_type": "code",
   "execution_count": 7,
   "metadata": {},
   "outputs": [],
   "source": [
    "df.index = pd.DatetimeIndex(df.index)"
   ]
  },
  {
   "cell_type": "code",
   "execution_count": 8,
   "metadata": {},
   "outputs": [
    {
     "data": {
      "text/plain": [
       "Total_Heat  Hour  Day  Month  Year  Weekday  Weekend  Holiday\n",
       "24          24    24   24     24    24       24       24         2557\n",
       "dtype: int64"
      ]
     },
     "execution_count": 8,
     "metadata": {},
     "output_type": "execute_result"
    }
   ],
   "source": [
    "df.groupby(df.index.floor('d')).count().value_counts()"
   ]
  },
  {
   "cell_type": "code",
   "execution_count": 9,
   "metadata": {},
   "outputs": [],
   "source": [
    "# removing the 2 values from first year if necessary\n",
    "np_array = df.Total_Heat.to_numpy()"
   ]
  },
  {
   "cell_type": "code",
   "execution_count": 10,
   "metadata": {},
   "outputs": [
    {
     "data": {
      "text/plain": [
       "array([0.36288133, 0.37196123, 0.397763  , 0.44954677, 0.59479823,\n",
       "       0.70574319, 0.68270219, 0.68017914, 0.65285127, 0.62472584])"
      ]
     },
     "execution_count": 10,
     "metadata": {},
     "output_type": "execute_result"
    }
   ],
   "source": [
    "np_array[:10]"
   ]
  },
  {
   "attachments": {},
   "cell_type": "markdown",
   "metadata": {},
   "source": [
    "## Creating input X and target y"
   ]
  },
  {
   "cell_type": "code",
   "execution_count": 11,
   "metadata": {},
   "outputs": [],
   "source": [
    "# Hyperparameter\n",
    "train_days = 30\n",
    "forecast_days = 2"
   ]
  },
  {
   "cell_type": "code",
   "execution_count": 12,
   "metadata": {},
   "outputs": [
    {
     "data": {
      "text/plain": [
       "60600"
      ]
     },
     "execution_count": 12,
     "metadata": {},
     "output_type": "execute_result"
    }
   ],
   "source": [
    "len(np_array[train_days*24:-forecast_days*24])"
   ]
  },
  {
   "attachments": {},
   "cell_type": "markdown",
   "metadata": {},
   "source": [
    "Possibility 1"
   ]
  },
  {
   "cell_type": "code",
   "execution_count": 10,
   "metadata": {},
   "outputs": [],
   "source": [
    "# creating tuples with x and y\n",
    "arr = [\n",
    "    (np_array[i-train_days*24:i], np_array[i:i+forecast_days*24]) for \n",
    "    i  in range(train_days*24, len(np_array)-forecast_days*24)\n",
    "    ]"
   ]
  },
  {
   "attachments": {},
   "cell_type": "markdown",
   "metadata": {},
   "source": [
    "Possibility 2"
   ]
  },
  {
   "cell_type": "code",
   "execution_count": 13,
   "metadata": {},
   "outputs": [],
   "source": [
    "# creating two seperate lists with a function\n",
    "\n",
    "def create_X_y(data_array: np.array, train_days:int, forecast_days:int):\n",
    "    \"\"\"\"\"\"\n",
    "    X_list = []\n",
    "    y_list = []\n",
    "\n",
    "    for i in range(train_days*24, len(data_array)-forecast_days*24, 24):\n",
    "        X_list.append(data_array[i-train_days*24:i])\n",
    "        y_list.append(data_array[i:i+forecast_days*24])\n",
    "    \n",
    "    return X_list, y_list\n",
    "    "
   ]
  },
  {
   "cell_type": "code",
   "execution_count": 14,
   "metadata": {},
   "outputs": [],
   "source": [
    "X_list, y_list = create_X_y(np_array, train_days, forecast_days)"
   ]
  },
  {
   "cell_type": "code",
   "execution_count": 15,
   "metadata": {},
   "outputs": [
    {
     "data": {
      "text/plain": [
       "(2525, 2525)"
      ]
     },
     "execution_count": 15,
     "metadata": {},
     "output_type": "execute_result"
    }
   ],
   "source": [
    "len(X_list), len(y_list)"
   ]
  },
  {
   "attachments": {},
   "cell_type": "markdown",
   "metadata": {},
   "source": [
    "## Data split in train, eval, test"
   ]
  },
  {
   "attachments": {},
   "cell_type": "markdown",
   "metadata": {},
   "source": [
    "Should decide that on a portion of data which is not for hyperparam tuning, but is only used at the very end.  (Test-data)\n",
    "-> Maybe last year of data\n",
    "\n",
    "Could decide that one portion of data will be used for hyperparam tuning, but not for training of data. (eval-data)\n",
    "-> Maybe second last year"
   ]
  },
  {
   "cell_type": "code",
   "execution_count": 41,
   "metadata": {},
   "outputs": [
    {
     "data": {
      "text/plain": [
       "(9528, 8760, 43848)"
      ]
     },
     "execution_count": 41,
     "metadata": {},
     "output_type": "execute_result"
    }
   ],
   "source": [
    "np_test = np_array[-365*24-train_days*24-forecast_days*24:]\n",
    "np_eval = np_array[-365*24*2:-365*24]\n",
    "np_train = np_array[:-365*24*2]\n",
    "len(np_test), len(np_eval), len(np_train)"
   ]
  },
  {
   "attachments": {},
   "cell_type": "markdown",
   "metadata": {},
   "source": [
    "# Testing ARIMA"
   ]
  },
  {
   "cell_type": "code",
   "execution_count": 17,
   "metadata": {},
   "outputs": [],
   "source": [
    "from statsmodels.tsa.statespace.sarimax import SARIMAX"
   ]
  },
  {
   "cell_type": "code",
   "execution_count": 19,
   "metadata": {},
   "outputs": [],
   "source": [
    "df[\"Total_Heat_daily_diff\"] = np.log2(df.Total_Heat)"
   ]
  },
  {
   "cell_type": "code",
   "execution_count": 18,
   "metadata": {},
   "outputs": [
    {
     "data": {
      "text/plain": [
       "2008-01-01 00:00:00+00:00    0.362881\n",
       "2008-01-01 01:00:00+00:00    0.371961\n",
       "2008-01-01 02:00:00+00:00    0.397763\n",
       "2008-01-01 03:00:00+00:00    0.449547\n",
       "2008-01-01 04:00:00+00:00    0.594798\n",
       "Name: Total_Heat, dtype: float64"
      ]
     },
     "execution_count": 18,
     "metadata": {},
     "output_type": "execute_result"
    }
   ],
   "source": [
    "df_small = df.Total_Heat.iloc[:-365*24*2]\n",
    "df_small.head()"
   ]
  },
  {
   "cell_type": "code",
   "execution_count": 19,
   "metadata": {},
   "outputs": [
    {
     "data": {
      "text/plain": [
       "<AxesSubplot:>"
      ]
     },
     "execution_count": 19,
     "metadata": {},
     "output_type": "execute_result"
    },
    {
     "data": {
      "image/png": "[encoded data removed]",
      "text/plain": [
       "<Figure size 432x288 with 1 Axes>"
      ]
     },
     "metadata": {
      "needs_background": "light"
     },
     "output_type": "display_data"
    }
   ],
   "source": [
    "df_small.plot()"
   ]
  },
  {
   "cell_type": "code",
   "execution_count": 20,
   "metadata": {},
   "outputs": [],
   "source": [
    "import itertools"
   ]
  },
  {
   "cell_type": "code",
   "execution_count": 21,
   "metadata": {},
   "outputs": [],
   "source": [
    "import warnings"
   ]
  },
  {
   "cell_type": "code",
   "execution_count": 22,
   "metadata": {},
   "outputs": [],
   "source": [
    "# Define the p, d and q parameters to take any value between 0 and 2\n",
    "p = d = q = range(0, 2)\n",
    "\n",
    "# Generate all different combinations of p, q and q triplets\n",
    "pdq = list(itertools.product(p, d, q))\n",
    "\n",
    "# Generate all different combinations of seasonal p, q and q triplets\n",
    "seasonal_pdq = [(x[0], x[1], x[2], 24) for x in list(itertools.product(p, d, q))]"
   ]
  },
  {
   "cell_type": "code",
   "execution_count": 25,
   "metadata": {},
   "outputs": [
    {
     "name": "stdout",
     "output_type": "stream",
     "text": [
      "ARIMA(0, 0, 0)x(0, 0, 0, 24)12 - AIC:365068.0495737295\n",
      "ARIMA(0, 0, 0)x(0, 0, 1, 24)12 - AIC:304496.00027046574\n",
      "ARIMA(0, 0, 0)x(0, 1, 0, 24)12 - AIC:-11445.302040344774\n",
      "ARIMA(0, 0, 0)x(0, 1, 1, 24)12 - AIC:-29762.590928906502\n",
      "ARIMA(0, 0, 0)x(1, 0, 0, 24)12 - AIC:-11448.069021980515\n",
      "ARIMA(0, 0, 0)x(1, 0, 1, 24)12 - AIC:-29796.491836634596\n",
      "ARIMA(0, 0, 0)x(1, 1, 0, 24)12 - AIC:-25028.857708794232\n",
      "ARIMA(0, 0, 0)x(1, 1, 1, 24)12 - AIC:-30558.1654242953\n",
      "ARIMA(0, 0, 1)x(0, 0, 0, 24)12 - AIC:304905.1483777455\n",
      "ARIMA(0, 0, 1)x(0, 0, 1, 24)12 - AIC:244479.51167597336\n",
      "ARIMA(0, 0, 1)x(0, 1, 0, 24)12 - AIC:-56312.00936652609\n",
      "ARIMA(0, 0, 1)x(0, 1, 1, 24)12 - AIC:-68461.1250554176\n",
      "ARIMA(0, 0, 1)x(1, 0, 0, 24)12 - AIC:-10710.025830676495\n",
      "ARIMA(0, 0, 1)x(1, 0, 1, 24)12 - AIC:-27920.468144691942\n",
      "ARIMA(0, 0, 1)x(1, 1, 0, 24)12 - AIC:-65501.992209172\n",
      "ARIMA(0, 0, 1)x(1, 1, 1, 24)12 - AIC:-68681.07849676831\n",
      "ARIMA(0, 1, 0)x(0, 0, 0, 24)12 - AIC:-6027.139007366087\n",
      "ARIMA(0, 1, 0)x(0, 0, 1, 24)12 - AIC:-55795.63857620519\n",
      "ARIMA(0, 1, 0)x(0, 1, 0, 24)12 - AIC:-128810.67304393822\n",
      "ARIMA(0, 1, 0)x(0, 1, 1, 24)12 - AIC:-128715.06054251292\n",
      "ARIMA(0, 1, 0)x(1, 0, 0, 24)12 - AIC:-129480.4559711234\n",
      "ARIMA(0, 1, 0)x(1, 0, 1, 24)12 - AIC:-129501.61197840888\n",
      "ARIMA(0, 1, 0)x(1, 1, 0, 24)12 - AIC:-128718.85900671824\n",
      "ARIMA(0, 1, 1)x(0, 0, 0, 24)12 - AIC:-30970.506137364246\n",
      "ARIMA(0, 1, 1)x(0, 0, 1, 24)12 - AIC:-72272.41612163676\n",
      "ARIMA(0, 1, 1)x(0, 1, 0, 24)12 - AIC:-128829.3936810159\n",
      "ARIMA(0, 1, 1)x(1, 0, 0, 24)12 - AIC:-129485.58410581925\n",
      "ARIMA(0, 1, 1)x(1, 0, 1, 24)12 - AIC:-129503.36191014608\n",
      "ARIMA(0, 1, 1)x(1, 1, 0, 24)12 - AIC:-128741.62900103882\n"
     ]
    },
    {
     "ename": "MemoryError",
     "evalue": "Unable to allocate 870. MiB for an array with shape (51, 51, 43848) and data type float64",
     "output_type": "error",
     "traceback": [
      "\u001b[1;31m---------------------------------------------------------------------------\u001b[0m",
      "\u001b[1;31mMemoryError\u001b[0m                               Traceback (most recent call last)",
      "File \u001b[1;32mstatsmodels\\tsa\\statespace\\_kalman_smoother.pyx:988\u001b[0m, in \u001b[0;36mstatsmodels.tsa.statespace._kalman_smoother.dKalmanSmoother.allocate_arrays\u001b[1;34m()\u001b[0m\n",
      "\u001b[1;31mMemoryError\u001b[0m: Unable to allocate 870. MiB for an array with shape (51, 51, 43848) and data type float64"
     ]
    },
    {
     "name": "stderr",
     "output_type": "stream",
     "text": [
      "Exception ignored in: 'statsmodels.tsa.statespace._kalman_smoother.dKalmanSmoother.reset_filter_method'\n",
      "Traceback (most recent call last):\n",
      "  File \"statsmodels\\tsa\\statespace\\_kalman_smoother.pyx\", line 988, in statsmodels.tsa.statespace._kalman_smoother.dKalmanSmoother.allocate_arrays\n",
      "numpy.core._exceptions._ArrayMemoryError: Unable to allocate 870. MiB for an array with shape (51, 51, 43848) and data type float64\n"
     ]
    },
    {
     "name": "stdout",
     "output_type": "stream",
     "text": [
      "ARIMA(1, 0, 0)x(0, 0, 0, 24)12 - AIC:-6028.624393697981\n",
      "ARIMA(1, 0, 0)x(0, 0, 1, 24)12 - AIC:-55797.98339951165\n",
      "ARIMA(1, 0, 0)x(0, 1, 0, 24)12 - AIC:-129571.35392946772\n",
      "ARIMA(1, 0, 0)x(0, 1, 1, 24)12 - AIC:-129486.05763116258\n",
      "ARIMA(1, 0, 0)x(1, 0, 0, 24)12 - AIC:-129683.63367474225\n",
      "ARIMA(1, 0, 0)x(1, 0, 1, 24)12 - AIC:-129693.09871939302\n",
      "ARIMA(1, 0, 0)x(1, 1, 0, 24)12 - AIC:-129480.08388061254\n",
      "ARIMA(1, 0, 0)x(1, 1, 1, 24)12 - AIC:-135315.32398123902\n",
      "ARIMA(1, 0, 1)x(0, 0, 0, 24)12 - AIC:-30973.2573950086\n",
      "ARIMA(1, 0, 1)x(0, 0, 1, 24)12 - AIC:-72276.04465769794\n",
      "ARIMA(1, 0, 1)x(0, 1, 0, 24)12 - AIC:-129567.11866998687\n",
      "ARIMA(1, 0, 1)x(0, 1, 1, 24)12 - AIC:-129482.05013878272\n",
      "ARIMA(1, 0, 1)x(1, 0, 0, 24)12 - AIC:-129685.04288216753\n",
      "ARIMA(1, 0, 1)x(1, 0, 1, 24)12 - AIC:-129690.9283232715\n",
      "ARIMA(1, 0, 1)x(1, 1, 0, 24)12 - AIC:-129479.90831607608\n",
      "ARIMA(1, 0, 1)x(1, 1, 1, 24)12 - AIC:-135320.54996058595\n",
      "ARIMA(1, 1, 0)x(0, 0, 0, 24)12 - AIC:-33825.036501789386\n",
      "ARIMA(1, 1, 0)x(0, 0, 1, 24)12 - AIC:-75488.07083498467\n",
      "ARIMA(1, 1, 0)x(0, 1, 0, 24)12 - AIC:-128832.53294451689\n",
      "ARIMA(1, 1, 0)x(0, 1, 1, 24)12 - AIC:-128737.22922060333\n",
      "ARIMA(1, 1, 0)x(1, 0, 0, 24)12 - AIC:-129481.46396417219\n",
      "ARIMA(1, 1, 0)x(1, 0, 1, 24)12 - AIC:-129507.1267819258\n",
      "ARIMA(1, 1, 0)x(1, 1, 0, 24)12 - AIC:-128736.88373132952\n",
      "ARIMA(1, 1, 0)x(1, 1, 1, 24)12 - AIC:-134862.21697209068\n",
      "ARIMA(1, 1, 1)x(0, 0, 0, 24)12 - AIC:-38591.193500694986\n",
      "ARIMA(1, 1, 1)x(0, 0, 1, 24)12 - AIC:-77005.72900945606\n",
      "ARIMA(1, 1, 1)x(0, 1, 0, 24)12 - AIC:-129275.5741682654\n",
      "ARIMA(1, 1, 1)x(0, 1, 1, 24)12 - AIC:-129184.2015290254\n",
      "ARIMA(1, 1, 1)x(1, 0, 0, 24)12 - AIC:-129482.93796843904\n",
      "ARIMA(1, 1, 1)x(1, 0, 1, 24)12 - AIC:-129504.87982178095\n",
      "ARIMA(1, 1, 1)x(1, 1, 0, 24)12 - AIC:-129185.77383120854\n"
     ]
    },
    {
     "ename": "MemoryError",
     "evalue": "Unable to allocate 870. MiB for an array with shape (51, 51, 43848) and data type float64",
     "output_type": "error",
     "traceback": [
      "\u001b[1;31m---------------------------------------------------------------------------\u001b[0m",
      "\u001b[1;31mMemoryError\u001b[0m                               Traceback (most recent call last)",
      "File \u001b[1;32mstatsmodels\\tsa\\statespace\\_kalman_smoother.pyx:1000\u001b[0m, in \u001b[0;36mstatsmodels.tsa.statespace._kalman_smoother.dKalmanSmoother.allocate_arrays\u001b[1;34m()\u001b[0m\n",
      "\u001b[1;31mMemoryError\u001b[0m: Unable to allocate 870. MiB for an array with shape (51, 51, 43848) and data type float64"
     ]
    },
    {
     "name": "stderr",
     "output_type": "stream",
     "text": [
      "Exception ignored in: 'statsmodels.tsa.statespace._kalman_smoother.dKalmanSmoother.reset_filter_method'\n",
      "Traceback (most recent call last):\n",
      "  File \"statsmodels\\tsa\\statespace\\_kalman_smoother.pyx\", line 1000, in statsmodels.tsa.statespace._kalman_smoother.dKalmanSmoother.allocate_arrays\n",
      "numpy.core._exceptions._ArrayMemoryError: Unable to allocate 870. MiB for an array with shape (51, 51, 43848) and data type float64\n"
     ]
    }
   ],
   "source": [
    "warnings.filterwarnings(\"ignore\") # specify to ignore warning messages\n",
    "\n",
    "for param in pdq:\n",
    "    for param_seasonal in seasonal_pdq:\n",
    "        try:\n",
    "            mod = SARIMAX(df_small,\n",
    "                                            order=param,\n",
    "                                            seasonal_order=param_seasonal,\n",
    "                                            enforce_stationarity=False,\n",
    "                                            enforce_invertibility=False)\n",
    "\n",
    "            results = mod.fit()\n",
    "\n",
    "            print('ARIMA{}x{}12 - AIC:{}'.format(param, param_seasonal, results.aic))\n",
    "        except:\n",
    "            continue"
   ]
  },
  {
   "attachments": {},
   "cell_type": "markdown",
   "metadata": {},
   "source": [
    "ARIMA(1, 0, 0)x(1, 1, 1, 24)12 - AIC:-135315.32398123902\n",
    "\n",
    "ARIMA(1, 0, 1)x(1, 1, 1, 24)12 - AIC:-135320.54996058595\n",
    "\n",
    "ARIMA(1, 0, 1)x(1, 1, 1, 24)12 - AIC:-135320.54996058595\n",
    "\n",
    "\n",
    "ARIMA(1, 0, 0)x(0, 0, 1, 24)"
   ]
  },
  {
   "cell_type": "code",
   "execution_count": 48,
   "metadata": {},
   "outputs": [],
   "source": [
    "optimal_order = (1, 0, 1)\n",
    "optimal_seasonal_order = (1, 1, 1, 24)"
   ]
  },
  {
   "cell_type": "code",
   "execution_count": 32,
   "metadata": {},
   "outputs": [
    {
     "name": "stderr",
     "output_type": "stream",
     "text": [
      "c:\\Users\\jabbe\\Envs\\idw\\lib\\site-packages\\statsmodels\\tsa\\base\\tsa_model.py:471: ValueWarning: No frequency information was provided, so inferred frequency H will be used.\n",
      "  self._init_dates(dates, freq)\n",
      "c:\\Users\\jabbe\\Envs\\idw\\lib\\site-packages\\statsmodels\\tsa\\base\\tsa_model.py:471: ValueWarning: No frequency information was provided, so inferred frequency H will be used.\n",
      "  self._init_dates(dates, freq)\n"
     ]
    },
    {
     "ename": "KeyboardInterrupt",
     "evalue": "",
     "output_type": "error",
     "traceback": [
      "\u001b[1;31m---------------------------------------------------------------------------\u001b[0m",
      "\u001b[1;31mKeyboardInterrupt\u001b[0m                         Traceback (most recent call last)",
      "\u001b[1;32mc:\\Users\\jabbe\\Documents\\DataScience\\4Semester\\Opencampus\\TSProject\\GitHub\\Time_series_ML\\traintestsplit.ipynb Cell 36\u001b[0m in \u001b[0;36m<cell line: 7>\u001b[1;34m()\u001b[0m\n\u001b[0;32m      <a href='vscode-notebook-cell:/c%3A/Users/jabbe/Documents/DataScience/4Semester/Opencampus/TSProject/GitHub/Time_series_ML/traintestsplit.ipynb#X44sZmlsZQ%3D%3D?line=0'>1</a>\u001b[0m mod \u001b[39m=\u001b[39mSARIMAX(df_small,\n\u001b[0;32m      <a href='vscode-notebook-cell:/c%3A/Users/jabbe/Documents/DataScience/4Semester/Opencampus/TSProject/GitHub/Time_series_ML/traintestsplit.ipynb#X44sZmlsZQ%3D%3D?line=1'>2</a>\u001b[0m                                 order\u001b[39m=\u001b[39moptimal_order,\n\u001b[0;32m      <a href='vscode-notebook-cell:/c%3A/Users/jabbe/Documents/DataScience/4Semester/Opencampus/TSProject/GitHub/Time_series_ML/traintestsplit.ipynb#X44sZmlsZQ%3D%3D?line=2'>3</a>\u001b[0m                                 seasonal_order\u001b[39m=\u001b[39moptimal_seasonal_order,\n\u001b[0;32m      <a href='vscode-notebook-cell:/c%3A/Users/jabbe/Documents/DataScience/4Semester/Opencampus/TSProject/GitHub/Time_series_ML/traintestsplit.ipynb#X44sZmlsZQ%3D%3D?line=3'>4</a>\u001b[0m                                 enforce_stationarity\u001b[39m=\u001b[39m\u001b[39mFalse\u001b[39;00m,\n\u001b[0;32m      <a href='vscode-notebook-cell:/c%3A/Users/jabbe/Documents/DataScience/4Semester/Opencampus/TSProject/GitHub/Time_series_ML/traintestsplit.ipynb#X44sZmlsZQ%3D%3D?line=4'>5</a>\u001b[0m                                 enforce_invertibility\u001b[39m=\u001b[39m\u001b[39mFalse\u001b[39;00m)\n\u001b[1;32m----> <a href='vscode-notebook-cell:/c%3A/Users/jabbe/Documents/DataScience/4Semester/Opencampus/TSProject/GitHub/Time_series_ML/traintestsplit.ipynb#X44sZmlsZQ%3D%3D?line=6'>7</a>\u001b[0m results \u001b[39m=\u001b[39m mod\u001b[39m.\u001b[39;49mfit()\n\u001b[0;32m      <a href='vscode-notebook-cell:/c%3A/Users/jabbe/Documents/DataScience/4Semester/Opencampus/TSProject/GitHub/Time_series_ML/traintestsplit.ipynb#X44sZmlsZQ%3D%3D?line=8'>9</a>\u001b[0m \u001b[39mprint\u001b[39m(results\u001b[39m.\u001b[39msummary()\u001b[39m.\u001b[39mtables[\u001b[39m1\u001b[39m])\n",
      "File \u001b[1;32mc:\\Users\\jabbe\\Envs\\idw\\lib\\site-packages\\statsmodels\\tsa\\statespace\\mlemodel.py:704\u001b[0m, in \u001b[0;36mMLEModel.fit\u001b[1;34m(self, start_params, transformed, includes_fixed, cov_type, cov_kwds, method, maxiter, full_output, disp, callback, return_params, optim_score, optim_complex_step, optim_hessian, flags, low_memory, **kwargs)\u001b[0m\n\u001b[0;32m    702\u001b[0m         flags[\u001b[39m'\u001b[39m\u001b[39mhessian_method\u001b[39m\u001b[39m'\u001b[39m] \u001b[39m=\u001b[39m optim_hessian\n\u001b[0;32m    703\u001b[0m     fargs \u001b[39m=\u001b[39m (flags,)\n\u001b[1;32m--> 704\u001b[0m     mlefit \u001b[39m=\u001b[39m \u001b[39msuper\u001b[39m(MLEModel, \u001b[39mself\u001b[39m)\u001b[39m.\u001b[39mfit(start_params, method\u001b[39m=\u001b[39mmethod,\n\u001b[0;32m    705\u001b[0m                                        fargs\u001b[39m=\u001b[39mfargs,\n\u001b[0;32m    706\u001b[0m                                        maxiter\u001b[39m=\u001b[39mmaxiter,\n\u001b[0;32m    707\u001b[0m                                        full_output\u001b[39m=\u001b[39mfull_output,\n\u001b[0;32m    708\u001b[0m                                        disp\u001b[39m=\u001b[39mdisp, callback\u001b[39m=\u001b[39mcallback,\n\u001b[0;32m    709\u001b[0m                                        skip_hessian\u001b[39m=\u001b[39m\u001b[39mTrue\u001b[39;00m, \u001b[39m*\u001b[39m\u001b[39m*\u001b[39mkwargs)\n\u001b[0;32m    711\u001b[0m \u001b[39m# Just return the fitted parameters if requested\u001b[39;00m\n\u001b[0;32m    712\u001b[0m \u001b[39mif\u001b[39;00m return_params:\n",
      "File \u001b[1;32mc:\\Users\\jabbe\\Envs\\idw\\lib\\site-packages\\statsmodels\\base\\model.py:563\u001b[0m, in \u001b[0;36mLikelihoodModel.fit\u001b[1;34m(self, start_params, method, maxiter, full_output, disp, fargs, callback, retall, skip_hessian, **kwargs)\u001b[0m\n\u001b[0;32m    560\u001b[0m     \u001b[39mdel\u001b[39;00m kwargs[\u001b[39m\"\u001b[39m\u001b[39muse_t\u001b[39m\u001b[39m\"\u001b[39m]\n\u001b[0;32m    562\u001b[0m optimizer \u001b[39m=\u001b[39m Optimizer()\n\u001b[1;32m--> 563\u001b[0m xopt, retvals, optim_settings \u001b[39m=\u001b[39m optimizer\u001b[39m.\u001b[39;49m_fit(f, score, start_params,\n\u001b[0;32m    564\u001b[0m                                                fargs, kwargs,\n\u001b[0;32m    565\u001b[0m                                                hessian\u001b[39m=\u001b[39;49mhess,\n\u001b[0;32m    566\u001b[0m                                                method\u001b[39m=\u001b[39;49mmethod,\n\u001b[0;32m    567\u001b[0m                                                disp\u001b[39m=\u001b[39;49mdisp,\n\u001b[0;32m    568\u001b[0m                                                maxiter\u001b[39m=\u001b[39;49mmaxiter,\n\u001b[0;32m    569\u001b[0m                                                callback\u001b[39m=\u001b[39;49mcallback,\n\u001b[0;32m    570\u001b[0m                                                retall\u001b[39m=\u001b[39;49mretall,\n\u001b[0;32m    571\u001b[0m                                                full_output\u001b[39m=\u001b[39;49mfull_output)\n\u001b[0;32m    572\u001b[0m \u001b[39m# Restore cov_type, cov_kwds and use_t\u001b[39;00m\n\u001b[0;32m    573\u001b[0m optim_settings\u001b[39m.\u001b[39mupdate(kwds)\n",
      "File \u001b[1;32mc:\\Users\\jabbe\\Envs\\idw\\lib\\site-packages\\statsmodels\\base\\optimizer.py:241\u001b[0m, in \u001b[0;36mOptimizer._fit\u001b[1;34m(self, objective, gradient, start_params, fargs, kwargs, hessian, method, maxiter, full_output, disp, callback, retall)\u001b[0m\n\u001b[0;32m    238\u001b[0m     fit_funcs\u001b[39m.\u001b[39mupdate(extra_fit_funcs)\n\u001b[0;32m    240\u001b[0m func \u001b[39m=\u001b[39m fit_funcs[method]\n\u001b[1;32m--> 241\u001b[0m xopt, retvals \u001b[39m=\u001b[39m func(objective, gradient, start_params, fargs, kwargs,\n\u001b[0;32m    242\u001b[0m                      disp\u001b[39m=\u001b[39;49mdisp, maxiter\u001b[39m=\u001b[39;49mmaxiter, callback\u001b[39m=\u001b[39;49mcallback,\n\u001b[0;32m    243\u001b[0m                      retall\u001b[39m=\u001b[39;49mretall, full_output\u001b[39m=\u001b[39;49mfull_output,\n\u001b[0;32m    244\u001b[0m                      hess\u001b[39m=\u001b[39;49mhessian)\n\u001b[0;32m    246\u001b[0m optim_settings \u001b[39m=\u001b[39m {\u001b[39m'\u001b[39m\u001b[39moptimizer\u001b[39m\u001b[39m'\u001b[39m: method, \u001b[39m'\u001b[39m\u001b[39mstart_params\u001b[39m\u001b[39m'\u001b[39m: start_params,\n\u001b[0;32m    247\u001b[0m                   \u001b[39m'\u001b[39m\u001b[39mmaxiter\u001b[39m\u001b[39m'\u001b[39m: maxiter, \u001b[39m'\u001b[39m\u001b[39mfull_output\u001b[39m\u001b[39m'\u001b[39m: full_output,\n\u001b[0;32m    248\u001b[0m                   \u001b[39m'\u001b[39m\u001b[39mdisp\u001b[39m\u001b[39m'\u001b[39m: disp, \u001b[39m'\u001b[39m\u001b[39mfargs\u001b[39m\u001b[39m'\u001b[39m: fargs, \u001b[39m'\u001b[39m\u001b[39mcallback\u001b[39m\u001b[39m'\u001b[39m: callback,\n\u001b[0;32m    249\u001b[0m                   \u001b[39m'\u001b[39m\u001b[39mretall\u001b[39m\u001b[39m'\u001b[39m: retall, \u001b[39m\"\u001b[39m\u001b[39mextra_fit_funcs\u001b[39m\u001b[39m\"\u001b[39m: extra_fit_funcs}\n\u001b[0;32m    250\u001b[0m optim_settings\u001b[39m.\u001b[39mupdate(kwargs)\n",
      "File \u001b[1;32mc:\\Users\\jabbe\\Envs\\idw\\lib\\site-packages\\statsmodels\\base\\optimizer.py:651\u001b[0m, in \u001b[0;36m_fit_lbfgs\u001b[1;34m(f, score, start_params, fargs, kwargs, disp, maxiter, callback, retall, full_output, hess)\u001b[0m\n\u001b[0;32m    648\u001b[0m \u001b[39melif\u001b[39;00m approx_grad:\n\u001b[0;32m    649\u001b[0m     func \u001b[39m=\u001b[39m f\n\u001b[1;32m--> 651\u001b[0m retvals \u001b[39m=\u001b[39m optimize\u001b[39m.\u001b[39mfmin_l_bfgs_b(func, start_params, maxiter\u001b[39m=\u001b[39mmaxiter,\n\u001b[0;32m    652\u001b[0m                                  callback\u001b[39m=\u001b[39mcallback, args\u001b[39m=\u001b[39mfargs,\n\u001b[0;32m    653\u001b[0m                                  bounds\u001b[39m=\u001b[39mbounds, disp\u001b[39m=\u001b[39mdisp,\n\u001b[0;32m    654\u001b[0m                                  \u001b[39m*\u001b[39m\u001b[39m*\u001b[39mextra_kwargs)\n\u001b[0;32m    656\u001b[0m \u001b[39mif\u001b[39;00m full_output:\n\u001b[0;32m    657\u001b[0m     xopt, fopt, d \u001b[39m=\u001b[39m retvals\n",
      "File \u001b[1;32mc:\\Users\\jabbe\\Envs\\idw\\lib\\site-packages\\scipy\\optimize\\_lbfgsb_py.py:197\u001b[0m, in \u001b[0;36mfmin_l_bfgs_b\u001b[1;34m(func, x0, fprime, args, approx_grad, bounds, m, factr, pgtol, epsilon, iprint, maxfun, maxiter, disp, callback, maxls)\u001b[0m\n\u001b[0;32m    185\u001b[0m \u001b[39m# build options\u001b[39;00m\n\u001b[0;32m    186\u001b[0m opts \u001b[39m=\u001b[39m {\u001b[39m'\u001b[39m\u001b[39mdisp\u001b[39m\u001b[39m'\u001b[39m: disp,\n\u001b[0;32m    187\u001b[0m         \u001b[39m'\u001b[39m\u001b[39miprint\u001b[39m\u001b[39m'\u001b[39m: iprint,\n\u001b[0;32m    188\u001b[0m         \u001b[39m'\u001b[39m\u001b[39mmaxcor\u001b[39m\u001b[39m'\u001b[39m: m,\n\u001b[1;32m   (...)\u001b[0m\n\u001b[0;32m    194\u001b[0m         \u001b[39m'\u001b[39m\u001b[39mcallback\u001b[39m\u001b[39m'\u001b[39m: callback,\n\u001b[0;32m    195\u001b[0m         \u001b[39m'\u001b[39m\u001b[39mmaxls\u001b[39m\u001b[39m'\u001b[39m: maxls}\n\u001b[1;32m--> 197\u001b[0m res \u001b[39m=\u001b[39m _minimize_lbfgsb(fun, x0, args\u001b[39m=\u001b[39margs, jac\u001b[39m=\u001b[39mjac, bounds\u001b[39m=\u001b[39mbounds,\n\u001b[0;32m    198\u001b[0m                        \u001b[39m*\u001b[39m\u001b[39m*\u001b[39mopts)\n\u001b[0;32m    199\u001b[0m d \u001b[39m=\u001b[39m {\u001b[39m'\u001b[39m\u001b[39mgrad\u001b[39m\u001b[39m'\u001b[39m: res[\u001b[39m'\u001b[39m\u001b[39mjac\u001b[39m\u001b[39m'\u001b[39m],\n\u001b[0;32m    200\u001b[0m      \u001b[39m'\u001b[39m\u001b[39mtask\u001b[39m\u001b[39m'\u001b[39m: res[\u001b[39m'\u001b[39m\u001b[39mmessage\u001b[39m\u001b[39m'\u001b[39m],\n\u001b[0;32m    201\u001b[0m      \u001b[39m'\u001b[39m\u001b[39mfuncalls\u001b[39m\u001b[39m'\u001b[39m: res[\u001b[39m'\u001b[39m\u001b[39mnfev\u001b[39m\u001b[39m'\u001b[39m],\n\u001b[0;32m    202\u001b[0m      \u001b[39m'\u001b[39m\u001b[39mnit\u001b[39m\u001b[39m'\u001b[39m: res[\u001b[39m'\u001b[39m\u001b[39mnit\u001b[39m\u001b[39m'\u001b[39m],\n\u001b[0;32m    203\u001b[0m      \u001b[39m'\u001b[39m\u001b[39mwarnflag\u001b[39m\u001b[39m'\u001b[39m: res[\u001b[39m'\u001b[39m\u001b[39mstatus\u001b[39m\u001b[39m'\u001b[39m]}\n\u001b[0;32m    204\u001b[0m f \u001b[39m=\u001b[39m res[\u001b[39m'\u001b[39m\u001b[39mfun\u001b[39m\u001b[39m'\u001b[39m]\n",
      "File \u001b[1;32mc:\\Users\\jabbe\\Envs\\idw\\lib\\site-packages\\scipy\\optimize\\_lbfgsb_py.py:359\u001b[0m, in \u001b[0;36m_minimize_lbfgsb\u001b[1;34m(fun, x0, args, jac, bounds, disp, maxcor, ftol, gtol, eps, maxfun, maxiter, iprint, callback, maxls, finite_diff_rel_step, **unknown_options)\u001b[0m\n\u001b[0;32m    353\u001b[0m task_str \u001b[39m=\u001b[39m task\u001b[39m.\u001b[39mtobytes()\n\u001b[0;32m    354\u001b[0m \u001b[39mif\u001b[39;00m task_str\u001b[39m.\u001b[39mstartswith(\u001b[39mb\u001b[39m\u001b[39m'\u001b[39m\u001b[39mFG\u001b[39m\u001b[39m'\u001b[39m):\n\u001b[0;32m    355\u001b[0m     \u001b[39m# The minimization routine wants f and g at the current x.\u001b[39;00m\n\u001b[0;32m    356\u001b[0m     \u001b[39m# Note that interruptions due to maxfun are postponed\u001b[39;00m\n\u001b[0;32m    357\u001b[0m     \u001b[39m# until the completion of the current minimization iteration.\u001b[39;00m\n\u001b[0;32m    358\u001b[0m     \u001b[39m# Overwrite f and g:\u001b[39;00m\n\u001b[1;32m--> 359\u001b[0m     f, g \u001b[39m=\u001b[39m func_and_grad(x)\n\u001b[0;32m    360\u001b[0m \u001b[39melif\u001b[39;00m task_str\u001b[39m.\u001b[39mstartswith(\u001b[39mb\u001b[39m\u001b[39m'\u001b[39m\u001b[39mNEW_X\u001b[39m\u001b[39m'\u001b[39m):\n\u001b[0;32m    361\u001b[0m     \u001b[39m# new iteration\u001b[39;00m\n\u001b[0;32m    362\u001b[0m     n_iterations \u001b[39m+\u001b[39m\u001b[39m=\u001b[39m \u001b[39m1\u001b[39m\n",
      "File \u001b[1;32mc:\\Users\\jabbe\\Envs\\idw\\lib\\site-packages\\scipy\\optimize\\_differentiable_functions.py:286\u001b[0m, in \u001b[0;36mScalarFunction.fun_and_grad\u001b[1;34m(self, x)\u001b[0m\n\u001b[0;32m    284\u001b[0m     \u001b[39mself\u001b[39m\u001b[39m.\u001b[39m_update_x_impl(x)\n\u001b[0;32m    285\u001b[0m \u001b[39mself\u001b[39m\u001b[39m.\u001b[39m_update_fun()\n\u001b[1;32m--> 286\u001b[0m \u001b[39mself\u001b[39;49m\u001b[39m.\u001b[39;49m_update_grad()\n\u001b[0;32m    287\u001b[0m \u001b[39mreturn\u001b[39;00m \u001b[39mself\u001b[39m\u001b[39m.\u001b[39mf, \u001b[39mself\u001b[39m\u001b[39m.\u001b[39mg\n",
      "File \u001b[1;32mc:\\Users\\jabbe\\Envs\\idw\\lib\\site-packages\\scipy\\optimize\\_differentiable_functions.py:256\u001b[0m, in \u001b[0;36mScalarFunction._update_grad\u001b[1;34m(self)\u001b[0m\n\u001b[0;32m    254\u001b[0m \u001b[39mdef\u001b[39;00m \u001b[39m_update_grad\u001b[39m(\u001b[39mself\u001b[39m):\n\u001b[0;32m    255\u001b[0m     \u001b[39mif\u001b[39;00m \u001b[39mnot\u001b[39;00m \u001b[39mself\u001b[39m\u001b[39m.\u001b[39mg_updated:\n\u001b[1;32m--> 256\u001b[0m         \u001b[39mself\u001b[39;49m\u001b[39m.\u001b[39;49m_update_grad_impl()\n\u001b[0;32m    257\u001b[0m         \u001b[39mself\u001b[39m\u001b[39m.\u001b[39mg_updated \u001b[39m=\u001b[39m \u001b[39mTrue\u001b[39;00m\n",
      "File \u001b[1;32mc:\\Users\\jabbe\\Envs\\idw\\lib\\site-packages\\scipy\\optimize\\_differentiable_functions.py:173\u001b[0m, in \u001b[0;36mScalarFunction.__init__.<locals>.update_grad\u001b[1;34m()\u001b[0m\n\u001b[0;32m    171\u001b[0m \u001b[39mself\u001b[39m\u001b[39m.\u001b[39m_update_fun()\n\u001b[0;32m    172\u001b[0m \u001b[39mself\u001b[39m\u001b[39m.\u001b[39mngev \u001b[39m+\u001b[39m\u001b[39m=\u001b[39m \u001b[39m1\u001b[39m\n\u001b[1;32m--> 173\u001b[0m \u001b[39mself\u001b[39m\u001b[39m.\u001b[39mg \u001b[39m=\u001b[39m approx_derivative(fun_wrapped, \u001b[39mself\u001b[39m\u001b[39m.\u001b[39mx, f0\u001b[39m=\u001b[39m\u001b[39mself\u001b[39m\u001b[39m.\u001b[39mf,\n\u001b[0;32m    174\u001b[0m                            \u001b[39m*\u001b[39m\u001b[39m*\u001b[39mfinite_diff_options)\n",
      "File \u001b[1;32mc:\\Users\\jabbe\\Envs\\idw\\lib\\site-packages\\scipy\\optimize\\_numdiff.py:505\u001b[0m, in \u001b[0;36mapprox_derivative\u001b[1;34m(fun, x0, method, rel_step, abs_step, f0, bounds, sparsity, as_linear_operator, args, kwargs)\u001b[0m\n\u001b[0;32m    502\u001b[0m     use_one_sided \u001b[39m=\u001b[39m \u001b[39mFalse\u001b[39;00m\n\u001b[0;32m    504\u001b[0m \u001b[39mif\u001b[39;00m sparsity \u001b[39mis\u001b[39;00m \u001b[39mNone\u001b[39;00m:\n\u001b[1;32m--> 505\u001b[0m     \u001b[39mreturn\u001b[39;00m _dense_difference(fun_wrapped, x0, f0, h,\n\u001b[0;32m    506\u001b[0m                              use_one_sided, method)\n\u001b[0;32m    507\u001b[0m \u001b[39melse\u001b[39;00m:\n\u001b[0;32m    508\u001b[0m     \u001b[39mif\u001b[39;00m \u001b[39mnot\u001b[39;00m issparse(sparsity) \u001b[39mand\u001b[39;00m \u001b[39mlen\u001b[39m(sparsity) \u001b[39m==\u001b[39m \u001b[39m2\u001b[39m:\n",
      "File \u001b[1;32mc:\\Users\\jabbe\\Envs\\idw\\lib\\site-packages\\scipy\\optimize\\_numdiff.py:576\u001b[0m, in \u001b[0;36m_dense_difference\u001b[1;34m(fun, x0, f0, h, use_one_sided, method)\u001b[0m\n\u001b[0;32m    574\u001b[0m     x \u001b[39m=\u001b[39m x0 \u001b[39m+\u001b[39m h_vecs[i]\n\u001b[0;32m    575\u001b[0m     dx \u001b[39m=\u001b[39m x[i] \u001b[39m-\u001b[39m x0[i]  \u001b[39m# Recompute dx as exactly representable number.\u001b[39;00m\n\u001b[1;32m--> 576\u001b[0m     df \u001b[39m=\u001b[39m fun(x) \u001b[39m-\u001b[39m f0\n\u001b[0;32m    577\u001b[0m \u001b[39melif\u001b[39;00m method \u001b[39m==\u001b[39m \u001b[39m'\u001b[39m\u001b[39m3-point\u001b[39m\u001b[39m'\u001b[39m \u001b[39mand\u001b[39;00m use_one_sided[i]:\n\u001b[0;32m    578\u001b[0m     x1 \u001b[39m=\u001b[39m x0 \u001b[39m+\u001b[39m h_vecs[i]\n",
      "File \u001b[1;32mc:\\Users\\jabbe\\Envs\\idw\\lib\\site-packages\\scipy\\optimize\\_numdiff.py:456\u001b[0m, in \u001b[0;36mapprox_derivative.<locals>.fun_wrapped\u001b[1;34m(x)\u001b[0m\n\u001b[0;32m    455\u001b[0m \u001b[39mdef\u001b[39;00m \u001b[39mfun_wrapped\u001b[39m(x):\n\u001b[1;32m--> 456\u001b[0m     f \u001b[39m=\u001b[39m np\u001b[39m.\u001b[39matleast_1d(fun(x, \u001b[39m*\u001b[39margs, \u001b[39m*\u001b[39m\u001b[39m*\u001b[39mkwargs))\n\u001b[0;32m    457\u001b[0m     \u001b[39mif\u001b[39;00m f\u001b[39m.\u001b[39mndim \u001b[39m>\u001b[39m \u001b[39m1\u001b[39m:\n\u001b[0;32m    458\u001b[0m         \u001b[39mraise\u001b[39;00m \u001b[39mRuntimeError\u001b[39;00m(\u001b[39m\"\u001b[39m\u001b[39m`fun` return value has \u001b[39m\u001b[39m\"\u001b[39m\n\u001b[0;32m    459\u001b[0m                            \u001b[39m\"\u001b[39m\u001b[39mmore than 1 dimension.\u001b[39m\u001b[39m\"\u001b[39m)\n",
      "File \u001b[1;32mc:\\Users\\jabbe\\Envs\\idw\\lib\\site-packages\\scipy\\optimize\\_differentiable_functions.py:137\u001b[0m, in \u001b[0;36mScalarFunction.__init__.<locals>.fun_wrapped\u001b[1;34m(x)\u001b[0m\n\u001b[0;32m    133\u001b[0m \u001b[39mself\u001b[39m\u001b[39m.\u001b[39mnfev \u001b[39m+\u001b[39m\u001b[39m=\u001b[39m \u001b[39m1\u001b[39m\n\u001b[0;32m    134\u001b[0m \u001b[39m# Send a copy because the user may overwrite it.\u001b[39;00m\n\u001b[0;32m    135\u001b[0m \u001b[39m# Overwriting results in undefined behaviour because\u001b[39;00m\n\u001b[0;32m    136\u001b[0m \u001b[39m# fun(self.x) will change self.x, with the two no longer linked.\u001b[39;00m\n\u001b[1;32m--> 137\u001b[0m fx \u001b[39m=\u001b[39m fun(np\u001b[39m.\u001b[39;49mcopy(x), \u001b[39m*\u001b[39;49margs)\n\u001b[0;32m    138\u001b[0m \u001b[39m# Make sure the function returns a true scalar\u001b[39;00m\n\u001b[0;32m    139\u001b[0m \u001b[39mif\u001b[39;00m \u001b[39mnot\u001b[39;00m np\u001b[39m.\u001b[39misscalar(fx):\n",
      "File \u001b[1;32mc:\\Users\\jabbe\\Envs\\idw\\lib\\site-packages\\statsmodels\\base\\model.py:531\u001b[0m, in \u001b[0;36mLikelihoodModel.fit.<locals>.f\u001b[1;34m(params, *args)\u001b[0m\n\u001b[0;32m    530\u001b[0m \u001b[39mdef\u001b[39;00m \u001b[39mf\u001b[39m(params, \u001b[39m*\u001b[39margs):\n\u001b[1;32m--> 531\u001b[0m     \u001b[39mreturn\u001b[39;00m \u001b[39m-\u001b[39m\u001b[39mself\u001b[39;49m\u001b[39m.\u001b[39;49mloglike(params, \u001b[39m*\u001b[39;49margs) \u001b[39m/\u001b[39m nobs\n",
      "File \u001b[1;32mc:\\Users\\jabbe\\Envs\\idw\\lib\\site-packages\\statsmodels\\tsa\\statespace\\mlemodel.py:939\u001b[0m, in \u001b[0;36mMLEModel.loglike\u001b[1;34m(self, params, *args, **kwargs)\u001b[0m\n\u001b[0;32m    936\u001b[0m \u001b[39mif\u001b[39;00m complex_step:\n\u001b[0;32m    937\u001b[0m     kwargs[\u001b[39m'\u001b[39m\u001b[39minversion_method\u001b[39m\u001b[39m'\u001b[39m] \u001b[39m=\u001b[39m INVERT_UNIVARIATE \u001b[39m|\u001b[39m SOLVE_LU\n\u001b[1;32m--> 939\u001b[0m loglike \u001b[39m=\u001b[39m \u001b[39mself\u001b[39m\u001b[39m.\u001b[39mssm\u001b[39m.\u001b[39mloglike(complex_step\u001b[39m=\u001b[39mcomplex_step, \u001b[39m*\u001b[39m\u001b[39m*\u001b[39mkwargs)\n\u001b[0;32m    941\u001b[0m \u001b[39m# Koopman, Shephard, and Doornik recommend maximizing the average\u001b[39;00m\n\u001b[0;32m    942\u001b[0m \u001b[39m# likelihood to avoid scale issues, but the averaging is done\u001b[39;00m\n\u001b[0;32m    943\u001b[0m \u001b[39m# automatically in the base model `fit` method\u001b[39;00m\n\u001b[0;32m    944\u001b[0m \u001b[39mreturn\u001b[39;00m loglike\n",
      "File \u001b[1;32mc:\\Users\\jabbe\\Envs\\idw\\lib\\site-packages\\statsmodels\\tsa\\statespace\\kalman_filter.py:983\u001b[0m, in \u001b[0;36mKalmanFilter.loglike\u001b[1;34m(self, **kwargs)\u001b[0m\n\u001b[0;32m    967\u001b[0m \u001b[39mr\u001b[39m\u001b[39m\"\"\"\u001b[39;00m\n\u001b[0;32m    968\u001b[0m \u001b[39mCalculate the loglikelihood associated with the statespace model.\u001b[39;00m\n\u001b[0;32m    969\u001b[0m \n\u001b[1;32m   (...)\u001b[0m\n\u001b[0;32m    979\u001b[0m \u001b[39m    The joint loglikelihood.\u001b[39;00m\n\u001b[0;32m    980\u001b[0m \u001b[39m\"\"\"\u001b[39;00m\n\u001b[0;32m    981\u001b[0m kwargs\u001b[39m.\u001b[39msetdefault(\u001b[39m'\u001b[39m\u001b[39mconserve_memory\u001b[39m\u001b[39m'\u001b[39m,\n\u001b[0;32m    982\u001b[0m                   MEMORY_CONSERVE \u001b[39m^\u001b[39m MEMORY_NO_LIKELIHOOD)\n\u001b[1;32m--> 983\u001b[0m kfilter \u001b[39m=\u001b[39m \u001b[39mself\u001b[39m\u001b[39m.\u001b[39m_filter(\u001b[39m*\u001b[39m\u001b[39m*\u001b[39mkwargs)\n\u001b[0;32m    984\u001b[0m loglikelihood_burn \u001b[39m=\u001b[39m kwargs\u001b[39m.\u001b[39mget(\u001b[39m'\u001b[39m\u001b[39mloglikelihood_burn\u001b[39m\u001b[39m'\u001b[39m,\n\u001b[0;32m    985\u001b[0m                                 \u001b[39mself\u001b[39m\u001b[39m.\u001b[39mloglikelihood_burn)\n\u001b[0;32m    986\u001b[0m \u001b[39mif\u001b[39;00m \u001b[39mnot\u001b[39;00m (kwargs[\u001b[39m'\u001b[39m\u001b[39mconserve_memory\u001b[39m\u001b[39m'\u001b[39m] \u001b[39m&\u001b[39m MEMORY_NO_LIKELIHOOD):\n",
      "\u001b[1;31mKeyboardInterrupt\u001b[0m: "
     ]
    }
   ],
   "source": [
    "mod =SARIMAX(df_small,\n",
    "                                order=optimal_order,\n",
    "                                seasonal_order=optimal_seasonal_order,\n",
    "                                enforce_stationarity=False,\n",
    "                                enforce_invertibility=False)\n",
    "\n",
    "results = mod.fit()\n",
    "\n",
    "print(results.summary().tables[1])"
   ]
  },
  {
   "cell_type": "code",
   "execution_count": null,
   "metadata": {},
   "outputs": [
    {
     "data": {
      "image/png": "[encoded data removed]",
      "text/plain": [
       "<Figure size 1080x864 with 4 Axes>"
      ]
     },
     "execution_count": 25,
     "metadata": {},
     "output_type": "execute_result"
    },
    {
     "data": {
      "image/png": "[encoded data removed]",
      "text/plain": [
       "<Figure size 1080x864 with 4 Axes>"
      ]
     },
     "metadata": {
      "needs_background": "light"
     },
     "output_type": "display_data"
    }
   ],
   "source": [
    "results.plot_diagnostics(figsize=(15, 12))"
   ]
  },
  {
   "attachments": {},
   "cell_type": "markdown",
   "metadata": {},
   "source": [
    "Iteratively go through the eval data to calaculate mean loss"
   ]
  },
  {
   "cell_type": "code",
   "execution_count": 42,
   "metadata": {},
   "outputs": [],
   "source": [
    "X_list, y_list = create_X_y(np_test, train_days, forecast_days)\n",
    "mse_dict={}"
   ]
  },
  {
   "cell_type": "code",
   "execution_count": 44,
   "metadata": {},
   "outputs": [
    {
     "data": {
      "text/plain": [
       "array([0.24370773, 0.25287965, 0.27394209, 0.3242151 , 0.45037501,\n",
       "       0.53725134, 0.51281078, 0.49686728, 0.47259927, 0.4473995 ,\n",
       "       0.4344085 , 0.41851485, 0.40913971, 0.40777466, 0.41766361,\n",
       "       0.4390213 , 0.45833525, 0.46399485, 0.45927085, 0.44470774,\n",
       "       0.40552769, 0.32047271, 0.257688  , 0.23322827, 0.24597386,\n",
       "       0.24364637, 0.2687963 , 0.3305994 , 0.45841577, 0.50603537,\n",
       "       0.47779874, 0.46262979, 0.44183193, 0.41899799, 0.40667802,\n",
       "       0.39439639, 0.39033958, 0.39877529, 0.40751392, 0.42504103,\n",
       "       0.44655976, 0.45256062, 0.45017945, 0.44002592, 0.39884814,\n",
       "       0.31561834, 0.25589733, 0.24794475, 0.25683676, 0.26374254,\n",
       "       0.28692158, 0.33284636, 0.45421709, 0.53943312, 0.52175263,\n",
       "       0.51053314, 0.49045614, 0.46862682, 0.44775227, 0.43398672,\n",
       "       0.43322367, 0.43618767, 0.44397153, 0.46084296, 0.47629181,\n",
       "       0.47919447, 0.47373809, 0.45368794, 0.41221875, 0.32475958,\n",
       "       0.2645401 , 0.2822781 , 0.29401908, 0.30142717, 0.3249398 ,\n",
       "       0.37451111, 0.50853541, 0.60378227, 0.58742082, 0.57490912,\n",
       "       0.55220172, 0.52649197, 0.5034318 , 0.48944769, 0.48639166,\n",
       "       0.49051749, 0.49951303, 0.51913373, 0.53084787, 0.53064464,\n",
       "       0.52455943, 0.50785672, 0.45891808, 0.36369423, 0.29845933,\n",
       "       0.28454808, 0.2957484 , 0.3035476 , 0.32715609, 0.37651651,\n",
       "       0.50968957, 0.60524701, 0.58833724, 0.57713692, 0.55377383,\n",
       "       0.52840534, 0.50535284, 0.49177902, 0.48827819, 0.49221997,\n",
       "       0.50110048, 0.52080553, 0.53222826, 0.53223592, 0.52606252,\n",
       "       0.50890735, 0.45966579, 0.36543122, 0.30044172, 0.26965521,\n",
       "       0.28132333, 0.28844384, 0.31136981, 0.35999018, 0.49053666,\n",
       "       0.58232872, 0.56694121, 0.55370865, 0.53189466, 0.50687127,\n",
       "       0.48442844, 0.47086228, 0.4684236 , 0.47232703, 0.4812037 ,\n",
       "       0.50041795, 0.5119442 , 0.51197871, 0.50618491, 0.49039096,\n",
       "       0.44307428, 0.34955291, 0.28581727, 0.27118131, 0.28281109,\n",
       "       0.2910014 , 0.31124711, 0.36076474, 0.49300986, 0.59468704,\n",
       "       0.57809169, 0.56279621, 0.54004663, 0.51656084, 0.49419086,\n",
       "       0.47882636, 0.47448197, 0.47897207, 0.4874768 , 0.50705532,\n",
       "       0.51829016, 0.52016902, 0.51454393, 0.49703216, 0.44978067,\n",
       "       0.35596405, 0.28944462, 0.26662986, 0.27085922, 0.28233562,\n",
       "       0.30262734, 0.35189957, 0.4886578 , 0.58290388, 0.55494333,\n",
       "       0.53980889, 0.51663369, 0.49191322, 0.47838157, 0.45987285,\n",
       "       0.45234589, 0.4510652 , 0.4605362 , 0.48333947, 0.50272243,\n",
       "       0.50632678, 0.50009969, 0.48281032, 0.44244544, 0.35058053,\n",
       "       0.28563705, 0.24203976, 0.25195555, 0.25149542, 0.27585929,\n",
       "       0.33645455, 0.46458918, 0.51322106, 0.48469302, 0.47271431,\n",
       "       0.45310511, 0.4312106 , 0.41926257, 0.40643645, 0.40307367,\n",
       "       0.4115669 , 0.42094587, 0.43647525, 0.45785595, 0.46315511,\n",
       "       0.45914048, 0.44766024, 0.4067202 , 0.32148116, 0.26459762,\n",
       "       0.20618031, 0.2172541 , 0.22276415, 0.24653369, 0.29674535,\n",
       "       0.4039134 , 0.48159481, 0.46804015, 0.4535384 , 0.42889078,\n",
       "       0.40579994, 0.38469915, 0.37488688, 0.37143975, 0.3743539 ,\n",
       "       0.38236783, 0.39984126, 0.41526711, 0.42268286, 0.42091136,\n",
       "       0.40536281, 0.36577632, 0.28341309, 0.22498811, 0.20081213,\n",
       "       0.21172871, 0.21691667, 0.23951288, 0.28881961, 0.39427752,\n",
       "       0.47122655, 0.45952392, 0.44718094, 0.4203477 , 0.39606436,\n",
       "       0.37666989, 0.36630546, 0.3637249 , 0.36730625, 0.37522815,\n",
       "       0.39116397, 0.40505989, 0.4082808 , 0.40730686, 0.39492554,\n",
       "       0.35522401, 0.27370435, 0.21761837, 0.21989601, 0.23075507,\n",
       "       0.23672526, 0.25924094, 0.30777313, 0.41979171, 0.50065185,\n",
       "       0.4877222 , 0.47545975, 0.4502523 , 0.42617218, 0.40599166,\n",
       "       0.3950329 , 0.39241399, 0.39594932, 0.40412046, 0.42109158,\n",
       "       0.43393304, 0.43631421, 0.4338065 , 0.42040139, 0.3787328 ,\n",
       "       0.29425298, 0.23636099, 0.2542677 , 0.26521112, 0.27194052,\n",
       "       0.29364331, 0.33946456, 0.4625301 , 0.54899998, 0.53447139,\n",
       "       0.52248884, 0.50189037, 0.47823586, 0.45707373, 0.44430513,\n",
       "       0.44210801, 0.44589258, 0.45426694, 0.47249574, 0.48334714,\n",
       "       0.48337014, 0.47777573, 0.46274483, 0.41798571, 0.32964079,\n",
       "       0.26950567, 0.27700578, 0.288417  , 0.29676069, 0.31722496,\n",
       "       0.36689596, 0.50011503, 0.60328763, 0.58607877, 0.57155401,\n",
       "       0.54849001, 0.52476265, 0.50217795, 0.48674826, 0.48199742,\n",
       "       0.48667924, 0.49514947, 0.51485069, 0.52596666, 0.52782251,\n",
       "       0.52189834, 0.50394178, 0.45603077, 0.36198791, 0.29515023,\n",
       "       0.27539533, 0.27978957, 0.29126597, 0.31190279, 0.36208377,\n",
       "       0.50128836, 0.5977584 , 0.56922269, 0.55386586, 0.53052577,\n",
       "       0.50542953, 0.49140708, 0.472814  , 0.46498413, 0.46386831,\n",
       "       0.47309775, 0.49634964, 0.51567892, 0.51917207, 0.51277627,\n",
       "       0.49511879, 0.45355757, 0.36048866, 0.29441786, 0.25505759,\n",
       "       0.26510376, 0.26496572, 0.29036872, 0.35331447, 0.48691314,\n",
       "       0.53774598, 0.50807911, 0.49582432, 0.47548275, 0.45284053,\n",
       "       0.44035568, 0.42692373, 0.42340757, 0.43218454, 0.44201982,\n",
       "       0.45801699, 0.48017224, 0.48556343, 0.48118836, 0.46900643,\n",
       "       0.42641758, 0.33737097, 0.27835166, 0.22959708, 0.24003819,\n",
       "       0.24630362, 0.27041442, 0.32008927, 0.43647909, 0.51935229,\n",
       "       0.50368871, 0.49001518, 0.46675179, 0.44367628, 0.42216522,\n",
       "       0.4102977 , 0.40797021, 0.4109879 , 0.41912453, 0.43670148,\n",
       "       0.45255679, 0.45818571, 0.45480375, 0.43693155, 0.39551987,\n",
       "       0.30864354, 0.24794859, 0.22643752, 0.23754966, 0.24343548,\n",
       "       0.26627709, 0.31553398, 0.42962699, 0.51218577, 0.49899922,\n",
       "       0.48686713, 0.46130692, 0.43662096, 0.41612601, 0.40466111,\n",
       "       0.40185816, 0.40563889, 0.41384837, 0.43088468, 0.44405589,\n",
       "       0.44618399, 0.44359193, 0.42979954, 0.38723753, 0.30172625,\n",
       "       0.24295618, 0.22822819, 0.23897606, 0.24509578, 0.26793739,\n",
       "       0.31676483, 0.43024816, 0.51310986, 0.49950153, 0.48826286,\n",
       "       0.4624074 , 0.43797451, 0.4175064 , 0.40636359, 0.40315419,\n",
       "       0.40692725, 0.41507538, 0.43212703, 0.44507584, 0.44723845,\n",
       "       0.44454286, 0.43042455, 0.38778969, 0.30294176, 0.24450145,\n",
       "       0.21860381, 0.22949355, 0.23514931, 0.25795641, 0.30719413,\n",
       "       0.4174834 , 0.49809813, 0.48526434, 0.47397583, 0.4475107 ,\n",
       "       0.42290909, 0.40286661, 0.39187718, 0.38879431, 0.39262872,\n",
       "       0.40060047, 0.41709612, 0.43055108, 0.43307413, 0.43109173,\n",
       "       0.41752558, 0.37587233, 0.29249682, 0.23500744, 0.22487308,\n",
       "       0.23588169, 0.24230433, 0.26247719, 0.31104005, 0.42532861,\n",
       "       0.51571727, 0.50185586, 0.48807114, 0.46302857, 0.44012562,\n",
       "       0.41990291, 0.40703845, 0.40277842, 0.40725318, 0.41507922,\n",
       "       0.43195831, 0.4440904 , 0.44814338, 0.44491863, 0.43017148,\n",
       "       0.38823448, 0.30352843, 0.24358502, 0.22705103, 0.23300204,\n",
       "       0.24169849, 0.26284529, 0.31306078, 0.43592693, 0.52014218,\n",
       "       0.49678676, 0.48068222, 0.45611512, 0.43093069, 0.41828862,\n",
       "       0.40294713, 0.39328441, 0.39180816, 0.40200387, 0.42284774,\n",
       "       0.44228823, 0.44853832, 0.44423994, 0.43045139, 0.39212258,\n",
       "       0.30888127, 0.24697465, 0.19387951, 0.21012976, 0.20469256,\n",
       "       0.22929416, 0.28938711, 0.40660516, 0.44734198, 0.42213838,\n",
       "       0.40329223, 0.38233332, 0.35956073, 0.3477584 , 0.33738248,\n",
       "       0.33288087, 0.34103284, 0.34801914, 0.3667771 , 0.38747527,\n",
       "       0.39464562, 0.3950444 , 0.38798908, 0.34943404, 0.27506173,\n",
       "       0.21603092, 0.17214221, 0.18407874, 0.18853817, 0.2119396 ,\n",
       "       0.26294115, 0.35832605, 0.42874124, 0.41803555, 0.40193868,\n",
       "       0.37537386, 0.35244022, 0.33207181, 0.3247174 , 0.32020813,\n",
       "       0.32304176, 0.33114772, 0.34834123, 0.36336447, 0.37317674,\n",
       "       0.37368671, 0.36140508, 0.32439148, 0.24725839, 0.19182043,\n",
       "       0.14567325, 0.15481449, 0.15853004, 0.17822359, 0.22152564,\n",
       "       0.30367797, 0.36505161, 0.35627464, 0.34605209, 0.32071427,\n",
       "       0.29968634, 0.2839384 , 0.27612387, 0.274245  , 0.27729336,\n",
       "       0.28396908, 0.29687572, 0.30997024, 0.31413825, 0.31517355,\n",
       "       0.30572555, 0.27409163, 0.20702772, 0.16081152, 0.14732204,\n",
       "       0.15687741, 0.16063513, 0.18113775, 0.22618062, 0.30990889,\n",
       "       0.3728163 , 0.36390129, 0.35325312, 0.32641221, 0.30462124,\n",
       "       0.28844384, 0.28078268, 0.2784897 , 0.28182181, 0.28874293,\n",
       "       0.30188346, 0.3157257 , 0.32024264, 0.32161536, 0.31197564,\n",
       "       0.27966303, 0.21045952, 0.16314667, 0.17949278, 0.19063176,\n",
       "       0.19521388, 0.21847344, 0.27003865, 0.36943818, 0.44307428,\n",
       "       0.43260249, 0.41955782, 0.38979892, 0.36494425, 0.34604825,\n",
       "       0.33657341, 0.33388932, 0.33737481, 0.34521235, 0.36036596,\n",
       "       0.3757688 , 0.38046596, 0.38150125, 0.37023191, 0.33226737,\n",
       "       0.25240801, 0.19728447, 0.18482262, 0.1962185 , 0.2009425 ,\n",
       "       0.22226568, 0.27334392, 0.37523198, 0.4585193 , 0.44737649,\n",
       "       0.43303962, 0.40374085, 0.37994064, 0.36078007, 0.34978297,\n",
       "       0.34556895, 0.3500092 , 0.35767803, 0.37253639, 0.38682342,\n",
       "       0.39368702, 0.39344545, 0.381206  , 0.34283885, 0.26225862,\n",
       "       0.20550162, 0.17733784, 0.18546297, 0.19071995, 0.21309376,\n",
       "       0.26481618, 0.37090293, 0.44310496, 0.42537462, 0.40780917,\n",
       "       0.38116766, 0.3552125 , 0.34365558, 0.33210249, 0.31971349,\n",
       "       0.3179535 , 0.3293072 , 0.34777374, 0.36755548, 0.37725272,\n",
       "       0.37543521, 0.36602172, 0.33022362, 0.25715502, 0.19864568,\n",
       "       0.20108054, 0.21741131, 0.21214666, 0.23740011, 0.29898081,\n",
       "       0.41939677, 0.46128392, 0.43544763, 0.41637909, 0.39499072,\n",
       "       0.371758  , 0.35964892, 0.34891639, 0.34435344, 0.3527048 ,\n",
       "       0.35996334, 0.37893603, 0.40015951, 0.40742956, 0.40762512,\n",
       "       0.40018635, 0.36068421, 0.28401509, 0.2237726 , 0.23658722])"
      ]
     },
     "execution_count": 44,
     "metadata": {},
     "output_type": "execute_result"
    }
   ],
   "source": [
    "X_list[0]"
   ]
  },
  {
   "cell_type": "code",
   "execution_count": 45,
   "metadata": {},
   "outputs": [
    {
     "data": {
      "text/plain": [
       "array([0.24598153, 0.25255755, 0.27585929, 0.32270817, 0.44075829,\n",
       "       0.52359315, 0.50704382, 0.49502293, 0.47400267, 0.45201614,\n",
       "       0.43120293, 0.41830013, 0.41709996, 0.42009847, 0.42793985,\n",
       "       0.44482277, 0.4602678 , 0.46422875, 0.45963128, 0.4406701 ,\n",
       "       0.3997569 , 0.31332919, 0.25371171, 0.25537201, 0.26669504,\n",
       "       0.27337843, 0.29641559, 0.34540024, 0.4692595 , 0.55795334,\n",
       "       0.543141  , 0.53122364, 0.50736974, 0.48231951, 0.46061289,\n",
       "       0.44789414, 0.44491096, 0.44889876, 0.45741883, 0.47569748,\n",
       "       0.48794077, 0.48877667, 0.48425973, 0.46889906, 0.42316217,\n",
       "       0.33321063, 0.27032623, 0.27032623])"
      ]
     },
     "execution_count": 45,
     "metadata": {},
     "output_type": "execute_result"
    }
   ],
   "source": [
    "y_list[0]"
   ]
  },
  {
   "cell_type": "code",
   "execution_count": 46,
   "metadata": {},
   "outputs": [
    {
     "data": {
      "text/plain": [
       "365"
      ]
     },
     "execution_count": 46,
     "metadata": {},
     "output_type": "execute_result"
    }
   ],
   "source": [
    "len(y_list)"
   ]
  },
  {
   "cell_type": "code",
   "execution_count": 49,
   "metadata": {},
   "outputs": [
    {
     "name": "stderr",
     "output_type": "stream",
     "text": [
      "c:\\Users\\jabbe\\Envs\\idw\\lib\\site-packages\\statsmodels\\base\\model.py:604: ConvergenceWarning: Maximum Likelihood optimization failed to converge. Check mle_retvals\n",
      "  warnings.warn(\"Maximum Likelihood optimization failed to \"\n",
      "c:\\Users\\jabbe\\Envs\\idw\\lib\\site-packages\\statsmodels\\base\\model.py:604: ConvergenceWarning: Maximum Likelihood optimization failed to converge. Check mle_retvals\n",
      "  warnings.warn(\"Maximum Likelihood optimization failed to \"\n",
      "c:\\Users\\jabbe\\Envs\\idw\\lib\\site-packages\\statsmodels\\base\\model.py:604: ConvergenceWarning: Maximum Likelihood optimization failed to converge. Check mle_retvals\n",
      "  warnings.warn(\"Maximum Likelihood optimization failed to \"\n",
      "c:\\Users\\jabbe\\Envs\\idw\\lib\\site-packages\\statsmodels\\base\\model.py:604: ConvergenceWarning: Maximum Likelihood optimization failed to converge. Check mle_retvals\n",
      "  warnings.warn(\"Maximum Likelihood optimization failed to \"\n",
      "c:\\Users\\jabbe\\Envs\\idw\\lib\\site-packages\\statsmodels\\base\\model.py:604: ConvergenceWarning: Maximum Likelihood optimization failed to converge. Check mle_retvals\n",
      "  warnings.warn(\"Maximum Likelihood optimization failed to \"\n",
      "c:\\Users\\jabbe\\Envs\\idw\\lib\\site-packages\\statsmodels\\base\\model.py:604: ConvergenceWarning: Maximum Likelihood optimization failed to converge. Check mle_retvals\n",
      "  warnings.warn(\"Maximum Likelihood optimization failed to \"\n",
      "c:\\Users\\jabbe\\Envs\\idw\\lib\\site-packages\\statsmodels\\base\\model.py:604: ConvergenceWarning: Maximum Likelihood optimization failed to converge. Check mle_retvals\n",
      "  warnings.warn(\"Maximum Likelihood optimization failed to \"\n",
      "c:\\Users\\jabbe\\Envs\\idw\\lib\\site-packages\\statsmodels\\base\\model.py:604: ConvergenceWarning: Maximum Likelihood optimization failed to converge. Check mle_retvals\n",
      "  warnings.warn(\"Maximum Likelihood optimization failed to \"\n",
      "c:\\Users\\jabbe\\Envs\\idw\\lib\\site-packages\\statsmodels\\base\\model.py:604: ConvergenceWarning: Maximum Likelihood optimization failed to converge. Check mle_retvals\n",
      "  warnings.warn(\"Maximum Likelihood optimization failed to \"\n",
      "c:\\Users\\jabbe\\Envs\\idw\\lib\\site-packages\\statsmodels\\base\\model.py:604: ConvergenceWarning: Maximum Likelihood optimization failed to converge. Check mle_retvals\n",
      "  warnings.warn(\"Maximum Likelihood optimization failed to \"\n",
      "c:\\Users\\jabbe\\Envs\\idw\\lib\\site-packages\\statsmodels\\base\\model.py:604: ConvergenceWarning: Maximum Likelihood optimization failed to converge. Check mle_retvals\n",
      "  warnings.warn(\"Maximum Likelihood optimization failed to \"\n",
      "c:\\Users\\jabbe\\Envs\\idw\\lib\\site-packages\\statsmodels\\base\\model.py:604: ConvergenceWarning: Maximum Likelihood optimization failed to converge. Check mle_retvals\n",
      "  warnings.warn(\"Maximum Likelihood optimization failed to \"\n",
      "c:\\Users\\jabbe\\Envs\\idw\\lib\\site-packages\\statsmodels\\base\\model.py:604: ConvergenceWarning: Maximum Likelihood optimization failed to converge. Check mle_retvals\n",
      "  warnings.warn(\"Maximum Likelihood optimization failed to \"\n",
      "c:\\Users\\jabbe\\Envs\\idw\\lib\\site-packages\\statsmodels\\base\\model.py:604: ConvergenceWarning: Maximum Likelihood optimization failed to converge. Check mle_retvals\n",
      "  warnings.warn(\"Maximum Likelihood optimization failed to \"\n",
      "c:\\Users\\jabbe\\Envs\\idw\\lib\\site-packages\\statsmodels\\base\\model.py:604: ConvergenceWarning: Maximum Likelihood optimization failed to converge. Check mle_retvals\n",
      "  warnings.warn(\"Maximum Likelihood optimization failed to \"\n",
      "c:\\Users\\jabbe\\Envs\\idw\\lib\\site-packages\\statsmodels\\base\\model.py:604: ConvergenceWarning: Maximum Likelihood optimization failed to converge. Check mle_retvals\n",
      "  warnings.warn(\"Maximum Likelihood optimization failed to \"\n",
      "c:\\Users\\jabbe\\Envs\\idw\\lib\\site-packages\\statsmodels\\base\\model.py:604: ConvergenceWarning: Maximum Likelihood optimization failed to converge. Check mle_retvals\n",
      "  warnings.warn(\"Maximum Likelihood optimization failed to \"\n",
      "c:\\Users\\jabbe\\Envs\\idw\\lib\\site-packages\\statsmodels\\base\\model.py:604: ConvergenceWarning: Maximum Likelihood optimization failed to converge. Check mle_retvals\n",
      "  warnings.warn(\"Maximum Likelihood optimization failed to \"\n",
      "c:\\Users\\jabbe\\Envs\\idw\\lib\\site-packages\\statsmodels\\base\\model.py:604: ConvergenceWarning: Maximum Likelihood optimization failed to converge. Check mle_retvals\n",
      "  warnings.warn(\"Maximum Likelihood optimization failed to \"\n",
      "c:\\Users\\jabbe\\Envs\\idw\\lib\\site-packages\\statsmodels\\base\\model.py:604: ConvergenceWarning: Maximum Likelihood optimization failed to converge. Check mle_retvals\n",
      "  warnings.warn(\"Maximum Likelihood optimization failed to \"\n",
      "c:\\Users\\jabbe\\Envs\\idw\\lib\\site-packages\\statsmodels\\base\\model.py:604: ConvergenceWarning: Maximum Likelihood optimization failed to converge. Check mle_retvals\n",
      "  warnings.warn(\"Maximum Likelihood optimization failed to \"\n",
      "c:\\Users\\jabbe\\Envs\\idw\\lib\\site-packages\\statsmodels\\base\\model.py:604: ConvergenceWarning: Maximum Likelihood optimization failed to converge. Check mle_retvals\n",
      "  warnings.warn(\"Maximum Likelihood optimization failed to \"\n",
      "c:\\Users\\jabbe\\Envs\\idw\\lib\\site-packages\\statsmodels\\base\\model.py:604: ConvergenceWarning: Maximum Likelihood optimization failed to converge. Check mle_retvals\n",
      "  warnings.warn(\"Maximum Likelihood optimization failed to \"\n",
      "c:\\Users\\jabbe\\Envs\\idw\\lib\\site-packages\\statsmodels\\base\\model.py:604: ConvergenceWarning: Maximum Likelihood optimization failed to converge. Check mle_retvals\n",
      "  warnings.warn(\"Maximum Likelihood optimization failed to \"\n",
      "c:\\Users\\jabbe\\Envs\\idw\\lib\\site-packages\\statsmodels\\base\\model.py:604: ConvergenceWarning: Maximum Likelihood optimization failed to converge. Check mle_retvals\n",
      "  warnings.warn(\"Maximum Likelihood optimization failed to \"\n",
      "c:\\Users\\jabbe\\Envs\\idw\\lib\\site-packages\\statsmodels\\base\\model.py:604: ConvergenceWarning: Maximum Likelihood optimization failed to converge. Check mle_retvals\n",
      "  warnings.warn(\"Maximum Likelihood optimization failed to \"\n",
      "c:\\Users\\jabbe\\Envs\\idw\\lib\\site-packages\\statsmodels\\base\\model.py:604: ConvergenceWarning: Maximum Likelihood optimization failed to converge. Check mle_retvals\n",
      "  warnings.warn(\"Maximum Likelihood optimization failed to \"\n",
      "c:\\Users\\jabbe\\Envs\\idw\\lib\\site-packages\\statsmodels\\base\\model.py:604: ConvergenceWarning: Maximum Likelihood optimization failed to converge. Check mle_retvals\n",
      "  warnings.warn(\"Maximum Likelihood optimization failed to \"\n",
      "c:\\Users\\jabbe\\Envs\\idw\\lib\\site-packages\\statsmodels\\base\\model.py:604: ConvergenceWarning: Maximum Likelihood optimization failed to converge. Check mle_retvals\n",
      "  warnings.warn(\"Maximum Likelihood optimization failed to \"\n",
      "c:\\Users\\jabbe\\Envs\\idw\\lib\\site-packages\\statsmodels\\base\\model.py:604: ConvergenceWarning: Maximum Likelihood optimization failed to converge. Check mle_retvals\n",
      "  warnings.warn(\"Maximum Likelihood optimization failed to \"\n",
      "c:\\Users\\jabbe\\Envs\\idw\\lib\\site-packages\\statsmodels\\base\\model.py:604: ConvergenceWarning: Maximum Likelihood optimization failed to converge. Check mle_retvals\n",
      "  warnings.warn(\"Maximum Likelihood optimization failed to \"\n",
      "c:\\Users\\jabbe\\Envs\\idw\\lib\\site-packages\\statsmodels\\base\\model.py:604: ConvergenceWarning: Maximum Likelihood optimization failed to converge. Check mle_retvals\n",
      "  warnings.warn(\"Maximum Likelihood optimization failed to \"\n",
      "c:\\Users\\jabbe\\Envs\\idw\\lib\\site-packages\\statsmodels\\base\\model.py:604: ConvergenceWarning: Maximum Likelihood optimization failed to converge. Check mle_retvals\n",
      "  warnings.warn(\"Maximum Likelihood optimization failed to \"\n",
      "c:\\Users\\jabbe\\Envs\\idw\\lib\\site-packages\\statsmodels\\base\\model.py:604: ConvergenceWarning: Maximum Likelihood optimization failed to converge. Check mle_retvals\n",
      "  warnings.warn(\"Maximum Likelihood optimization failed to \"\n",
      "c:\\Users\\jabbe\\Envs\\idw\\lib\\site-packages\\statsmodels\\base\\model.py:604: ConvergenceWarning: Maximum Likelihood optimization failed to converge. Check mle_retvals\n",
      "  warnings.warn(\"Maximum Likelihood optimization failed to \"\n",
      "c:\\Users\\jabbe\\Envs\\idw\\lib\\site-packages\\statsmodels\\base\\model.py:604: ConvergenceWarning: Maximum Likelihood optimization failed to converge. Check mle_retvals\n",
      "  warnings.warn(\"Maximum Likelihood optimization failed to \"\n",
      "c:\\Users\\jabbe\\Envs\\idw\\lib\\site-packages\\statsmodels\\base\\model.py:604: ConvergenceWarning: Maximum Likelihood optimization failed to converge. Check mle_retvals\n",
      "  warnings.warn(\"Maximum Likelihood optimization failed to \"\n",
      "c:\\Users\\jabbe\\Envs\\idw\\lib\\site-packages\\statsmodels\\base\\model.py:604: ConvergenceWarning: Maximum Likelihood optimization failed to converge. Check mle_retvals\n",
      "  warnings.warn(\"Maximum Likelihood optimization failed to \"\n",
      "c:\\Users\\jabbe\\Envs\\idw\\lib\\site-packages\\statsmodels\\base\\model.py:604: ConvergenceWarning: Maximum Likelihood optimization failed to converge. Check mle_retvals\n",
      "  warnings.warn(\"Maximum Likelihood optimization failed to \"\n",
      "c:\\Users\\jabbe\\Envs\\idw\\lib\\site-packages\\statsmodels\\base\\model.py:604: ConvergenceWarning: Maximum Likelihood optimization failed to converge. Check mle_retvals\n",
      "  warnings.warn(\"Maximum Likelihood optimization failed to \"\n",
      "c:\\Users\\jabbe\\Envs\\idw\\lib\\site-packages\\statsmodels\\base\\model.py:604: ConvergenceWarning: Maximum Likelihood optimization failed to converge. Check mle_retvals\n",
      "  warnings.warn(\"Maximum Likelihood optimization failed to \"\n",
      "c:\\Users\\jabbe\\Envs\\idw\\lib\\site-packages\\statsmodels\\base\\model.py:604: ConvergenceWarning: Maximum Likelihood optimization failed to converge. Check mle_retvals\n",
      "  warnings.warn(\"Maximum Likelihood optimization failed to \"\n",
      "c:\\Users\\jabbe\\Envs\\idw\\lib\\site-packages\\statsmodels\\base\\model.py:604: ConvergenceWarning: Maximum Likelihood optimization failed to converge. Check mle_retvals\n",
      "  warnings.warn(\"Maximum Likelihood optimization failed to \"\n",
      "c:\\Users\\jabbe\\Envs\\idw\\lib\\site-packages\\statsmodels\\base\\model.py:604: ConvergenceWarning: Maximum Likelihood optimization failed to converge. Check mle_retvals\n",
      "  warnings.warn(\"Maximum Likelihood optimization failed to \"\n",
      "c:\\Users\\jabbe\\Envs\\idw\\lib\\site-packages\\statsmodels\\base\\model.py:604: ConvergenceWarning: Maximum Likelihood optimization failed to converge. Check mle_retvals\n",
      "  warnings.warn(\"Maximum Likelihood optimization failed to \"\n",
      "c:\\Users\\jabbe\\Envs\\idw\\lib\\site-packages\\statsmodels\\base\\model.py:604: ConvergenceWarning: Maximum Likelihood optimization failed to converge. Check mle_retvals\n",
      "  warnings.warn(\"Maximum Likelihood optimization failed to \"\n",
      "c:\\Users\\jabbe\\Envs\\idw\\lib\\site-packages\\statsmodels\\base\\model.py:604: ConvergenceWarning: Maximum Likelihood optimization failed to converge. Check mle_retvals\n",
      "  warnings.warn(\"Maximum Likelihood optimization failed to \"\n",
      "c:\\Users\\jabbe\\Envs\\idw\\lib\\site-packages\\statsmodels\\base\\model.py:604: ConvergenceWarning: Maximum Likelihood optimization failed to converge. Check mle_retvals\n",
      "  warnings.warn(\"Maximum Likelihood optimization failed to \"\n",
      "c:\\Users\\jabbe\\Envs\\idw\\lib\\site-packages\\statsmodels\\base\\model.py:604: ConvergenceWarning: Maximum Likelihood optimization failed to converge. Check mle_retvals\n",
      "  warnings.warn(\"Maximum Likelihood optimization failed to \"\n",
      "c:\\Users\\jabbe\\Envs\\idw\\lib\\site-packages\\statsmodels\\base\\model.py:604: ConvergenceWarning: Maximum Likelihood optimization failed to converge. Check mle_retvals\n",
      "  warnings.warn(\"Maximum Likelihood optimization failed to \"\n",
      "c:\\Users\\jabbe\\Envs\\idw\\lib\\site-packages\\statsmodels\\base\\model.py:604: ConvergenceWarning: Maximum Likelihood optimization failed to converge. Check mle_retvals\n",
      "  warnings.warn(\"Maximum Likelihood optimization failed to \"\n",
      "c:\\Users\\jabbe\\Envs\\idw\\lib\\site-packages\\statsmodels\\base\\model.py:604: ConvergenceWarning: Maximum Likelihood optimization failed to converge. Check mle_retvals\n",
      "  warnings.warn(\"Maximum Likelihood optimization failed to \"\n",
      "c:\\Users\\jabbe\\Envs\\idw\\lib\\site-packages\\statsmodels\\base\\model.py:604: ConvergenceWarning: Maximum Likelihood optimization failed to converge. Check mle_retvals\n",
      "  warnings.warn(\"Maximum Likelihood optimization failed to \"\n",
      "c:\\Users\\jabbe\\Envs\\idw\\lib\\site-packages\\statsmodels\\base\\model.py:604: ConvergenceWarning: Maximum Likelihood optimization failed to converge. Check mle_retvals\n",
      "  warnings.warn(\"Maximum Likelihood optimization failed to \"\n",
      "c:\\Users\\jabbe\\Envs\\idw\\lib\\site-packages\\statsmodels\\base\\model.py:604: ConvergenceWarning: Maximum Likelihood optimization failed to converge. Check mle_retvals\n",
      "  warnings.warn(\"Maximum Likelihood optimization failed to \"\n",
      "c:\\Users\\jabbe\\Envs\\idw\\lib\\site-packages\\statsmodels\\base\\model.py:604: ConvergenceWarning: Maximum Likelihood optimization failed to converge. Check mle_retvals\n",
      "  warnings.warn(\"Maximum Likelihood optimization failed to \"\n",
      "c:\\Users\\jabbe\\Envs\\idw\\lib\\site-packages\\statsmodels\\base\\model.py:604: ConvergenceWarning: Maximum Likelihood optimization failed to converge. Check mle_retvals\n",
      "  warnings.warn(\"Maximum Likelihood optimization failed to \"\n",
      "c:\\Users\\jabbe\\Envs\\idw\\lib\\site-packages\\statsmodels\\base\\model.py:604: ConvergenceWarning: Maximum Likelihood optimization failed to converge. Check mle_retvals\n",
      "  warnings.warn(\"Maximum Likelihood optimization failed to \"\n",
      "c:\\Users\\jabbe\\Envs\\idw\\lib\\site-packages\\statsmodels\\base\\model.py:604: ConvergenceWarning: Maximum Likelihood optimization failed to converge. Check mle_retvals\n",
      "  warnings.warn(\"Maximum Likelihood optimization failed to \"\n",
      "c:\\Users\\jabbe\\Envs\\idw\\lib\\site-packages\\statsmodels\\base\\model.py:604: ConvergenceWarning: Maximum Likelihood optimization failed to converge. Check mle_retvals\n",
      "  warnings.warn(\"Maximum Likelihood optimization failed to \"\n",
      "c:\\Users\\jabbe\\Envs\\idw\\lib\\site-packages\\statsmodels\\base\\model.py:604: ConvergenceWarning: Maximum Likelihood optimization failed to converge. Check mle_retvals\n",
      "  warnings.warn(\"Maximum Likelihood optimization failed to \"\n",
      "c:\\Users\\jabbe\\Envs\\idw\\lib\\site-packages\\statsmodels\\base\\model.py:604: ConvergenceWarning: Maximum Likelihood optimization failed to converge. Check mle_retvals\n",
      "  warnings.warn(\"Maximum Likelihood optimization failed to \"\n",
      "c:\\Users\\jabbe\\Envs\\idw\\lib\\site-packages\\statsmodels\\base\\model.py:604: ConvergenceWarning: Maximum Likelihood optimization failed to converge. Check mle_retvals\n",
      "  warnings.warn(\"Maximum Likelihood optimization failed to \"\n",
      "c:\\Users\\jabbe\\Envs\\idw\\lib\\site-packages\\statsmodels\\base\\model.py:604: ConvergenceWarning: Maximum Likelihood optimization failed to converge. Check mle_retvals\n",
      "  warnings.warn(\"Maximum Likelihood optimization failed to \"\n",
      "c:\\Users\\jabbe\\Envs\\idw\\lib\\site-packages\\statsmodels\\base\\model.py:604: ConvergenceWarning: Maximum Likelihood optimization failed to converge. Check mle_retvals\n",
      "  warnings.warn(\"Maximum Likelihood optimization failed to \"\n",
      "c:\\Users\\jabbe\\Envs\\idw\\lib\\site-packages\\statsmodels\\base\\model.py:604: ConvergenceWarning: Maximum Likelihood optimization failed to converge. Check mle_retvals\n",
      "  warnings.warn(\"Maximum Likelihood optimization failed to \"\n",
      "c:\\Users\\jabbe\\Envs\\idw\\lib\\site-packages\\statsmodels\\base\\model.py:604: ConvergenceWarning: Maximum Likelihood optimization failed to converge. Check mle_retvals\n",
      "  warnings.warn(\"Maximum Likelihood optimization failed to \"\n",
      "c:\\Users\\jabbe\\Envs\\idw\\lib\\site-packages\\statsmodels\\base\\model.py:604: ConvergenceWarning: Maximum Likelihood optimization failed to converge. Check mle_retvals\n",
      "  warnings.warn(\"Maximum Likelihood optimization failed to \"\n",
      "c:\\Users\\jabbe\\Envs\\idw\\lib\\site-packages\\statsmodels\\base\\model.py:604: ConvergenceWarning: Maximum Likelihood optimization failed to converge. Check mle_retvals\n",
      "  warnings.warn(\"Maximum Likelihood optimization failed to \"\n",
      "c:\\Users\\jabbe\\Envs\\idw\\lib\\site-packages\\statsmodels\\base\\model.py:604: ConvergenceWarning: Maximum Likelihood optimization failed to converge. Check mle_retvals\n",
      "  warnings.warn(\"Maximum Likelihood optimization failed to \"\n",
      "c:\\Users\\jabbe\\Envs\\idw\\lib\\site-packages\\statsmodels\\base\\model.py:604: ConvergenceWarning: Maximum Likelihood optimization failed to converge. Check mle_retvals\n",
      "  warnings.warn(\"Maximum Likelihood optimization failed to \"\n",
      "c:\\Users\\jabbe\\Envs\\idw\\lib\\site-packages\\statsmodels\\base\\model.py:604: ConvergenceWarning: Maximum Likelihood optimization failed to converge. Check mle_retvals\n",
      "  warnings.warn(\"Maximum Likelihood optimization failed to \"\n",
      "c:\\Users\\jabbe\\Envs\\idw\\lib\\site-packages\\statsmodels\\base\\model.py:604: ConvergenceWarning: Maximum Likelihood optimization failed to converge. Check mle_retvals\n",
      "  warnings.warn(\"Maximum Likelihood optimization failed to \"\n",
      "c:\\Users\\jabbe\\Envs\\idw\\lib\\site-packages\\statsmodels\\base\\model.py:604: ConvergenceWarning: Maximum Likelihood optimization failed to converge. Check mle_retvals\n",
      "  warnings.warn(\"Maximum Likelihood optimization failed to \"\n",
      "c:\\Users\\jabbe\\Envs\\idw\\lib\\site-packages\\statsmodels\\base\\model.py:604: ConvergenceWarning: Maximum Likelihood optimization failed to converge. Check mle_retvals\n",
      "  warnings.warn(\"Maximum Likelihood optimization failed to \"\n",
      "c:\\Users\\jabbe\\Envs\\idw\\lib\\site-packages\\statsmodels\\base\\model.py:604: ConvergenceWarning: Maximum Likelihood optimization failed to converge. Check mle_retvals\n",
      "  warnings.warn(\"Maximum Likelihood optimization failed to \"\n",
      "c:\\Users\\jabbe\\Envs\\idw\\lib\\site-packages\\statsmodels\\base\\model.py:604: ConvergenceWarning: Maximum Likelihood optimization failed to converge. Check mle_retvals\n",
      "  warnings.warn(\"Maximum Likelihood optimization failed to \"\n",
      "c:\\Users\\jabbe\\Envs\\idw\\lib\\site-packages\\statsmodels\\base\\model.py:604: ConvergenceWarning: Maximum Likelihood optimization failed to converge. Check mle_retvals\n",
      "  warnings.warn(\"Maximum Likelihood optimization failed to \"\n",
      "c:\\Users\\jabbe\\Envs\\idw\\lib\\site-packages\\statsmodels\\base\\model.py:604: ConvergenceWarning: Maximum Likelihood optimization failed to converge. Check mle_retvals\n",
      "  warnings.warn(\"Maximum Likelihood optimization failed to \"\n",
      "c:\\Users\\jabbe\\Envs\\idw\\lib\\site-packages\\statsmodels\\base\\model.py:604: ConvergenceWarning: Maximum Likelihood optimization failed to converge. Check mle_retvals\n",
      "  warnings.warn(\"Maximum Likelihood optimization failed to \"\n",
      "c:\\Users\\jabbe\\Envs\\idw\\lib\\site-packages\\statsmodels\\base\\model.py:604: ConvergenceWarning: Maximum Likelihood optimization failed to converge. Check mle_retvals\n",
      "  warnings.warn(\"Maximum Likelihood optimization failed to \"\n",
      "c:\\Users\\jabbe\\Envs\\idw\\lib\\site-packages\\statsmodels\\base\\model.py:604: ConvergenceWarning: Maximum Likelihood optimization failed to converge. Check mle_retvals\n",
      "  warnings.warn(\"Maximum Likelihood optimization failed to \"\n",
      "c:\\Users\\jabbe\\Envs\\idw\\lib\\site-packages\\statsmodels\\base\\model.py:604: ConvergenceWarning: Maximum Likelihood optimization failed to converge. Check mle_retvals\n",
      "  warnings.warn(\"Maximum Likelihood optimization failed to \"\n",
      "c:\\Users\\jabbe\\Envs\\idw\\lib\\site-packages\\statsmodels\\base\\model.py:604: ConvergenceWarning: Maximum Likelihood optimization failed to converge. Check mle_retvals\n",
      "  warnings.warn(\"Maximum Likelihood optimization failed to \"\n",
      "c:\\Users\\jabbe\\Envs\\idw\\lib\\site-packages\\statsmodels\\base\\model.py:604: ConvergenceWarning: Maximum Likelihood optimization failed to converge. Check mle_retvals\n",
      "  warnings.warn(\"Maximum Likelihood optimization failed to \"\n",
      "c:\\Users\\jabbe\\Envs\\idw\\lib\\site-packages\\statsmodels\\base\\model.py:604: ConvergenceWarning: Maximum Likelihood optimization failed to converge. Check mle_retvals\n",
      "  warnings.warn(\"Maximum Likelihood optimization failed to \"\n",
      "c:\\Users\\jabbe\\Envs\\idw\\lib\\site-packages\\statsmodels\\base\\model.py:604: ConvergenceWarning: Maximum Likelihood optimization failed to converge. Check mle_retvals\n",
      "  warnings.warn(\"Maximum Likelihood optimization failed to \"\n",
      "c:\\Users\\jabbe\\Envs\\idw\\lib\\site-packages\\statsmodels\\base\\model.py:604: ConvergenceWarning: Maximum Likelihood optimization failed to converge. Check mle_retvals\n",
      "  warnings.warn(\"Maximum Likelihood optimization failed to \"\n",
      "c:\\Users\\jabbe\\Envs\\idw\\lib\\site-packages\\statsmodels\\base\\model.py:604: ConvergenceWarning: Maximum Likelihood optimization failed to converge. Check mle_retvals\n",
      "  warnings.warn(\"Maximum Likelihood optimization failed to \"\n",
      "c:\\Users\\jabbe\\Envs\\idw\\lib\\site-packages\\statsmodels\\base\\model.py:604: ConvergenceWarning: Maximum Likelihood optimization failed to converge. Check mle_retvals\n",
      "  warnings.warn(\"Maximum Likelihood optimization failed to \"\n",
      "c:\\Users\\jabbe\\Envs\\idw\\lib\\site-packages\\statsmodels\\base\\model.py:604: ConvergenceWarning: Maximum Likelihood optimization failed to converge. Check mle_retvals\n",
      "  warnings.warn(\"Maximum Likelihood optimization failed to \"\n",
      "c:\\Users\\jabbe\\Envs\\idw\\lib\\site-packages\\statsmodels\\base\\model.py:604: ConvergenceWarning: Maximum Likelihood optimization failed to converge. Check mle_retvals\n",
      "  warnings.warn(\"Maximum Likelihood optimization failed to \"\n",
      "c:\\Users\\jabbe\\Envs\\idw\\lib\\site-packages\\statsmodels\\base\\model.py:604: ConvergenceWarning: Maximum Likelihood optimization failed to converge. Check mle_retvals\n",
      "  warnings.warn(\"Maximum Likelihood optimization failed to \"\n",
      "c:\\Users\\jabbe\\Envs\\idw\\lib\\site-packages\\statsmodels\\base\\model.py:604: ConvergenceWarning: Maximum Likelihood optimization failed to converge. Check mle_retvals\n",
      "  warnings.warn(\"Maximum Likelihood optimization failed to \"\n",
      "c:\\Users\\jabbe\\Envs\\idw\\lib\\site-packages\\statsmodels\\base\\model.py:604: ConvergenceWarning: Maximum Likelihood optimization failed to converge. Check mle_retvals\n",
      "  warnings.warn(\"Maximum Likelihood optimization failed to \"\n",
      "c:\\Users\\jabbe\\Envs\\idw\\lib\\site-packages\\statsmodels\\base\\model.py:604: ConvergenceWarning: Maximum Likelihood optimization failed to converge. Check mle_retvals\n",
      "  warnings.warn(\"Maximum Likelihood optimization failed to \"\n",
      "c:\\Users\\jabbe\\Envs\\idw\\lib\\site-packages\\statsmodels\\base\\model.py:604: ConvergenceWarning: Maximum Likelihood optimization failed to converge. Check mle_retvals\n",
      "  warnings.warn(\"Maximum Likelihood optimization failed to \"\n",
      "c:\\Users\\jabbe\\Envs\\idw\\lib\\site-packages\\statsmodels\\base\\model.py:604: ConvergenceWarning: Maximum Likelihood optimization failed to converge. Check mle_retvals\n",
      "  warnings.warn(\"Maximum Likelihood optimization failed to \"\n",
      "c:\\Users\\jabbe\\Envs\\idw\\lib\\site-packages\\statsmodels\\base\\model.py:604: ConvergenceWarning: Maximum Likelihood optimization failed to converge. Check mle_retvals\n",
      "  warnings.warn(\"Maximum Likelihood optimization failed to \"\n",
      "c:\\Users\\jabbe\\Envs\\idw\\lib\\site-packages\\statsmodels\\base\\model.py:604: ConvergenceWarning: Maximum Likelihood optimization failed to converge. Check mle_retvals\n",
      "  warnings.warn(\"Maximum Likelihood optimization failed to \"\n",
      "c:\\Users\\jabbe\\Envs\\idw\\lib\\site-packages\\statsmodels\\base\\model.py:604: ConvergenceWarning: Maximum Likelihood optimization failed to converge. Check mle_retvals\n",
      "  warnings.warn(\"Maximum Likelihood optimization failed to \"\n",
      "c:\\Users\\jabbe\\Envs\\idw\\lib\\site-packages\\statsmodels\\base\\model.py:604: ConvergenceWarning: Maximum Likelihood optimization failed to converge. Check mle_retvals\n",
      "  warnings.warn(\"Maximum Likelihood optimization failed to \"\n",
      "c:\\Users\\jabbe\\Envs\\idw\\lib\\site-packages\\statsmodels\\base\\model.py:604: ConvergenceWarning: Maximum Likelihood optimization failed to converge. Check mle_retvals\n",
      "  warnings.warn(\"Maximum Likelihood optimization failed to \"\n",
      "c:\\Users\\jabbe\\Envs\\idw\\lib\\site-packages\\statsmodels\\base\\model.py:604: ConvergenceWarning: Maximum Likelihood optimization failed to converge. Check mle_retvals\n",
      "  warnings.warn(\"Maximum Likelihood optimization failed to \"\n",
      "c:\\Users\\jabbe\\Envs\\idw\\lib\\site-packages\\statsmodels\\base\\model.py:604: ConvergenceWarning: Maximum Likelihood optimization failed to converge. Check mle_retvals\n",
      "  warnings.warn(\"Maximum Likelihood optimization failed to \"\n",
      "c:\\Users\\jabbe\\Envs\\idw\\lib\\site-packages\\statsmodels\\base\\model.py:604: ConvergenceWarning: Maximum Likelihood optimization failed to converge. Check mle_retvals\n",
      "  warnings.warn(\"Maximum Likelihood optimization failed to \"\n",
      "c:\\Users\\jabbe\\Envs\\idw\\lib\\site-packages\\statsmodels\\base\\model.py:604: ConvergenceWarning: Maximum Likelihood optimization failed to converge. Check mle_retvals\n",
      "  warnings.warn(\"Maximum Likelihood optimization failed to \"\n",
      "c:\\Users\\jabbe\\Envs\\idw\\lib\\site-packages\\statsmodels\\base\\model.py:604: ConvergenceWarning: Maximum Likelihood optimization failed to converge. Check mle_retvals\n",
      "  warnings.warn(\"Maximum Likelihood optimization failed to \"\n",
      "c:\\Users\\jabbe\\Envs\\idw\\lib\\site-packages\\statsmodels\\base\\model.py:604: ConvergenceWarning: Maximum Likelihood optimization failed to converge. Check mle_retvals\n",
      "  warnings.warn(\"Maximum Likelihood optimization failed to \"\n",
      "c:\\Users\\jabbe\\Envs\\idw\\lib\\site-packages\\statsmodels\\base\\model.py:604: ConvergenceWarning: Maximum Likelihood optimization failed to converge. Check mle_retvals\n",
      "  warnings.warn(\"Maximum Likelihood optimization failed to \"\n",
      "c:\\Users\\jabbe\\Envs\\idw\\lib\\site-packages\\statsmodels\\base\\model.py:604: ConvergenceWarning: Maximum Likelihood optimization failed to converge. Check mle_retvals\n",
      "  warnings.warn(\"Maximum Likelihood optimization failed to \"\n",
      "c:\\Users\\jabbe\\Envs\\idw\\lib\\site-packages\\statsmodels\\base\\model.py:604: ConvergenceWarning: Maximum Likelihood optimization failed to converge. Check mle_retvals\n",
      "  warnings.warn(\"Maximum Likelihood optimization failed to \"\n",
      "c:\\Users\\jabbe\\Envs\\idw\\lib\\site-packages\\statsmodels\\base\\model.py:604: ConvergenceWarning: Maximum Likelihood optimization failed to converge. Check mle_retvals\n",
      "  warnings.warn(\"Maximum Likelihood optimization failed to \"\n",
      "c:\\Users\\jabbe\\Envs\\idw\\lib\\site-packages\\statsmodels\\base\\model.py:604: ConvergenceWarning: Maximum Likelihood optimization failed to converge. Check mle_retvals\n",
      "  warnings.warn(\"Maximum Likelihood optimization failed to \"\n",
      "c:\\Users\\jabbe\\Envs\\idw\\lib\\site-packages\\statsmodels\\base\\model.py:604: ConvergenceWarning: Maximum Likelihood optimization failed to converge. Check mle_retvals\n",
      "  warnings.warn(\"Maximum Likelihood optimization failed to \"\n",
      "c:\\Users\\jabbe\\Envs\\idw\\lib\\site-packages\\statsmodels\\base\\model.py:604: ConvergenceWarning: Maximum Likelihood optimization failed to converge. Check mle_retvals\n",
      "  warnings.warn(\"Maximum Likelihood optimization failed to \"\n",
      "c:\\Users\\jabbe\\Envs\\idw\\lib\\site-packages\\statsmodels\\base\\model.py:604: ConvergenceWarning: Maximum Likelihood optimization failed to converge. Check mle_retvals\n",
      "  warnings.warn(\"Maximum Likelihood optimization failed to \"\n",
      "c:\\Users\\jabbe\\Envs\\idw\\lib\\site-packages\\statsmodels\\base\\model.py:604: ConvergenceWarning: Maximum Likelihood optimization failed to converge. Check mle_retvals\n",
      "  warnings.warn(\"Maximum Likelihood optimization failed to \"\n",
      "c:\\Users\\jabbe\\Envs\\idw\\lib\\site-packages\\statsmodels\\base\\model.py:604: ConvergenceWarning: Maximum Likelihood optimization failed to converge. Check mle_retvals\n",
      "  warnings.warn(\"Maximum Likelihood optimization failed to \"\n",
      "c:\\Users\\jabbe\\Envs\\idw\\lib\\site-packages\\statsmodels\\base\\model.py:604: ConvergenceWarning: Maximum Likelihood optimization failed to converge. Check mle_retvals\n",
      "  warnings.warn(\"Maximum Likelihood optimization failed to \"\n",
      "c:\\Users\\jabbe\\Envs\\idw\\lib\\site-packages\\statsmodels\\base\\model.py:604: ConvergenceWarning: Maximum Likelihood optimization failed to converge. Check mle_retvals\n",
      "  warnings.warn(\"Maximum Likelihood optimization failed to \"\n",
      "c:\\Users\\jabbe\\Envs\\idw\\lib\\site-packages\\statsmodels\\base\\model.py:604: ConvergenceWarning: Maximum Likelihood optimization failed to converge. Check mle_retvals\n",
      "  warnings.warn(\"Maximum Likelihood optimization failed to \"\n",
      "c:\\Users\\jabbe\\Envs\\idw\\lib\\site-packages\\statsmodels\\base\\model.py:604: ConvergenceWarning: Maximum Likelihood optimization failed to converge. Check mle_retvals\n",
      "  warnings.warn(\"Maximum Likelihood optimization failed to \"\n",
      "c:\\Users\\jabbe\\Envs\\idw\\lib\\site-packages\\statsmodels\\base\\model.py:604: ConvergenceWarning: Maximum Likelihood optimization failed to converge. Check mle_retvals\n",
      "  warnings.warn(\"Maximum Likelihood optimization failed to \"\n",
      "c:\\Users\\jabbe\\Envs\\idw\\lib\\site-packages\\statsmodels\\base\\model.py:604: ConvergenceWarning: Maximum Likelihood optimization failed to converge. Check mle_retvals\n",
      "  warnings.warn(\"Maximum Likelihood optimization failed to \"\n",
      "c:\\Users\\jabbe\\Envs\\idw\\lib\\site-packages\\statsmodels\\base\\model.py:604: ConvergenceWarning: Maximum Likelihood optimization failed to converge. Check mle_retvals\n",
      "  warnings.warn(\"Maximum Likelihood optimization failed to \"\n",
      "c:\\Users\\jabbe\\Envs\\idw\\lib\\site-packages\\statsmodels\\base\\model.py:604: ConvergenceWarning: Maximum Likelihood optimization failed to converge. Check mle_retvals\n",
      "  warnings.warn(\"Maximum Likelihood optimization failed to \"\n",
      "c:\\Users\\jabbe\\Envs\\idw\\lib\\site-packages\\statsmodels\\base\\model.py:604: ConvergenceWarning: Maximum Likelihood optimization failed to converge. Check mle_retvals\n",
      "  warnings.warn(\"Maximum Likelihood optimization failed to \"\n",
      "c:\\Users\\jabbe\\Envs\\idw\\lib\\site-packages\\statsmodels\\base\\model.py:604: ConvergenceWarning: Maximum Likelihood optimization failed to converge. Check mle_retvals\n",
      "  warnings.warn(\"Maximum Likelihood optimization failed to \"\n",
      "c:\\Users\\jabbe\\Envs\\idw\\lib\\site-packages\\statsmodels\\base\\model.py:604: ConvergenceWarning: Maximum Likelihood optimization failed to converge. Check mle_retvals\n",
      "  warnings.warn(\"Maximum Likelihood optimization failed to \"\n",
      "c:\\Users\\jabbe\\Envs\\idw\\lib\\site-packages\\statsmodels\\base\\model.py:604: ConvergenceWarning: Maximum Likelihood optimization failed to converge. Check mle_retvals\n",
      "  warnings.warn(\"Maximum Likelihood optimization failed to \"\n",
      "c:\\Users\\jabbe\\Envs\\idw\\lib\\site-packages\\statsmodels\\base\\model.py:604: ConvergenceWarning: Maximum Likelihood optimization failed to converge. Check mle_retvals\n",
      "  warnings.warn(\"Maximum Likelihood optimization failed to \"\n",
      "c:\\Users\\jabbe\\Envs\\idw\\lib\\site-packages\\statsmodels\\base\\model.py:604: ConvergenceWarning: Maximum Likelihood optimization failed to converge. Check mle_retvals\n",
      "  warnings.warn(\"Maximum Likelihood optimization failed to \"\n",
      "c:\\Users\\jabbe\\Envs\\idw\\lib\\site-packages\\statsmodels\\base\\model.py:604: ConvergenceWarning: Maximum Likelihood optimization failed to converge. Check mle_retvals\n",
      "  warnings.warn(\"Maximum Likelihood optimization failed to \"\n",
      "c:\\Users\\jabbe\\Envs\\idw\\lib\\site-packages\\statsmodels\\base\\model.py:604: ConvergenceWarning: Maximum Likelihood optimization failed to converge. Check mle_retvals\n",
      "  warnings.warn(\"Maximum Likelihood optimization failed to \"\n",
      "c:\\Users\\jabbe\\Envs\\idw\\lib\\site-packages\\statsmodels\\base\\model.py:604: ConvergenceWarning: Maximum Likelihood optimization failed to converge. Check mle_retvals\n",
      "  warnings.warn(\"Maximum Likelihood optimization failed to \"\n",
      "c:\\Users\\jabbe\\Envs\\idw\\lib\\site-packages\\statsmodels\\base\\model.py:604: ConvergenceWarning: Maximum Likelihood optimization failed to converge. Check mle_retvals\n",
      "  warnings.warn(\"Maximum Likelihood optimization failed to \"\n",
      "c:\\Users\\jabbe\\Envs\\idw\\lib\\site-packages\\statsmodels\\base\\model.py:604: ConvergenceWarning: Maximum Likelihood optimization failed to converge. Check mle_retvals\n",
      "  warnings.warn(\"Maximum Likelihood optimization failed to \"\n",
      "c:\\Users\\jabbe\\Envs\\idw\\lib\\site-packages\\statsmodels\\base\\model.py:604: ConvergenceWarning: Maximum Likelihood optimization failed to converge. Check mle_retvals\n",
      "  warnings.warn(\"Maximum Likelihood optimization failed to \"\n",
      "c:\\Users\\jabbe\\Envs\\idw\\lib\\site-packages\\statsmodels\\base\\model.py:604: ConvergenceWarning: Maximum Likelihood optimization failed to converge. Check mle_retvals\n",
      "  warnings.warn(\"Maximum Likelihood optimization failed to \"\n",
      "c:\\Users\\jabbe\\Envs\\idw\\lib\\site-packages\\statsmodels\\base\\model.py:604: ConvergenceWarning: Maximum Likelihood optimization failed to converge. Check mle_retvals\n",
      "  warnings.warn(\"Maximum Likelihood optimization failed to \"\n",
      "c:\\Users\\jabbe\\Envs\\idw\\lib\\site-packages\\statsmodels\\base\\model.py:604: ConvergenceWarning: Maximum Likelihood optimization failed to converge. Check mle_retvals\n",
      "  warnings.warn(\"Maximum Likelihood optimization failed to \"\n",
      "c:\\Users\\jabbe\\Envs\\idw\\lib\\site-packages\\statsmodels\\base\\model.py:604: ConvergenceWarning: Maximum Likelihood optimization failed to converge. Check mle_retvals\n",
      "  warnings.warn(\"Maximum Likelihood optimization failed to \"\n",
      "c:\\Users\\jabbe\\Envs\\idw\\lib\\site-packages\\statsmodels\\base\\model.py:604: ConvergenceWarning: Maximum Likelihood optimization failed to converge. Check mle_retvals\n",
      "  warnings.warn(\"Maximum Likelihood optimization failed to \"\n",
      "c:\\Users\\jabbe\\Envs\\idw\\lib\\site-packages\\statsmodels\\base\\model.py:604: ConvergenceWarning: Maximum Likelihood optimization failed to converge. Check mle_retvals\n",
      "  warnings.warn(\"Maximum Likelihood optimization failed to \"\n",
      "c:\\Users\\jabbe\\Envs\\idw\\lib\\site-packages\\statsmodels\\base\\model.py:604: ConvergenceWarning: Maximum Likelihood optimization failed to converge. Check mle_retvals\n",
      "  warnings.warn(\"Maximum Likelihood optimization failed to \"\n",
      "c:\\Users\\jabbe\\Envs\\idw\\lib\\site-packages\\statsmodels\\base\\model.py:604: ConvergenceWarning: Maximum Likelihood optimization failed to converge. Check mle_retvals\n",
      "  warnings.warn(\"Maximum Likelihood optimization failed to \"\n",
      "c:\\Users\\jabbe\\Envs\\idw\\lib\\site-packages\\statsmodels\\base\\model.py:604: ConvergenceWarning: Maximum Likelihood optimization failed to converge. Check mle_retvals\n",
      "  warnings.warn(\"Maximum Likelihood optimization failed to \"\n",
      "c:\\Users\\jabbe\\Envs\\idw\\lib\\site-packages\\statsmodels\\base\\model.py:604: ConvergenceWarning: Maximum Likelihood optimization failed to converge. Check mle_retvals\n",
      "  warnings.warn(\"Maximum Likelihood optimization failed to \"\n",
      "c:\\Users\\jabbe\\Envs\\idw\\lib\\site-packages\\statsmodels\\base\\model.py:604: ConvergenceWarning: Maximum Likelihood optimization failed to converge. Check mle_retvals\n",
      "  warnings.warn(\"Maximum Likelihood optimization failed to \"\n",
      "c:\\Users\\jabbe\\Envs\\idw\\lib\\site-packages\\statsmodels\\base\\model.py:604: ConvergenceWarning: Maximum Likelihood optimization failed to converge. Check mle_retvals\n",
      "  warnings.warn(\"Maximum Likelihood optimization failed to \"\n",
      "c:\\Users\\jabbe\\Envs\\idw\\lib\\site-packages\\statsmodels\\base\\model.py:604: ConvergenceWarning: Maximum Likelihood optimization failed to converge. Check mle_retvals\n",
      "  warnings.warn(\"Maximum Likelihood optimization failed to \"\n",
      "c:\\Users\\jabbe\\Envs\\idw\\lib\\site-packages\\statsmodels\\base\\model.py:604: ConvergenceWarning: Maximum Likelihood optimization failed to converge. Check mle_retvals\n",
      "  warnings.warn(\"Maximum Likelihood optimization failed to \"\n",
      "c:\\Users\\jabbe\\Envs\\idw\\lib\\site-packages\\statsmodels\\base\\model.py:604: ConvergenceWarning: Maximum Likelihood optimization failed to converge. Check mle_retvals\n",
      "  warnings.warn(\"Maximum Likelihood optimization failed to \"\n",
      "c:\\Users\\jabbe\\Envs\\idw\\lib\\site-packages\\statsmodels\\base\\model.py:604: ConvergenceWarning: Maximum Likelihood optimization failed to converge. Check mle_retvals\n",
      "  warnings.warn(\"Maximum Likelihood optimization failed to \"\n",
      "c:\\Users\\jabbe\\Envs\\idw\\lib\\site-packages\\statsmodels\\base\\model.py:604: ConvergenceWarning: Maximum Likelihood optimization failed to converge. Check mle_retvals\n",
      "  warnings.warn(\"Maximum Likelihood optimization failed to \"\n",
      "c:\\Users\\jabbe\\Envs\\idw\\lib\\site-packages\\statsmodels\\base\\model.py:604: ConvergenceWarning: Maximum Likelihood optimization failed to converge. Check mle_retvals\n",
      "  warnings.warn(\"Maximum Likelihood optimization failed to \"\n",
      "c:\\Users\\jabbe\\Envs\\idw\\lib\\site-packages\\statsmodels\\base\\model.py:604: ConvergenceWarning: Maximum Likelihood optimization failed to converge. Check mle_retvals\n",
      "  warnings.warn(\"Maximum Likelihood optimization failed to \"\n",
      "c:\\Users\\jabbe\\Envs\\idw\\lib\\site-packages\\statsmodels\\base\\model.py:604: ConvergenceWarning: Maximum Likelihood optimization failed to converge. Check mle_retvals\n",
      "  warnings.warn(\"Maximum Likelihood optimization failed to \"\n",
      "c:\\Users\\jabbe\\Envs\\idw\\lib\\site-packages\\statsmodels\\base\\model.py:604: ConvergenceWarning: Maximum Likelihood optimization failed to converge. Check mle_retvals\n",
      "  warnings.warn(\"Maximum Likelihood optimization failed to \"\n",
      "c:\\Users\\jabbe\\Envs\\idw\\lib\\site-packages\\statsmodels\\base\\model.py:604: ConvergenceWarning: Maximum Likelihood optimization failed to converge. Check mle_retvals\n",
      "  warnings.warn(\"Maximum Likelihood optimization failed to \"\n",
      "c:\\Users\\jabbe\\Envs\\idw\\lib\\site-packages\\statsmodels\\base\\model.py:604: ConvergenceWarning: Maximum Likelihood optimization failed to converge. Check mle_retvals\n",
      "  warnings.warn(\"Maximum Likelihood optimization failed to \"\n",
      "c:\\Users\\jabbe\\Envs\\idw\\lib\\site-packages\\statsmodels\\base\\model.py:604: ConvergenceWarning: Maximum Likelihood optimization failed to converge. Check mle_retvals\n",
      "  warnings.warn(\"Maximum Likelihood optimization failed to \"\n",
      "c:\\Users\\jabbe\\Envs\\idw\\lib\\site-packages\\statsmodels\\base\\model.py:604: ConvergenceWarning: Maximum Likelihood optimization failed to converge. Check mle_retvals\n",
      "  warnings.warn(\"Maximum Likelihood optimization failed to \"\n",
      "c:\\Users\\jabbe\\Envs\\idw\\lib\\site-packages\\statsmodels\\base\\model.py:604: ConvergenceWarning: Maximum Likelihood optimization failed to converge. Check mle_retvals\n",
      "  warnings.warn(\"Maximum Likelihood optimization failed to \"\n",
      "c:\\Users\\jabbe\\Envs\\idw\\lib\\site-packages\\statsmodels\\base\\model.py:604: ConvergenceWarning: Maximum Likelihood optimization failed to converge. Check mle_retvals\n",
      "  warnings.warn(\"Maximum Likelihood optimization failed to \"\n",
      "c:\\Users\\jabbe\\Envs\\idw\\lib\\site-packages\\statsmodels\\base\\model.py:604: ConvergenceWarning: Maximum Likelihood optimization failed to converge. Check mle_retvals\n",
      "  warnings.warn(\"Maximum Likelihood optimization failed to \"\n",
      "c:\\Users\\jabbe\\Envs\\idw\\lib\\site-packages\\statsmodels\\base\\model.py:604: ConvergenceWarning: Maximum Likelihood optimization failed to converge. Check mle_retvals\n",
      "  warnings.warn(\"Maximum Likelihood optimization failed to \"\n",
      "c:\\Users\\jabbe\\Envs\\idw\\lib\\site-packages\\statsmodels\\base\\model.py:604: ConvergenceWarning: Maximum Likelihood optimization failed to converge. Check mle_retvals\n",
      "  warnings.warn(\"Maximum Likelihood optimization failed to \"\n",
      "c:\\Users\\jabbe\\Envs\\idw\\lib\\site-packages\\statsmodels\\base\\model.py:604: ConvergenceWarning: Maximum Likelihood optimization failed to converge. Check mle_retvals\n",
      "  warnings.warn(\"Maximum Likelihood optimization failed to \"\n",
      "c:\\Users\\jabbe\\Envs\\idw\\lib\\site-packages\\statsmodels\\base\\model.py:604: ConvergenceWarning: Maximum Likelihood optimization failed to converge. Check mle_retvals\n",
      "  warnings.warn(\"Maximum Likelihood optimization failed to \"\n",
      "c:\\Users\\jabbe\\Envs\\idw\\lib\\site-packages\\statsmodels\\base\\model.py:604: ConvergenceWarning: Maximum Likelihood optimization failed to converge. Check mle_retvals\n",
      "  warnings.warn(\"Maximum Likelihood optimization failed to \"\n",
      "c:\\Users\\jabbe\\Envs\\idw\\lib\\site-packages\\statsmodels\\base\\model.py:604: ConvergenceWarning: Maximum Likelihood optimization failed to converge. Check mle_retvals\n",
      "  warnings.warn(\"Maximum Likelihood optimization failed to \"\n",
      "c:\\Users\\jabbe\\Envs\\idw\\lib\\site-packages\\statsmodels\\base\\model.py:604: ConvergenceWarning: Maximum Likelihood optimization failed to converge. Check mle_retvals\n",
      "  warnings.warn(\"Maximum Likelihood optimization failed to \"\n",
      "c:\\Users\\jabbe\\Envs\\idw\\lib\\site-packages\\statsmodels\\base\\model.py:604: ConvergenceWarning: Maximum Likelihood optimization failed to converge. Check mle_retvals\n",
      "  warnings.warn(\"Maximum Likelihood optimization failed to \"\n",
      "c:\\Users\\jabbe\\Envs\\idw\\lib\\site-packages\\statsmodels\\base\\model.py:604: ConvergenceWarning: Maximum Likelihood optimization failed to converge. Check mle_retvals\n",
      "  warnings.warn(\"Maximum Likelihood optimization failed to \"\n",
      "c:\\Users\\jabbe\\Envs\\idw\\lib\\site-packages\\statsmodels\\base\\model.py:604: ConvergenceWarning: Maximum Likelihood optimization failed to converge. Check mle_retvals\n",
      "  warnings.warn(\"Maximum Likelihood optimization failed to \"\n",
      "c:\\Users\\jabbe\\Envs\\idw\\lib\\site-packages\\statsmodels\\base\\model.py:604: ConvergenceWarning: Maximum Likelihood optimization failed to converge. Check mle_retvals\n",
      "  warnings.warn(\"Maximum Likelihood optimization failed to \"\n",
      "c:\\Users\\jabbe\\Envs\\idw\\lib\\site-packages\\statsmodels\\base\\model.py:604: ConvergenceWarning: Maximum Likelihood optimization failed to converge. Check mle_retvals\n",
      "  warnings.warn(\"Maximum Likelihood optimization failed to \"\n",
      "c:\\Users\\jabbe\\Envs\\idw\\lib\\site-packages\\statsmodels\\base\\model.py:604: ConvergenceWarning: Maximum Likelihood optimization failed to converge. Check mle_retvals\n",
      "  warnings.warn(\"Maximum Likelihood optimization failed to \"\n",
      "c:\\Users\\jabbe\\Envs\\idw\\lib\\site-packages\\statsmodels\\base\\model.py:604: ConvergenceWarning: Maximum Likelihood optimization failed to converge. Check mle_retvals\n",
      "  warnings.warn(\"Maximum Likelihood optimization failed to \"\n",
      "c:\\Users\\jabbe\\Envs\\idw\\lib\\site-packages\\statsmodels\\base\\model.py:604: ConvergenceWarning: Maximum Likelihood optimization failed to converge. Check mle_retvals\n",
      "  warnings.warn(\"Maximum Likelihood optimization failed to \"\n"
     ]
    }
   ],
   "source": [
    "mse_list = []\n",
    "for X, y in zip(X_list, y_list):\n",
    "    mod =SARIMAX(X,\n",
    "                                order=optimal_order,\n",
    "                                seasonal_order=optimal_seasonal_order,\n",
    "                                enforce_stationarity=False,\n",
    "                                enforce_invertibility=False)\n",
    "\n",
    "    fitted_model = mod.fit()\n",
    "\n",
    "    forecast = fitted_model.forecast(steps=48)\n",
    "\n",
    "    mse = ((forecast - y) ** 2).mean()\n",
    "    mse_list.append(mse)\n",
    "\n",
    "\n",
    "mse_dict[f\"SARIMAX{(1, 0, 0)}x{(1, 0, 1, 24)}\"] = np.array(mse_list).mean()\n"
   ]
  },
  {
   "cell_type": "code",
   "execution_count": 36,
   "metadata": {},
   "outputs": [],
   "source": [
    "\n",
    "mse_dict[f\"SARIMAX{(1, 0, 0)}x{(1, 0, 1, 24)}\"] = np.array(mse_list).mean()"
   ]
  },
  {
   "cell_type": "code",
   "execution_count": 50,
   "metadata": {},
   "outputs": [
    {
     "data": {
      "text/plain": [
       "{'SARIMAX(1, 0, 0)x(1, 0, 1, 24)': 0.0008692357285921017}"
      ]
     },
     "execution_count": 50,
     "metadata": {},
     "output_type": "execute_result"
    }
   ],
   "source": [
    "mse_dict"
   ]
  },
  {
   "cell_type": "code",
   "execution_count": 45,
   "metadata": {},
   "outputs": [
    {
     "data": {
      "text/plain": [
       "333"
      ]
     },
     "execution_count": 45,
     "metadata": {},
     "output_type": "execute_result"
    }
   ],
   "source": [
    "len(mse_list)"
   ]
  },
  {
   "cell_type": "code",
   "execution_count": 46,
   "metadata": {},
   "outputs": [
    {
     "data": {
      "text/plain": [
       "array([0.21519435, 0.21994542, 0.24196384, 0.29270729, 0.40046144,\n",
       "       0.47415714, 0.45740464, 0.44170217, 0.4155494 , 0.39060781,\n",
       "       0.37555757, 0.36391964, 0.35571235, 0.35653149, 0.36599043,\n",
       "       0.38340926, 0.40064053, 0.40755813, 0.40556589, 0.39419348,\n",
       "       0.35635775, 0.2787879 , 0.22072967, 0.21087224, 0.22289411,\n",
       "       0.2275307 , 0.24949128, 0.29993342, 0.40841057, 0.48276028,\n",
       "       0.46646021, 0.45155178, 0.42565871, 0.40117881, 0.38484149,\n",
       "       0.37323651, 0.36671486, 0.36859696, 0.37738301, 0.39445604,\n",
       "       0.41075759, 0.41665539, 0.41465201, 0.40257553, 0.36400402,\n",
       "       0.28474212, 0.22691071, 0.21233845])"
      ]
     },
     "execution_count": 46,
     "metadata": {},
     "output_type": "execute_result"
    }
   ],
   "source": [
    "forecast"
   ]
  },
  {
   "cell_type": "code",
   "execution_count": 47,
   "metadata": {},
   "outputs": [
    {
     "data": {
      "text/plain": [
       "array([0.21741131, 0.21214666, 0.23740011, 0.29898081, 0.41939677,\n",
       "       0.46128392, 0.43544763, 0.41637909, 0.39499072, 0.371758  ,\n",
       "       0.35964892, 0.34891639, 0.34435344, 0.3527048 , 0.35996334,\n",
       "       0.37893603, 0.40015951, 0.40742956, 0.40762512, 0.40018635,\n",
       "       0.36068421, 0.28401509, 0.2237726 , 0.23658722, 0.24598153,\n",
       "       0.25255755, 0.27585929, 0.32270817, 0.44075829, 0.52359315,\n",
       "       0.50704382, 0.49502293, 0.47400267, 0.45201614, 0.43120293,\n",
       "       0.41830013, 0.41709996, 0.42009847, 0.42793985, 0.44482277,\n",
       "       0.4602678 , 0.46422875, 0.45963128, 0.4406701 , 0.3997569 ,\n",
       "       0.31332919, 0.25371171, 0.25537201])"
      ]
     },
     "execution_count": 47,
     "metadata": {},
     "output_type": "execute_result"
    }
   ],
   "source": [
    "y"
   ]
  },
  {
   "cell_type": "code",
   "execution_count": 48,
   "metadata": {},
   "outputs": [],
   "source": [
    "df_show = pd.DataFrame({\"Forecast\": forecast, \"Actual\": y})"
   ]
  },
  {
   "cell_type": "code",
   "execution_count": 49,
   "metadata": {},
   "outputs": [
    {
     "data": {
      "text/plain": [
       "<AxesSubplot:>"
      ]
     },
     "execution_count": 49,
     "metadata": {},
     "output_type": "execute_result"
    },
    {
     "data": {
      "image/png": "[encoded data removed]",
      "text/plain": [
       "<Figure size 432x288 with 1 Axes>"
      ]
     },
     "metadata": {
      "needs_background": "light"
     },
     "output_type": "display_data"
    }
   ],
   "source": [
    "df_show.plot()"
   ]
  },
  {
   "cell_type": "code",
   "execution_count": 39,
   "metadata": {},
   "outputs": [
    {
     "ename": "NameError",
     "evalue": "name 'results' is not defined",
     "output_type": "error",
     "traceback": [
      "\u001b[1;31m---------------------------------------------------------------------------\u001b[0m",
      "\u001b[1;31mNameError\u001b[0m                                 Traceback (most recent call last)",
      "\u001b[1;32mc:\\Users\\jabbe\\Documents\\DataScience\\4Semester\\Opencampus\\TSProject\\GitHub\\Time_series_ML\\traintestsplit.ipynb Cell 45\u001b[0m in \u001b[0;36m<cell line: 1>\u001b[1;34m()\u001b[0m\n\u001b[1;32m----> <a href='vscode-notebook-cell:/c%3A/Users/jabbe/Documents/DataScience/4Semester/Opencampus/TSProject/GitHub/Time_series_ML/traintestsplit.ipynb#X53sZmlsZQ%3D%3D?line=0'>1</a>\u001b[0m pred \u001b[39m=\u001b[39m results\u001b[39m.\u001b[39mget_prediction(start\u001b[39m=\u001b[39mdf_small\u001b[39m.\u001b[39mindex[\u001b[39m22\u001b[39m\u001b[39m*\u001b[39m\u001b[39m15\u001b[39m], dynamic\u001b[39m=\u001b[39m\u001b[39mTrue\u001b[39;00m)\n",
      "\u001b[1;31mNameError\u001b[0m: name 'results' is not defined"
     ]
    }
   ],
   "source": [
    "pred = results.get_prediction(start=df_small.index[22*15], dynamic=True)"
   ]
  },
  {
   "cell_type": "code",
   "execution_count": 28,
   "metadata": {},
   "outputs": [],
   "source": [
    "pred_ci = pred.conf_int()"
   ]
  },
  {
   "cell_type": "code",
   "execution_count": 29,
   "metadata": {},
   "outputs": [],
   "source": [
    "import matplotlib.pyplot as plt"
   ]
  },
  {
   "cell_type": "code",
   "execution_count": 30,
   "metadata": {},
   "outputs": [
    {
     "data": {
      "image/png": "[encoded data removed]",
      "text/plain": [
       "<Figure size 432x288 with 1 Axes>"
      ]
     },
     "metadata": {
      "needs_background": "light"
     },
     "output_type": "display_data"
    }
   ],
   "source": [
    "ax = df_small.plot(label='observed')\n",
    "pred.predicted_mean.plot(ax=ax, label='One-step ahead Forecast', alpha=.7)\n",
    "\n",
    "ax.fill_between(pred_ci.index,\n",
    "                pred_ci.iloc[:, 0],\n",
    "                pred_ci.iloc[:, 1], color='k', alpha=.2)\n",
    "\n",
    "ax.set_xlabel('Date')\n",
    "ax.set_ylabel('CO2 Levels')\n",
    "plt.legend()\n",
    "\n",
    "plt.show()"
   ]
  },
  {
   "cell_type": "code",
   "execution_count": 35,
   "metadata": {},
   "outputs": [
    {
     "name": "stdout",
     "output_type": "stream",
     "text": [
      "The Mean Squared Error of our forecasts is 108882153.16\n"
     ]
    }
   ],
   "source": [
    "y_forecasted = 2**pred.predicted_mean\n",
    "y_truth = 2**df_small.iloc[24*15:24*17]\n",
    "\n",
    "# Compute the mean square error\n",
    "mse = ((y_forecasted - y_truth) ** 2).mean()\n",
    "print('The Mean Squared Error of our forecasts is {}'.format(round(mse, 2)))"
   ]
  },
  {
   "cell_type": "code",
   "execution_count": 36,
   "metadata": {},
   "outputs": [
    {
     "data": {
      "text/plain": [
       "2008-01-16 00:00:00+00:00     59471.0\n",
       "2008-01-16 01:00:00+00:00     60879.0\n",
       "2008-01-16 02:00:00+00:00     67250.0\n",
       "2008-01-16 03:00:00+00:00     81177.0\n",
       "2008-01-16 04:00:00+00:00    109471.0\n",
       "2008-01-16 05:00:00+00:00    130250.0\n",
       "2008-01-16 06:00:00+00:00    127015.0\n",
       "2008-01-16 07:00:00+00:00    123653.0\n",
       "2008-01-16 08:00:00+00:00    115791.0\n",
       "2008-01-16 09:00:00+00:00    109058.0\n",
       "2008-01-16 10:00:00+00:00    103716.0\n",
       "2008-01-16 11:00:00+00:00    101085.0\n",
       "2008-01-16 12:00:00+00:00    100545.0\n",
       "2008-01-16 13:00:00+00:00    101625.0\n",
       "2008-01-16 14:00:00+00:00    104016.0\n",
       "2008-01-16 15:00:00+00:00    108391.0\n",
       "2008-01-16 16:00:00+00:00    112416.0\n",
       "2008-01-16 17:00:00+00:00    113638.0\n",
       "2008-01-16 18:00:00+00:00    113606.0\n",
       "2008-01-16 19:00:00+00:00    110169.0\n",
       "2008-01-16 20:00:00+00:00     99321.0\n",
       "2008-01-16 21:00:00+00:00     76668.0\n",
       "2008-01-16 22:00:00+00:00     61237.0\n",
       "2008-01-16 23:00:00+00:00     56657.0\n",
       "2008-01-17 00:00:00+00:00     59733.0\n",
       "2008-01-17 01:00:00+00:00     61113.0\n",
       "2008-01-17 02:00:00+00:00     67514.0\n",
       "2008-01-17 03:00:00+00:00     81560.0\n",
       "2008-01-17 04:00:00+00:00    109992.0\n",
       "2008-01-17 05:00:00+00:00    130820.0\n",
       "2008-01-17 06:00:00+00:00    127614.0\n",
       "2008-01-17 07:00:00+00:00    124204.0\n",
       "2008-01-17 08:00:00+00:00    116320.0\n",
       "2008-01-17 09:00:00+00:00    109526.0\n",
       "2008-01-17 10:00:00+00:00    104169.0\n",
       "2008-01-17 11:00:00+00:00    101458.0\n",
       "2008-01-17 12:00:00+00:00    100969.0\n",
       "2008-01-17 13:00:00+00:00    102038.0\n",
       "2008-01-17 14:00:00+00:00    104427.0\n",
       "2008-01-17 15:00:00+00:00    108799.0\n",
       "2008-01-17 16:00:00+00:00    112873.0\n",
       "2008-01-17 17:00:00+00:00    114086.0\n",
       "2008-01-17 18:00:00+00:00    114066.0\n",
       "2008-01-17 19:00:00+00:00    110637.0\n",
       "2008-01-17 20:00:00+00:00     99715.0\n",
       "2008-01-17 21:00:00+00:00     77015.0\n",
       "2008-01-17 22:00:00+00:00     61482.0\n",
       "2008-01-17 23:00:00+00:00     49519.0\n",
       "Name: Total_Heat_daily_diff, dtype: float64"
      ]
     },
     "execution_count": 36,
     "metadata": {},
     "output_type": "execute_result"
    }
   ],
   "source": [
    "y_truth"
   ]
  },
  {
   "cell_type": "code",
   "execution_count": 58,
   "metadata": {},
   "outputs": [
    {
     "name": "stderr",
     "output_type": "stream",
     "text": [
      "c:\\Users\\jabbe\\Envs\\idw\\lib\\site-packages\\statsmodels\\tsa\\base\\tsa_model.py:471: ValueWarning: No frequency information was provided, so inferred frequency H will be used.\n",
      "  self._init_dates(dates, freq)\n",
      "c:\\Users\\jabbe\\Envs\\idw\\lib\\site-packages\\statsmodels\\tsa\\base\\tsa_model.py:471: ValueWarning: No frequency information was provided, so inferred frequency H will be used.\n",
      "  self._init_dates(dates, freq)\n",
      "c:\\Users\\jabbe\\Envs\\idw\\lib\\site-packages\\statsmodels\\tsa\\base\\tsa_model.py:471: ValueWarning: No frequency information was provided, so inferred frequency H will be used.\n",
      "  self._init_dates(dates, freq)\n"
     ]
    }
   ],
   "source": [
    "my_arma = SARIMAX(df_small, order=(3,1,1), seasonal_order=() freq='')"
   ]
  },
  {
   "cell_type": "code",
   "execution_count": 59,
   "metadata": {},
   "outputs": [],
   "source": [
    "results = my_arma.fit()"
   ]
  },
  {
   "cell_type": "code",
   "execution_count": 60,
   "metadata": {},
   "outputs": [
    {
     "data": {
      "text/plain": [
       "-798.5316599192159"
      ]
     },
     "execution_count": 60,
     "metadata": {},
     "output_type": "execute_result"
    }
   ],
   "source": [
    "results.aic"
   ]
  },
  {
   "cell_type": "code",
   "execution_count": 20,
   "metadata": {},
   "outputs": [
    {
     "data": {
      "text/plain": [
       "array([ 55417.,  56691.,  62289.,  75539., 102085., 123732., 120589.,\n",
       "       117151., 109552., 103416.,  98390.,  95563.,  94712.,  95999.,\n",
       "        98204., 102182., 105845., 107665., 107485., 104103.,  93909.,\n",
       "        72672.,  57822.,  55429.,  57493.,  59247.,  65173.,  78972.,\n",
       "       108795., 129002., 123673., 119323., 112293., 105367., 102149.,\n",
       "        98797.,  95993.,  95583.,  98739., 103934., 109241., 111631.,\n",
       "       110941., 107896.,  97875.,  77134.,  61094.,  67292.])"
      ]
     },
     "execution_count": 20,
     "metadata": {},
     "output_type": "execute_result"
    }
   ],
   "source": [
    "y_list[0]"
   ]
  },
  {
   "cell_type": "code",
   "execution_count": 21,
   "metadata": {},
   "outputs": [],
   "source": [
    "my_arma = ARIMA(X_list[0], order=(1,1,1))"
   ]
  },
  {
   "cell_type": "code",
   "execution_count": 22,
   "metadata": {},
   "outputs": [],
   "source": [
    "result = my_arma.fit()"
   ]
  },
  {
   "cell_type": "code",
   "execution_count": 23,
   "metadata": {},
   "outputs": [
    {
     "data": {
      "text/html": [
       "<table class=\"simpletable\">\n",
       "<tr>\n",
       "     <td></td>       <th>coef</th>     <th>std err</th>      <th>z</th>      <th>P>|z|</th>  <th>[0.025</th>    <th>0.975]</th>  \n",
       "</tr>\n",
       "<tr>\n",
       "  <th>ar.L1</th>  <td>    0.3534</td> <td>    0.028</td> <td>   12.604</td> <td> 0.000</td> <td>    0.298</td> <td>    0.408</td>\n",
       "</tr>\n",
       "<tr>\n",
       "  <th>ma.L1</th>  <td>    0.3728</td> <td>    0.044</td> <td>    8.506</td> <td> 0.000</td> <td>    0.287</td> <td>    0.459</td>\n",
       "</tr>\n",
       "<tr>\n",
       "  <th>sigma2</th> <td> 7.152e+07</td> <td> 7.65e-11</td> <td> 9.34e+17</td> <td> 0.000</td> <td> 7.15e+07</td> <td> 7.15e+07</td>\n",
       "</tr>\n",
       "</table>"
      ],
      "text/plain": [
       "<class 'statsmodels.iolib.table.SimpleTable'>"
      ]
     },
     "execution_count": 23,
     "metadata": {},
     "output_type": "execute_result"
    }
   ],
   "source": [
    "result.summary().tables[1]"
   ]
  },
  {
   "cell_type": "code",
   "execution_count": 24,
   "metadata": {},
   "outputs": [],
   "source": [
    "pred = result.get_prediction()"
   ]
  },
  {
   "cell_type": "code",
   "execution_count": 31,
   "metadata": {},
   "outputs": [
    {
     "ename": "AttributeError",
     "evalue": "'numpy.ndarray' object has no attribute 'plot'",
     "output_type": "error",
     "traceback": [
      "\u001b[1;31m---------------------------------------------------------------------------\u001b[0m",
      "\u001b[1;31mAttributeError\u001b[0m                            Traceback (most recent call last)",
      "\u001b[1;32mc:\\Users\\jabbe\\Documents\\DataScience\\4Semester\\Opencampus\\TSProject\\GitHub\\Time_series_ML\\traintestsplit.ipynb Cell 29\u001b[0m in \u001b[0;36m<cell line: 1>\u001b[1;34m()\u001b[0m\n\u001b[1;32m----> <a href='vscode-notebook-cell:/c%3A/Users/jabbe/Documents/DataScience/4Semester/Opencampus/TSProject/GitHub/Time_series_ML/traintestsplit.ipynb#X42sZmlsZQ%3D%3D?line=0'>1</a>\u001b[0m pred\u001b[39m.\u001b[39;49mpredicted_mean\u001b[39m.\u001b[39;49mplot()\n",
      "\u001b[1;31mAttributeError\u001b[0m: 'numpy.ndarray' object has no attribute 'plot'"
     ]
    }
   ],
   "source": [
    "pred.predicted_mean"
   ]
  },
  {
   "cell_type": "code",
   "execution_count": 94,
   "metadata": {},
   "outputs": [
    {
     "data": {
      "text/plain": [
       "array([[-21075.4521082 ,  21075.4521082 ],\n",
       "       [138028.65849761, 172111.88649799],\n",
       "       [ 65390.66582702,  98665.8538655 ],\n",
       "       [102284.95326535, 135453.23581224],\n",
       "       [109561.5370232 , 142715.06049748],\n",
       "       [167469.57319444, 200621.04732931],\n",
       "       [182442.20477438, 215593.39412615],\n",
       "       [156261.85102858, 189413.00080156],\n",
       "       [167009.76074292, 200160.9050152 ],\n",
       "       [150932.70453748, 184083.84804528],\n",
       "       [146783.24808857, 179934.39149012],\n",
       "       [139412.06020236, 172563.20358913],\n",
       "       [137627.29999141, 170778.44337613],\n",
       "       [136775.4839316 , 169926.62731604],\n",
       "       [140535.52298723, 173686.66637163],\n",
       "       [142794.74233613, 175945.88572053],\n",
       "       [150652.23581393, 183803.37919832],\n",
       "       [151025.47035071, 184176.61373511],\n",
       "       [149091.00283801, 182242.1462224 ],\n",
       "       [146220.2058635 , 179371.34924789],\n",
       "       [137674.4621589 , 170825.6055433 ],\n",
       "       [117183.98048603, 150335.12387043],\n",
       "       [ 85382.50671314, 118533.65009753],\n",
       "       [ 74923.79288597, 108074.93627036],\n",
       "       [ 88010.67058245, 121161.81396684],\n",
       "       [ 86626.5406053 , 119777.68398969],\n",
       "       [ 90584.40851549, 123735.55189988],\n",
       "       [ 99989.75493972, 133140.89832411],\n",
       "       [116412.2054416 , 149563.34882599],\n",
       "       [170431.26171207, 203582.40509647],\n",
       "       [188933.74070561, 222084.88409   ],\n",
       "       [159932.88139687, 193084.02478127],\n",
       "       [174042.3778445 , 207193.5212289 ],\n",
       "       [155607.13355391, 188758.2769383 ],\n",
       "       [152641.4242178 , 185792.56760219],\n",
       "       [144753.57584223, 177904.71922662],\n",
       "       [143278.66146741, 176429.8048518 ],\n",
       "       [141362.08902671, 174513.23241111],\n",
       "       [145921.1816053 , 179072.32498969],\n",
       "       [147745.82608848, 180896.96947288],\n",
       "       [155539.29123764, 188690.43462204],\n",
       "       [155920.98463937, 189072.12802377],\n",
       "       [153503.09469852, 186654.23808291],\n",
       "       [150640.85328257, 183791.99666696],\n",
       "       [141243.22096254, 174394.36434693],\n",
       "       [120680.68471965, 153831.82810404],\n",
       "       [ 90862.18511756, 124013.32850195],\n",
       "       [ 79658.96212739, 112810.10551178],\n",
       "       [ 89420.74256578, 122571.88595018],\n",
       "       [ 90088.01099335, 123239.15437775],\n",
       "       [ 93352.4995396 , 126503.642924  ],\n",
       "       [102937.54363571, 136088.6870201 ],\n",
       "       [119538.41179909, 152689.55518348],\n",
       "       [174061.22887329, 207212.37225768],\n",
       "       [193119.3960461 , 226270.53943049],\n",
       "       [163249.91106691, 196401.05445131],\n",
       "       [178833.45752446, 211984.60090886],\n",
       "       [159400.41357963, 192551.55696402],\n",
       "       [156540.22520021, 189691.3685846 ],\n",
       "       [148572.06106909, 181723.20445348],\n",
       "       [146903.52384963, 180054.66723402],\n",
       "       [144760.62331902, 177911.76670341],\n",
       "       [149675.72330962, 182826.86669401],\n",
       "       [151195.45841572, 184346.60180012],\n",
       "       [159334.87423336, 192486.01761775],\n",
       "       [159307.32155705, 192458.46494145],\n",
       "       [156964.75692643, 190115.90031082],\n",
       "       [153915.52809603, 187066.67148043],\n",
       "       [144195.5920362 , 177346.73542059],\n",
       "       [123326.79879696, 156477.94218136],\n",
       "       [ 93615.5866018 , 126766.7299862 ],\n",
       "       [ 82328.01626427, 115479.15964866],\n",
       "       [ 82609.7446913 , 115760.88807569],\n",
       "       [ 87984.5546188 , 121135.69800319],\n",
       "       [ 90236.56340962, 123387.70679401],\n",
       "       [ 99185.42477669, 132336.56816109],\n",
       "       [116905.65243415, 150056.79581854],\n",
       "       [171410.06899872, 204561.21238311],\n",
       "       [194367.22612958, 227518.36951397],\n",
       "       [161425.37489007, 194576.51827446],\n",
       "       [176463.97761837, 209615.12100276],\n",
       "       [158283.43369401, 191434.5770784 ],\n",
       "       [155469.96971727, 188621.11310166],\n",
       "       [147275.19444782, 180426.33783221],\n",
       "       [145566.86486518, 178718.00824957],\n",
       "       [142928.84530825, 176079.98869265],\n",
       "       [148737.79116922, 181888.93455361],\n",
       "       [149541.00374281, 182692.1471272 ],\n",
       "       [158396.21086526, 191547.35424965],\n",
       "       [156933.35880604, 190084.50219043],\n",
       "       [157454.51764482, 190605.66102921],\n",
       "       [151984.71640829, 185135.85979269],\n",
       "       [143481.91331593, 176633.05670033],\n",
       "       [122418.3974341 , 155569.54081849],\n",
       "       [ 91917.04588148, 125068.18926587],\n",
       "       [ 80225.62381744, 113376.76720183],\n",
       "       [ 59360.44510486,  92511.58848925],\n",
       "       [ 76129.82789204, 109280.97127643],\n",
       "       [ 74303.13900467, 107454.28238906],\n",
       "       [ 83526.96339074, 116678.10677514],\n",
       "       [101714.37742205, 134865.52080644],\n",
       "       [155274.28016106, 188425.42354546],\n",
       "       [168350.06899629, 201501.21238069],\n",
       "       [139973.87980543, 173125.02318983],\n",
       "       [147397.07337742, 180548.21676182],\n",
       "       [135966.35081009, 169117.49419449],\n",
       "       [130600.18052587, 163751.32391026],\n",
       "       [127703.70169808, 160854.84508247],\n",
       "       [122532.4889654 , 155683.63234979],\n",
       "       [122375.46252812, 155526.60591251],\n",
       "       [123214.71435857, 156365.85774296],\n",
       "       [126194.63743927, 159345.78082367],\n",
       "       [135689.18073458, 168840.32411897],\n",
       "       [137585.55971904, 170736.70310343],\n",
       "       [136395.85464891, 169546.99803331],\n",
       "       [133261.22625265, 166412.36963705],\n",
       "       [126333.1531999 , 159484.29658429],\n",
       "       [109051.81080701, 142202.95419141],\n",
       "       [ 77359.06399145, 110510.20737584],\n",
       "       [ 66990.4832062 , 100141.6265906 ],\n",
       "       [ 56156.73294272,  89307.87632711],\n",
       "       [ 68492.9503028 , 101644.09368719],\n",
       "       [ 63844.69828191,  96995.84166631],\n",
       "       [ 77022.22656828, 110173.36995267],\n",
       "       [ 98527.6427903 , 131678.78617469],\n",
       "       [148925.68860037, 182076.83198476],\n",
       "       [143174.63793575, 176325.78132015],\n",
       "       [125199.75754882, 158350.90093321],\n",
       "       [130840.70474901, 163991.84813341],\n",
       "       [120175.68927381, 153326.8326582 ],\n",
       "       [115676.88593459, 148828.02931899],\n",
       "       [113341.14755588, 146492.29094027],\n",
       "       [108911.46725805, 142062.61064245],\n",
       "       [110562.49565112, 143713.63903551],\n",
       "       [114316.54141366, 147467.68479805],\n",
       "       [117186.60318592, 150337.74657031],\n",
       "       [122737.01707355, 155888.16045794],\n",
       "       [128994.70137396, 162145.84475836],\n",
       "       [126696.78701896, 159847.93040335],\n",
       "       [124333.2706676 , 157484.41405199],\n",
       "       [119001.51467147, 152152.65805586],\n",
       "       [101553.37446053, 134704.51784492],\n",
       "       [ 69167.94026736, 102319.08365175],\n",
       "       [ 61995.96655624,  95147.10994063],\n",
       "       [ 45167.59824694,  78318.74163134],\n",
       "       [ 61259.75050242,  94410.89388681],\n",
       "       [ 57510.9500713 ,  90662.09345569],\n",
       "       [ 69592.45660587, 102743.59999026],\n",
       "       [ 85713.4852148 , 118864.6285992 ],\n",
       "       [131815.44231589, 164966.58570028],\n",
       "       [143028.60148527, 176179.74486967],\n",
       "       [122490.98872969, 155642.13211409],\n",
       "       [126287.59991725, 159438.74330165],\n",
       "       [115573.02167638, 148724.16506077],\n",
       "       [111000.57805771, 144151.72144211],\n",
       "       [104696.15200146, 137847.29538585],\n",
       "       [103105.11428334, 136256.25766773],\n",
       "       [104573.6909071 , 137724.83429149],\n",
       "       [105720.63405482, 138871.77743921],\n",
       "       [109048.88038275, 142200.02376715],\n",
       "       [115291.58944086, 148442.73282525],\n",
       "       [118709.45998028, 151860.60336468],\n",
       "       [118112.92989148, 151264.07327587],\n",
       "       [115714.49808621, 148865.6414706 ],\n",
       "       [107750.28625419, 140901.42963858],\n",
       "       [ 92489.30146753, 125640.44485192],\n",
       "       [ 60041.30640112,  93192.44978551],\n",
       "       [ 51767.06910868,  84918.21249307],\n",
       "       [ 46709.50787661,  79860.651261  ],\n",
       "       [ 56639.90898709,  89791.05237149],\n",
       "       [ 54784.61949094,  87935.76287534],\n",
       "       [ 65306.46656512,  98457.60994951],\n",
       "       [ 81543.73948495, 114694.88286934],\n",
       "       [125324.42356131, 158475.5669457 ],\n",
       "       [136465.64617029, 169616.78955468],\n",
       "       [117936.07773466, 151087.22111906],\n",
       "       [120676.42051839, 153827.56390278],\n",
       "       [109888.67143513, 143039.81481952],\n",
       "       [104957.62611951, 138108.76950391],\n",
       "       [ 99420.26568993, 132571.40907433],\n",
       "       [ 98005.0836875 , 131156.2270719 ],\n",
       "       [ 99047.72269743, 132198.86608182],\n",
       "       [100676.03078818, 133827.17417258],\n",
       "       [103857.02057193, 137008.16395632],\n",
       "       [110057.19672228, 143208.34010668],\n",
       "       [111784.4135953 , 144935.55697969],\n",
       "       [110801.98108671, 143953.12447111],\n",
       "       [109216.07418916, 142367.21757355],\n",
       "       [103412.15415346, 136563.29753785],\n",
       "       [ 86697.48390116, 119848.62728556],\n",
       "       [ 56215.81627759,  89366.95966198],\n",
       "       [ 48273.89007893,  81425.03346332],\n",
       "       [ 50157.32875447,  83308.47213886],\n",
       "       [ 55874.46474418,  89025.60812857],\n",
       "       [ 55770.34059072,  88921.48397512],\n",
       "       [ 65598.91133315,  98750.05471754],\n",
       "       [ 82008.3688171 , 115159.51220149],\n",
       "       [125834.37612771, 158985.51951211],\n",
       "       [137155.74846535, 170306.89184974],\n",
       "       [118316.32738914, 151467.47077354],\n",
       "       [121392.35370014, 154543.49708453],\n",
       "       [110399.55023854, 143550.69362293],\n",
       "       [105686.70392943, 138837.84731382],\n",
       "       [100004.53472536, 133155.67810976],\n",
       "       [ 98759.51131186, 131910.65469625],\n",
       "       [ 99656.03187693, 132807.17526132],\n",
       "       [101254.51451303, 134405.65789742],\n",
       "       [104481.95065733, 137633.09404173],\n",
       "       [110789.37101503, 143940.51439942],\n",
       "       [112288.18948209, 145439.33286648],\n",
       "       [111477.63840288, 144628.78178727],\n",
       "       [109740.74417664, 142891.88756103],\n",
       "       [103918.89945439, 137070.04283879],\n",
       "       [ 87137.79964356, 120288.94302795],\n",
       "       [ 56701.35444616,  89852.49783055],\n",
       "       [ 48702.5127744 ,  81853.6561588 ],\n",
       "       [ 41996.28342828,  75147.42681268],\n",
       "       [ 52808.01888194,  85959.16226633],\n",
       "       [ 50415.95972449,  83567.10310888],\n",
       "       [ 61309.79212298,  94460.93550738],\n",
       "       [ 77853.13986856, 111004.28325295],\n",
       "       [119118.73235649, 152269.87574088],\n",
       "       [130428.24657545, 163579.38995985],\n",
       "       [112466.36204589, 145617.50543028],\n",
       "       [114828.26272151, 147979.4061059 ],\n",
       "       [103362.75873209, 136513.90211649],\n",
       "       [ 98764.29969475, 131915.44307915],\n",
       "       [ 93346.09019896, 126497.23358335],\n",
       "       [ 92156.44239079, 125307.58577519],\n",
       "       [ 92996.8135658 , 126147.95695019],\n",
       "       [ 94676.95903349, 127828.10241789],\n",
       "       [ 97805.98905336, 130957.13243775],\n",
       "       [103735.02850554, 136886.17188993],\n",
       "       [106026.67610522, 139177.81948961],\n",
       "       [105176.12647431, 138327.2698587 ],\n",
       "       [104068.6468116 , 137219.79019599],\n",
       "       [ 98310.97407007, 131462.11745446],\n",
       "       [ 82171.91349215, 115323.05687655],\n",
       "       [ 52249.30942856,  85400.45281296],\n",
       "       [ 44434.0304501 ,  77585.1738345 ]])"
      ]
     },
     "execution_count": 94,
     "metadata": {},
     "output_type": "execute_result"
    }
   ],
   "source": [
    "pred.conf_int()"
   ]
  },
  {
   "cell_type": "code",
   "execution_count": null,
   "metadata": {},
   "outputs": [],
   "source": []
  }
 ],
 "metadata": {
  "kernelspec": {
   "display_name": "idw",
   "language": "python",
   "name": "python3"
  },
  "language_info": {
   "codemirror_mode": {
    "name": "ipython",
    "version": 3
   },
   "file_extension": ".py",
   "mimetype": "text/x-python",
   "name": "python",
   "nbconvert_exporter": "python",
   "pygments_lexer": "ipython3",
   "version": "3.10.2"
  },
  "orig_nbformat": 4
 },
 "nbformat": 4,
 "nbformat_minor": 2
}
