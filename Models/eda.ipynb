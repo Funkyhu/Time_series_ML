{
 "cells": [
  {
   "attachments": {},
   "cell_type": "markdown",
   "metadata": {},
   "source": [
    "# EDA"
   ]
  },
  {
   "attachments": {},
   "cell_type": "markdown",
   "metadata": {},
   "source": [
    "First analysis of heating timeseries and some preprocessing"
   ]
  },
  {
   "attachments": {},
   "cell_type": "markdown",
   "metadata": {},
   "source": [
    "## Importing data"
   ]
  },
  {
   "cell_type": "code",
   "execution_count": 3,
   "metadata": {},
   "outputs": [
    {
     "name": "stderr",
     "output_type": "stream",
     "text": [
      "C:\\Users\\jabbe\\AppData\\Local\\Temp\\ipykernel_1428\\3707627667.py:3: DtypeWarning: Columns (11,12,13,14,15,16,17,18,19,20,21,22,23,24,25) have mixed types. Specify dtype option on import or set low_memory=False.\n",
      "  df_h = pd.read_csv(\"when2heat_DE.csv\", header=2, delimiter=\";\") # mostly focus on this dataset\n"
     ]
    }
   ],
   "source": [
    "import pandas as pd\n",
    "df_w = pd.read_csv(\"DWD_4466_Schleswig.csv\", header=5, delimiter=\";\") #this weather data is not complete. -> use different data\n",
    "df_h = pd.read_csv(\"when2heat_DE.csv\", header=2, delimiter=\";\") # mostly focus on this dataset"
   ]
  },
  {
   "cell_type": "code",
   "execution_count": 4,
   "metadata": {},
   "outputs": [
    {
     "data": {
      "text/html": [
       "<div>\n",
       "<style scoped>\n",
       "    .dataframe tbody tr th:only-of-type {\n",
       "        vertical-align: middle;\n",
       "    }\n",
       "\n",
       "    .dataframe tbody tr th {\n",
       "        vertical-align: top;\n",
       "    }\n",
       "\n",
       "    .dataframe thead th {\n",
       "        text-align: right;\n",
       "    }\n",
       "</style>\n",
       "<table border=\"1\" class=\"dataframe\">\n",
       "  <thead>\n",
       "    <tr style=\"text-align: right;\">\n",
       "      <th></th>\n",
       "      <th>attribute</th>\n",
       "      <th>Unnamed: 1</th>\n",
       "      <th>ASHP_floor</th>\n",
       "      <th>ASHP_radiator</th>\n",
       "      <th>ASHP_water</th>\n",
       "      <th>GSHP_floor</th>\n",
       "      <th>GSHP_radiator</th>\n",
       "      <th>GSHP_water</th>\n",
       "      <th>WSHP_floor</th>\n",
       "      <th>WSHP_radiator</th>\n",
       "      <th>...</th>\n",
       "      <th>water</th>\n",
       "      <th>water_COM</th>\n",
       "      <th>water_MFH</th>\n",
       "      <th>water_SFH</th>\n",
       "      <th>space_COM.1</th>\n",
       "      <th>space_MFH.1</th>\n",
       "      <th>space_SFH.1</th>\n",
       "      <th>water_COM.1</th>\n",
       "      <th>water_MFH.1</th>\n",
       "      <th>water_SFH.1</th>\n",
       "    </tr>\n",
       "  </thead>\n",
       "  <tbody>\n",
       "    <tr>\n",
       "      <th>0</th>\n",
       "      <td>unit</td>\n",
       "      <td>NaN</td>\n",
       "      <td>coefficient</td>\n",
       "      <td>coefficient</td>\n",
       "      <td>coefficient</td>\n",
       "      <td>coefficient</td>\n",
       "      <td>coefficient</td>\n",
       "      <td>coefficient</td>\n",
       "      <td>coefficient</td>\n",
       "      <td>coefficient</td>\n",
       "      <td>...</td>\n",
       "      <td>MW</td>\n",
       "      <td>MW</td>\n",
       "      <td>MW</td>\n",
       "      <td>MW</td>\n",
       "      <td>MW/TWh</td>\n",
       "      <td>MW/TWh</td>\n",
       "      <td>MW/TWh</td>\n",
       "      <td>MW/TWh</td>\n",
       "      <td>MW/TWh</td>\n",
       "      <td>MW/TWh</td>\n",
       "    </tr>\n",
       "    <tr>\n",
       "      <th>1</th>\n",
       "      <td>2007-12-31T22:00:00Z</td>\n",
       "      <td>2007-12-31T23:00:00</td>\n",
       "      <td>2,62</td>\n",
       "      <td>3,13</td>\n",
       "      <td>2,23</td>\n",
       "      <td>2,94</td>\n",
       "      <td>3,94</td>\n",
       "      <td>2,19</td>\n",
       "      <td>3,6</td>\n",
       "      <td>4,74</td>\n",
       "      <td>...</td>\n",
       "      <td>3429</td>\n",
       "      <td>1690</td>\n",
       "      <td>1218</td>\n",
       "      <td>521</td>\n",
       "      <td>218</td>\n",
       "      <td>152</td>\n",
       "      <td>174</td>\n",
       "      <td>66</td>\n",
       "      <td>68</td>\n",
       "      <td>12</td>\n",
       "    </tr>\n",
       "    <tr>\n",
       "      <th>2</th>\n",
       "      <td>2007-12-31T23:00:00Z</td>\n",
       "      <td>2008-01-01T00:00:00</td>\n",
       "      <td>2,62</td>\n",
       "      <td>3,13</td>\n",
       "      <td>2,23</td>\n",
       "      <td>2,94</td>\n",
       "      <td>3,94</td>\n",
       "      <td>2,19</td>\n",
       "      <td>3,6</td>\n",
       "      <td>4,74</td>\n",
       "      <td>...</td>\n",
       "      <td>3429</td>\n",
       "      <td>1690</td>\n",
       "      <td>1218</td>\n",
       "      <td>521</td>\n",
       "      <td>218</td>\n",
       "      <td>152</td>\n",
       "      <td>174</td>\n",
       "      <td>66</td>\n",
       "      <td>68</td>\n",
       "      <td>12</td>\n",
       "    </tr>\n",
       "    <tr>\n",
       "      <th>3</th>\n",
       "      <td>2008-01-01T00:00:00Z</td>\n",
       "      <td>2008-01-01T01:00:00</td>\n",
       "      <td>2,61</td>\n",
       "      <td>3,12</td>\n",
       "      <td>2,22</td>\n",
       "      <td>2,92</td>\n",
       "      <td>3,92</td>\n",
       "      <td>2,18</td>\n",
       "      <td>3,59</td>\n",
       "      <td>4,74</td>\n",
       "      <td>...</td>\n",
       "      <td>4015</td>\n",
       "      <td>2127</td>\n",
       "      <td>1263</td>\n",
       "      <td>625</td>\n",
       "      <td>223</td>\n",
       "      <td>159</td>\n",
       "      <td>177</td>\n",
       "      <td>83</td>\n",
       "      <td>70</td>\n",
       "      <td>15</td>\n",
       "    </tr>\n",
       "    <tr>\n",
       "      <th>4</th>\n",
       "      <td>2008-01-01T01:00:00Z</td>\n",
       "      <td>2008-01-01T02:00:00</td>\n",
       "      <td>2,61</td>\n",
       "      <td>3,11</td>\n",
       "      <td>2,22</td>\n",
       "      <td>2,9</td>\n",
       "      <td>3,9</td>\n",
       "      <td>2,17</td>\n",
       "      <td>3,58</td>\n",
       "      <td>4,73</td>\n",
       "      <td>...</td>\n",
       "      <td>3944</td>\n",
       "      <td>2211</td>\n",
       "      <td>1223</td>\n",
       "      <td>509</td>\n",
       "      <td>228</td>\n",
       "      <td>162</td>\n",
       "      <td>183</td>\n",
       "      <td>86</td>\n",
       "      <td>68</td>\n",
       "      <td>12</td>\n",
       "    </tr>\n",
       "    <tr>\n",
       "      <th>...</th>\n",
       "      <td>...</td>\n",
       "      <td>...</td>\n",
       "      <td>...</td>\n",
       "      <td>...</td>\n",
       "      <td>...</td>\n",
       "      <td>...</td>\n",
       "      <td>...</td>\n",
       "      <td>...</td>\n",
       "      <td>...</td>\n",
       "      <td>...</td>\n",
       "      <td>...</td>\n",
       "      <td>...</td>\n",
       "      <td>...</td>\n",
       "      <td>...</td>\n",
       "      <td>...</td>\n",
       "      <td>...</td>\n",
       "      <td>...</td>\n",
       "      <td>...</td>\n",
       "      <td>...</td>\n",
       "      <td>...</td>\n",
       "      <td>...</td>\n",
       "    </tr>\n",
       "    <tr>\n",
       "      <th>113974</th>\n",
       "      <td>2020-12-31T19:00:00Z</td>\n",
       "      <td>2020-12-31T20:00:00</td>\n",
       "      <td>2,75</td>\n",
       "      <td>3,24</td>\n",
       "      <td>2,28</td>\n",
       "      <td>3,1</td>\n",
       "      <td>4,06</td>\n",
       "      <td>2,22</td>\n",
       "      <td>3,74</td>\n",
       "      <td>4,83</td>\n",
       "      <td>...</td>\n",
       "      <td>NaN</td>\n",
       "      <td>NaN</td>\n",
       "      <td>NaN</td>\n",
       "      <td>NaN</td>\n",
       "      <td>274.0</td>\n",
       "      <td>283.0</td>\n",
       "      <td>302.0</td>\n",
       "      <td>106.0</td>\n",
       "      <td>137.0</td>\n",
       "      <td>146.0</td>\n",
       "    </tr>\n",
       "    <tr>\n",
       "      <th>113975</th>\n",
       "      <td>2020-12-31T20:00:00Z</td>\n",
       "      <td>2020-12-31T21:00:00</td>\n",
       "      <td>2,74</td>\n",
       "      <td>3,23</td>\n",
       "      <td>2,27</td>\n",
       "      <td>3,08</td>\n",
       "      <td>4,04</td>\n",
       "      <td>2,21</td>\n",
       "      <td>3,73</td>\n",
       "      <td>4,82</td>\n",
       "      <td>...</td>\n",
       "      <td>NaN</td>\n",
       "      <td>NaN</td>\n",
       "      <td>NaN</td>\n",
       "      <td>NaN</td>\n",
       "      <td>257.0</td>\n",
       "      <td>257.0</td>\n",
       "      <td>269.0</td>\n",
       "      <td>97.0</td>\n",
       "      <td>133.0</td>\n",
       "      <td>125.0</td>\n",
       "    </tr>\n",
       "    <tr>\n",
       "      <th>113976</th>\n",
       "      <td>2020-12-31T21:00:00Z</td>\n",
       "      <td>2020-12-31T22:00:00</td>\n",
       "      <td>2,73</td>\n",
       "      <td>3,22</td>\n",
       "      <td>2,27</td>\n",
       "      <td>3,09</td>\n",
       "      <td>4,05</td>\n",
       "      <td>2,22</td>\n",
       "      <td>3,72</td>\n",
       "      <td>4,81</td>\n",
       "      <td>...</td>\n",
       "      <td>NaN</td>\n",
       "      <td>NaN</td>\n",
       "      <td>NaN</td>\n",
       "      <td>NaN</td>\n",
       "      <td>222.0</td>\n",
       "      <td>221.0</td>\n",
       "      <td>198.0</td>\n",
       "      <td>94.0</td>\n",
       "      <td>121.0</td>\n",
       "      <td>73.0</td>\n",
       "    </tr>\n",
       "    <tr>\n",
       "      <th>113977</th>\n",
       "      <td>2020-12-31T22:00:00Z</td>\n",
       "      <td>2020-12-31T23:00:00</td>\n",
       "      <td>2,72</td>\n",
       "      <td>3,21</td>\n",
       "      <td>2,27</td>\n",
       "      <td>3,07</td>\n",
       "      <td>4,04</td>\n",
       "      <td>2,22</td>\n",
       "      <td>3,71</td>\n",
       "      <td>4,81</td>\n",
       "      <td>...</td>\n",
       "      <td>NaN</td>\n",
       "      <td>NaN</td>\n",
       "      <td>NaN</td>\n",
       "      <td>NaN</td>\n",
       "      <td>209.0</td>\n",
       "      <td>161.0</td>\n",
       "      <td>165.0</td>\n",
       "      <td>71.0</td>\n",
       "      <td>90.0</td>\n",
       "      <td>30.0</td>\n",
       "    </tr>\n",
       "    <tr>\n",
       "      <th>113978</th>\n",
       "      <td>2020-12-31T23:00:00Z</td>\n",
       "      <td>2021-01-01T00:00:00</td>\n",
       "      <td>2,72</td>\n",
       "      <td>3,21</td>\n",
       "      <td>2,27</td>\n",
       "      <td>3,07</td>\n",
       "      <td>4,04</td>\n",
       "      <td>2,22</td>\n",
       "      <td>3,71</td>\n",
       "      <td>4,81</td>\n",
       "      <td>...</td>\n",
       "      <td>NaN</td>\n",
       "      <td>NaN</td>\n",
       "      <td>NaN</td>\n",
       "      <td>NaN</td>\n",
       "      <td>NaN</td>\n",
       "      <td>NaN</td>\n",
       "      <td>NaN</td>\n",
       "      <td>NaN</td>\n",
       "      <td>NaN</td>\n",
       "      <td>NaN</td>\n",
       "    </tr>\n",
       "  </tbody>\n",
       "</table>\n",
       "<p>113979 rows × 26 columns</p>\n",
       "</div>"
      ],
      "text/plain": [
       "                   attribute           Unnamed: 1   ASHP_floor ASHP_radiator  \\\n",
       "0                       unit                  NaN  coefficient   coefficient   \n",
       "1       2007-12-31T22:00:00Z  2007-12-31T23:00:00         2,62          3,13   \n",
       "2       2007-12-31T23:00:00Z  2008-01-01T00:00:00         2,62          3,13   \n",
       "3       2008-01-01T00:00:00Z  2008-01-01T01:00:00         2,61          3,12   \n",
       "4       2008-01-01T01:00:00Z  2008-01-01T02:00:00         2,61          3,11   \n",
       "...                      ...                  ...          ...           ...   \n",
       "113974  2020-12-31T19:00:00Z  2020-12-31T20:00:00         2,75          3,24   \n",
       "113975  2020-12-31T20:00:00Z  2020-12-31T21:00:00         2,74          3,23   \n",
       "113976  2020-12-31T21:00:00Z  2020-12-31T22:00:00         2,73          3,22   \n",
       "113977  2020-12-31T22:00:00Z  2020-12-31T23:00:00         2,72          3,21   \n",
       "113978  2020-12-31T23:00:00Z  2021-01-01T00:00:00         2,72          3,21   \n",
       "\n",
       "         ASHP_water   GSHP_floor GSHP_radiator   GSHP_water   WSHP_floor  \\\n",
       "0       coefficient  coefficient   coefficient  coefficient  coefficient   \n",
       "1              2,23         2,94          3,94         2,19          3,6   \n",
       "2              2,23         2,94          3,94         2,19          3,6   \n",
       "3              2,22         2,92          3,92         2,18         3,59   \n",
       "4              2,22          2,9           3,9         2,17         3,58   \n",
       "...             ...          ...           ...          ...          ...   \n",
       "113974         2,28          3,1          4,06         2,22         3,74   \n",
       "113975         2,27         3,08          4,04         2,21         3,73   \n",
       "113976         2,27         3,09          4,05         2,22         3,72   \n",
       "113977         2,27         3,07          4,04         2,22         3,71   \n",
       "113978         2,27         3,07          4,04         2,22         3,71   \n",
       "\n",
       "       WSHP_radiator  ... water water_COM water_MFH water_SFH space_COM.1  \\\n",
       "0        coefficient  ...    MW        MW        MW        MW      MW/TWh   \n",
       "1               4,74  ...  3429      1690      1218       521         218   \n",
       "2               4,74  ...  3429      1690      1218       521         218   \n",
       "3               4,74  ...  4015      2127      1263       625         223   \n",
       "4               4,73  ...  3944      2211      1223       509         228   \n",
       "...              ...  ...   ...       ...       ...       ...         ...   \n",
       "113974          4,83  ...   NaN       NaN       NaN       NaN       274.0   \n",
       "113975          4,82  ...   NaN       NaN       NaN       NaN       257.0   \n",
       "113976          4,81  ...   NaN       NaN       NaN       NaN       222.0   \n",
       "113977          4,81  ...   NaN       NaN       NaN       NaN       209.0   \n",
       "113978          4,81  ...   NaN       NaN       NaN       NaN         NaN   \n",
       "\n",
       "       space_MFH.1 space_SFH.1 water_COM.1 water_MFH.1 water_SFH.1  \n",
       "0           MW/TWh      MW/TWh      MW/TWh      MW/TWh      MW/TWh  \n",
       "1              152         174          66          68          12  \n",
       "2              152         174          66          68          12  \n",
       "3              159         177          83          70          15  \n",
       "4              162         183          86          68          12  \n",
       "...            ...         ...         ...         ...         ...  \n",
       "113974       283.0       302.0       106.0       137.0       146.0  \n",
       "113975       257.0       269.0        97.0       133.0       125.0  \n",
       "113976       221.0       198.0        94.0       121.0        73.0  \n",
       "113977       161.0       165.0        71.0        90.0        30.0  \n",
       "113978         NaN         NaN         NaN         NaN         NaN  \n",
       "\n",
       "[113979 rows x 26 columns]"
      ]
     },
     "execution_count": 4,
     "metadata": {},
     "output_type": "execute_result"
    }
   ],
   "source": [
    "df_h"
   ]
  },
  {
   "attachments": {},
   "cell_type": "markdown",
   "metadata": {},
   "source": [
    "## Preprocessing"
   ]
  },
  {
   "cell_type": "code",
   "execution_count": 5,
   "metadata": {},
   "outputs": [],
   "source": [
    "df_total = pd.DataFrame()\n",
    "df_total.index = pd.to_datetime(df_h.iloc[1:,0].values) # set dateindex  without first row\n",
    "total = df_h.iloc[1:,15].str.replace(',', '.').astype(float)\n",
    "df_total[\"total_heat\"] = total.values"
   ]
  },
  {
   "cell_type": "code",
   "execution_count": 6,
   "metadata": {},
   "outputs": [
    {
     "data": {
      "text/html": [
       "<div>\n",
       "<style scoped>\n",
       "    .dataframe tbody tr th:only-of-type {\n",
       "        vertical-align: middle;\n",
       "    }\n",
       "\n",
       "    .dataframe tbody tr th {\n",
       "        vertical-align: top;\n",
       "    }\n",
       "\n",
       "    .dataframe thead th {\n",
       "        text-align: right;\n",
       "    }\n",
       "</style>\n",
       "<table border=\"1\" class=\"dataframe\">\n",
       "  <thead>\n",
       "    <tr style=\"text-align: right;\">\n",
       "      <th></th>\n",
       "      <th>total_heat</th>\n",
       "    </tr>\n",
       "  </thead>\n",
       "  <tbody>\n",
       "    <tr>\n",
       "      <th>2007-12-31 22:00:00+00:00</th>\n",
       "      <td>95296.0</td>\n",
       "    </tr>\n",
       "    <tr>\n",
       "      <th>2007-12-31 23:00:00+00:00</th>\n",
       "      <td>95296.0</td>\n",
       "    </tr>\n",
       "    <tr>\n",
       "      <th>2008-01-01 00:00:00+00:00</th>\n",
       "      <td>98086.0</td>\n",
       "    </tr>\n",
       "    <tr>\n",
       "      <th>2008-01-01 01:00:00+00:00</th>\n",
       "      <td>100454.0</td>\n",
       "    </tr>\n",
       "    <tr>\n",
       "      <th>2008-01-01 02:00:00+00:00</th>\n",
       "      <td>107183.0</td>\n",
       "    </tr>\n",
       "    <tr>\n",
       "      <th>...</th>\n",
       "      <td>...</td>\n",
       "    </tr>\n",
       "    <tr>\n",
       "      <th>2020-12-31 19:00:00+00:00</th>\n",
       "      <td>NaN</td>\n",
       "    </tr>\n",
       "    <tr>\n",
       "      <th>2020-12-31 20:00:00+00:00</th>\n",
       "      <td>NaN</td>\n",
       "    </tr>\n",
       "    <tr>\n",
       "      <th>2020-12-31 21:00:00+00:00</th>\n",
       "      <td>NaN</td>\n",
       "    </tr>\n",
       "    <tr>\n",
       "      <th>2020-12-31 22:00:00+00:00</th>\n",
       "      <td>NaN</td>\n",
       "    </tr>\n",
       "    <tr>\n",
       "      <th>2020-12-31 23:00:00+00:00</th>\n",
       "      <td>NaN</td>\n",
       "    </tr>\n",
       "  </tbody>\n",
       "</table>\n",
       "<p>113978 rows × 1 columns</p>\n",
       "</div>"
      ],
      "text/plain": [
       "                           total_heat\n",
       "2007-12-31 22:00:00+00:00     95296.0\n",
       "2007-12-31 23:00:00+00:00     95296.0\n",
       "2008-01-01 00:00:00+00:00     98086.0\n",
       "2008-01-01 01:00:00+00:00    100454.0\n",
       "2008-01-01 02:00:00+00:00    107183.0\n",
       "...                               ...\n",
       "2020-12-31 19:00:00+00:00         NaN\n",
       "2020-12-31 20:00:00+00:00         NaN\n",
       "2020-12-31 21:00:00+00:00         NaN\n",
       "2020-12-31 22:00:00+00:00         NaN\n",
       "2020-12-31 23:00:00+00:00         NaN\n",
       "\n",
       "[113978 rows x 1 columns]"
      ]
     },
     "execution_count": 6,
     "metadata": {},
     "output_type": "execute_result"
    }
   ],
   "source": [
    "df_total"
   ]
  },
  {
   "cell_type": "code",
   "execution_count": 7,
   "metadata": {},
   "outputs": [
    {
     "data": {
      "text/plain": [
       "total_heat    48443\n",
       "dtype: int64"
      ]
     },
     "execution_count": 7,
     "metadata": {},
     "output_type": "execute_result"
    }
   ],
   "source": [
    "df_total.isna().sum() # one third of the data is missing"
   ]
  },
  {
   "cell_type": "code",
   "execution_count": 8,
   "metadata": {},
   "outputs": [
    {
     "data": {
      "text/html": [
       "<div>\n",
       "<style scoped>\n",
       "    .dataframe tbody tr th:only-of-type {\n",
       "        vertical-align: middle;\n",
       "    }\n",
       "\n",
       "    .dataframe tbody tr th {\n",
       "        vertical-align: top;\n",
       "    }\n",
       "\n",
       "    .dataframe thead th {\n",
       "        text-align: right;\n",
       "    }\n",
       "</style>\n",
       "<table border=\"1\" class=\"dataframe\">\n",
       "  <thead>\n",
       "    <tr style=\"text-align: right;\">\n",
       "      <th></th>\n",
       "      <th>total_heat</th>\n",
       "    </tr>\n",
       "  </thead>\n",
       "  <tbody>\n",
       "    <tr>\n",
       "      <th>count</th>\n",
       "      <td>65535.000000</td>\n",
       "    </tr>\n",
       "    <tr>\n",
       "      <th>mean</th>\n",
       "      <td>65679.674022</td>\n",
       "    </tr>\n",
       "    <tr>\n",
       "      <th>std</th>\n",
       "      <td>47609.929962</td>\n",
       "    </tr>\n",
       "    <tr>\n",
       "      <th>min</th>\n",
       "      <td>3448.000000</td>\n",
       "    </tr>\n",
       "    <tr>\n",
       "      <th>25%</th>\n",
       "      <td>23105.500000</td>\n",
       "    </tr>\n",
       "    <tr>\n",
       "      <th>50%</th>\n",
       "      <td>56505.000000</td>\n",
       "    </tr>\n",
       "    <tr>\n",
       "      <th>75%</th>\n",
       "      <td>97910.500000</td>\n",
       "    </tr>\n",
       "    <tr>\n",
       "      <th>max</th>\n",
       "      <td>264244.000000</td>\n",
       "    </tr>\n",
       "  </tbody>\n",
       "</table>\n",
       "</div>"
      ],
      "text/plain": [
       "          total_heat\n",
       "count   65535.000000\n",
       "mean    65679.674022\n",
       "std     47609.929962\n",
       "min      3448.000000\n",
       "25%     23105.500000\n",
       "50%     56505.000000\n",
       "75%     97910.500000\n",
       "max    264244.000000"
      ]
     },
     "execution_count": 8,
     "metadata": {},
     "output_type": "execute_result"
    }
   ],
   "source": [
    "df_total.describe() # crazy outliers"
   ]
  },
  {
   "cell_type": "code",
   "execution_count": 9,
   "metadata": {},
   "outputs": [
    {
     "name": "stdout",
     "output_type": "stream",
     "text": [
      "<class 'pandas.core.frame.DataFrame'>\n",
      "DatetimeIndex: 113978 entries, 2007-12-31 22:00:00+00:00 to 2020-12-31 23:00:00+00:00\n",
      "Data columns (total 1 columns):\n",
      " #   Column      Non-Null Count  Dtype  \n",
      "---  ------      --------------  -----  \n",
      " 0   total_heat  65535 non-null  float64\n",
      "dtypes: float64(1)\n",
      "memory usage: 1.7 MB\n"
     ]
    }
   ],
   "source": [
    "df_total.info()"
   ]
  },
  {
   "cell_type": "code",
   "execution_count": 10,
   "metadata": {},
   "outputs": [
    {
     "data": {
      "text/plain": [
       "(113978, (113978, 1))"
      ]
     },
     "execution_count": 10,
     "metadata": {},
     "output_type": "execute_result"
    }
   ],
   "source": [
    "len(pd.date_range(df_total.index[0], df_total.index[-1], freq=\"h\")), df_total.shape #datetindex is complete"
   ]
  },
  {
   "cell_type": "code",
   "execution_count": 17,
   "metadata": {},
   "outputs": [
    {
     "data": {
      "text/plain": [
       "<AxesSubplot:>"
      ]
     },
     "execution_count": 17,
     "metadata": {},
     "output_type": "execute_result"
    },
    {
     "data": {
      "image/png": "[encoded data removed]",
      "text/plain": [
       "<Figure size 432x288 with 1 Axes>"
      ]
     },
     "metadata": {
      "needs_background": "light"
     },
     "output_type": "display_data"
    }
   ],
   "source": [
    "df_total.plot()"
   ]
  },
  {
   "cell_type": "code",
   "execution_count": 11,
   "metadata": {},
   "outputs": [
    {
     "data": {
      "text/plain": [
       "<AxesSubplot:>"
      ]
     },
     "execution_count": 11,
     "metadata": {},
     "output_type": "execute_result"
    },
    {
     "data": {
      "image/png": "[encoded data removed]",
      "text/plain": [
       "<Figure size 432x288 with 1 Axes>"
      ]
     },
     "metadata": {
      "needs_background": "light"
     },
     "output_type": "display_data"
    }
   ],
   "source": [
    "df_total[:\"2015-5\"].plot() # missing or weird data after 2015"
   ]
  },
  {
   "cell_type": "code",
   "execution_count": 12,
   "metadata": {},
   "outputs": [],
   "source": [
    "df_slice =  df_total[:\"2015-01-01\"]"
   ]
  },
  {
   "cell_type": "code",
   "execution_count": 13,
   "metadata": {},
   "outputs": [
    {
     "data": {
      "text/plain": [
       "<AxesSubplot:>"
      ]
     },
     "execution_count": 13,
     "metadata": {},
     "output_type": "execute_result"
    },
    {
     "data": {
      "image/png": "[encoded data removed]",
      "text/plain": [
       "<Figure size 432x288 with 1 Axes>"
      ]
     },
     "metadata": {
      "needs_background": "light"
     },
     "output_type": "display_data"
    }
   ],
   "source": [
    "df_slice[\"2010-12-31 18\":\"2011-01-01 01\"].plot() #outlier?"
   ]
  },
  {
   "cell_type": "code",
   "execution_count": 14,
   "metadata": {},
   "outputs": [],
   "source": [
    "import numpy as np"
   ]
  },
  {
   "cell_type": "code",
   "execution_count": 16,
   "metadata": {},
   "outputs": [
    {
     "data": {
      "text/html": [
       "<div>\n",
       "<style scoped>\n",
       "    .dataframe tbody tr th:only-of-type {\n",
       "        vertical-align: middle;\n",
       "    }\n",
       "\n",
       "    .dataframe tbody tr th {\n",
       "        vertical-align: top;\n",
       "    }\n",
       "\n",
       "    .dataframe thead th {\n",
       "        text-align: right;\n",
       "    }\n",
       "</style>\n",
       "<table border=\"1\" class=\"dataframe\">\n",
       "  <thead>\n",
       "    <tr style=\"text-align: right;\">\n",
       "      <th></th>\n",
       "      <th>total_heat</th>\n",
       "    </tr>\n",
       "  </thead>\n",
       "  <tbody>\n",
       "  </tbody>\n",
       "</table>\n",
       "</div>"
      ],
      "text/plain": [
       "Empty DataFrame\n",
       "Columns: [total_heat]\n",
       "Index: []"
      ]
     },
     "execution_count": 16,
     "metadata": {},
     "output_type": "execute_result"
    }
   ],
   "source": [
    "df_slice[df_slice[\"total_heat\"]>400000.0]"
   ]
  },
  {
   "cell_type": "code",
   "execution_count": 114,
   "metadata": {},
   "outputs": [
    {
     "name": "stderr",
     "output_type": "stream",
     "text": [
      "C:\\Users\\jabbe\\AppData\\Local\\Temp\\ipykernel_17004\\122262583.py:1: SettingWithCopyWarning: \n",
      "A value is trying to be set on a copy of a slice from a DataFrame\n",
      "\n",
      "See the caveats in the documentation: https://pandas.pydata.org/pandas-docs/stable/user_guide/indexing.html#returning-a-view-versus-a-copy\n",
      "  df_slice.loc[df_slice[\"total_heat\"]>400000.0] = np.NaN\n"
     ]
    }
   ],
   "source": [
    "df_slice.loc[df_slice[\"total_heat\"]>400000.0] = np.NaN"
   ]
  },
  {
   "cell_type": "code",
   "execution_count": 115,
   "metadata": {},
   "outputs": [
    {
     "data": {
      "text/plain": [
       "total_heat    6\n",
       "dtype: int64"
      ]
     },
     "execution_count": 115,
     "metadata": {},
     "output_type": "execute_result"
    }
   ],
   "source": [
    "df_slice.isna().sum()"
   ]
  },
  {
   "cell_type": "code",
   "execution_count": 116,
   "metadata": {},
   "outputs": [],
   "source": [
    "df_interpolated =df_slice.interpolate()"
   ]
  },
  {
   "cell_type": "code",
   "execution_count": 117,
   "metadata": {},
   "outputs": [
    {
     "data": {
      "text/plain": [
       "<AxesSubplot:>"
      ]
     },
     "execution_count": 117,
     "metadata": {},
     "output_type": "execute_result"
    },
    {
     "data": {
      "image/png": "[encoded data removed]",
      "text/plain": [
       "<Figure size 432x288 with 1 Axes>"
      ]
     },
     "metadata": {
      "needs_background": "light"
     },
     "output_type": "display_data"
    }
   ],
   "source": [
    "df_interpolated.plot()"
   ]
  },
  {
   "cell_type": "code",
   "execution_count": null,
   "metadata": {},
   "outputs": [],
   "source": []
  }
 ],
 "metadata": {
  "kernelspec": {
   "display_name": "idw",
   "language": "python",
   "name": "python3"
  },
  "language_info": {
   "codemirror_mode": {
    "name": "ipython",
    "version": 3
   },
   "file_extension": ".py",
   "mimetype": "text/x-python",
   "name": "python",
   "nbconvert_exporter": "python",
   "pygments_lexer": "ipython3",
   "version": "3.10.2"
  },
  "orig_nbformat": 4
 },
 "nbformat": 4,
 "nbformat_minor": 2
}
