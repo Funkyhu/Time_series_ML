{
 "cells": [
  {
   "cell_type": "code",
   "execution_count": 1,
   "metadata": {},
   "outputs": [],
   "source": [
    "import pandas as pd\n",
    "import numpy as np"
   ]
  },
  {
   "cell_type": "code",
   "execution_count": 2,
   "metadata": {},
   "outputs": [],
   "source": [
    "#use csv with already preprocessed features (scaling, differnecing etc needed)\n",
    "df = pd.read_csv(\"Data_Prep.csv\", index_col=0)"
   ]
  },
  {
   "cell_type": "code",
   "execution_count": 3,
   "metadata": {},
   "outputs": [
    {
     "data": {
      "text/html": [
       "<div>\n",
       "<style scoped>\n",
       "    .dataframe tbody tr th:only-of-type {\n",
       "        vertical-align: middle;\n",
       "    }\n",
       "\n",
       "    .dataframe tbody tr th {\n",
       "        vertical-align: top;\n",
       "    }\n",
       "\n",
       "    .dataframe thead th {\n",
       "        text-align: right;\n",
       "    }\n",
       "</style>\n",
       "<table border=\"1\" class=\"dataframe\">\n",
       "  <thead>\n",
       "    <tr style=\"text-align: right;\">\n",
       "      <th></th>\n",
       "      <th>index</th>\n",
       "      <th>Total_Heat</th>\n",
       "    </tr>\n",
       "  </thead>\n",
       "  <tbody>\n",
       "    <tr>\n",
       "      <th>0</th>\n",
       "      <td>2008-01-01 00:00:00+00:00</td>\n",
       "      <td>98086.0</td>\n",
       "    </tr>\n",
       "    <tr>\n",
       "      <th>1</th>\n",
       "      <td>2008-01-01 01:00:00+00:00</td>\n",
       "      <td>100454.0</td>\n",
       "    </tr>\n",
       "    <tr>\n",
       "      <th>2</th>\n",
       "      <td>2008-01-01 02:00:00+00:00</td>\n",
       "      <td>107183.0</td>\n",
       "    </tr>\n",
       "    <tr>\n",
       "      <th>3</th>\n",
       "      <td>2008-01-01 03:00:00+00:00</td>\n",
       "      <td>120688.0</td>\n",
       "    </tr>\n",
       "    <tr>\n",
       "      <th>4</th>\n",
       "      <td>2008-01-01 04:00:00+00:00</td>\n",
       "      <td>158569.0</td>\n",
       "    </tr>\n",
       "    <tr>\n",
       "      <th>...</th>\n",
       "      <td>...</td>\n",
       "      <td>...</td>\n",
       "    </tr>\n",
       "    <tr>\n",
       "      <th>61363</th>\n",
       "      <td>2014-12-31 19:00:00+00:00</td>\n",
       "      <td>153908.0</td>\n",
       "    </tr>\n",
       "    <tr>\n",
       "      <th>61364</th>\n",
       "      <td>2014-12-31 20:00:00+00:00</td>\n",
       "      <td>139544.0</td>\n",
       "    </tr>\n",
       "    <tr>\n",
       "      <th>61365</th>\n",
       "      <td>2014-12-31 21:00:00+00:00</td>\n",
       "      <td>114048.0</td>\n",
       "    </tr>\n",
       "    <tr>\n",
       "      <th>61366</th>\n",
       "      <td>2014-12-31 22:00:00+00:00</td>\n",
       "      <td>71690.5</td>\n",
       "    </tr>\n",
       "    <tr>\n",
       "      <th>61367</th>\n",
       "      <td>2014-12-31 23:00:00+00:00</td>\n",
       "      <td>71690.5</td>\n",
       "    </tr>\n",
       "  </tbody>\n",
       "</table>\n",
       "<p>61368 rows × 2 columns</p>\n",
       "</div>"
      ],
      "text/plain": [
       "                           index  Total_Heat\n",
       "0      2008-01-01 00:00:00+00:00     98086.0\n",
       "1      2008-01-01 01:00:00+00:00    100454.0\n",
       "2      2008-01-01 02:00:00+00:00    107183.0\n",
       "3      2008-01-01 03:00:00+00:00    120688.0\n",
       "4      2008-01-01 04:00:00+00:00    158569.0\n",
       "...                          ...         ...\n",
       "61363  2014-12-31 19:00:00+00:00    153908.0\n",
       "61364  2014-12-31 20:00:00+00:00    139544.0\n",
       "61365  2014-12-31 21:00:00+00:00    114048.0\n",
       "61366  2014-12-31 22:00:00+00:00     71690.5\n",
       "61367  2014-12-31 23:00:00+00:00     71690.5\n",
       "\n",
       "[61368 rows x 2 columns]"
      ]
     },
     "execution_count": 3,
     "metadata": {},
     "output_type": "execute_result"
    }
   ],
   "source": [
    "df.reset_index() [[\"index\", \"Total_Heat\"]]"
   ]
  },
  {
   "cell_type": "code",
   "execution_count": 4,
   "metadata": {},
   "outputs": [],
   "source": [
    "from sklearn.preprocessing import MinMaxScaler"
   ]
  },
  {
   "cell_type": "code",
   "execution_count": 5,
   "metadata": {},
   "outputs": [
    {
     "ename": "AttributeError",
     "evalue": "'DataFrame' object has no attribute 'ds'",
     "output_type": "error",
     "traceback": [
      "\u001b[1;31m---------------------------------------------------------------------------\u001b[0m",
      "\u001b[1;31mAttributeError\u001b[0m                            Traceback (most recent call last)",
      "\u001b[1;32mc:\\Users\\jabbe\\Documents\\DataScience\\4Semester\\Opencampus\\TSProject\\GitHub\\Time_series_ML\\deepAR.ipynb Cell 5\u001b[0m in \u001b[0;36m<cell line: 4>\u001b[1;34m()\u001b[0m\n\u001b[0;32m      <a href='vscode-notebook-cell:/c%3A/Users/jabbe/Documents/DataScience/4Semester/Opencampus/TSProject/GitHub/Time_series_ML/deepAR.ipynb#W4sZmlsZQ%3D%3D?line=1'>2</a>\u001b[0m my_df \u001b[39m=\u001b[39m df\u001b[39m.\u001b[39mreset_index() [[\u001b[39m\"\u001b[39m\u001b[39mindex\u001b[39m\u001b[39m\"\u001b[39m, \u001b[39m\"\u001b[39m\u001b[39mTotal_Heat\u001b[39m\u001b[39m\"\u001b[39m]]\n\u001b[0;32m      <a href='vscode-notebook-cell:/c%3A/Users/jabbe/Documents/DataScience/4Semester/Opencampus/TSProject/GitHub/Time_series_ML/deepAR.ipynb#W4sZmlsZQ%3D%3D?line=2'>3</a>\u001b[0m my_df\u001b[39m.\u001b[39mcolumns \u001b[39m=\u001b[39m [\u001b[39m\"\u001b[39m\u001b[39mdate\u001b[39m\u001b[39m\"\u001b[39m, \u001b[39m\"\u001b[39m\u001b[39my\u001b[39m\u001b[39m\"\u001b[39m]\n\u001b[1;32m----> <a href='vscode-notebook-cell:/c%3A/Users/jabbe/Documents/DataScience/4Semester/Opencampus/TSProject/GitHub/Time_series_ML/deepAR.ipynb#W4sZmlsZQ%3D%3D?line=3'>4</a>\u001b[0m my_df\u001b[39m.\u001b[39mds \u001b[39m=\u001b[39m pd\u001b[39m.\u001b[39mto_datetime(my_df\u001b[39m.\u001b[39;49mds)\u001b[39m.\u001b[39mdt\u001b[39m.\u001b[39mtz_convert(\u001b[39mNone\u001b[39;00m)\n",
      "File \u001b[1;32mc:\\Users\\jabbe\\Envs\\idw\\lib\\site-packages\\pandas\\core\\generic.py:5575\u001b[0m, in \u001b[0;36mNDFrame.__getattr__\u001b[1;34m(self, name)\u001b[0m\n\u001b[0;32m   5568\u001b[0m \u001b[39mif\u001b[39;00m (\n\u001b[0;32m   5569\u001b[0m     name \u001b[39mnot\u001b[39;00m \u001b[39min\u001b[39;00m \u001b[39mself\u001b[39m\u001b[39m.\u001b[39m_internal_names_set\n\u001b[0;32m   5570\u001b[0m     \u001b[39mand\u001b[39;00m name \u001b[39mnot\u001b[39;00m \u001b[39min\u001b[39;00m \u001b[39mself\u001b[39m\u001b[39m.\u001b[39m_metadata\n\u001b[0;32m   5571\u001b[0m     \u001b[39mand\u001b[39;00m name \u001b[39mnot\u001b[39;00m \u001b[39min\u001b[39;00m \u001b[39mself\u001b[39m\u001b[39m.\u001b[39m_accessors\n\u001b[0;32m   5572\u001b[0m     \u001b[39mand\u001b[39;00m \u001b[39mself\u001b[39m\u001b[39m.\u001b[39m_info_axis\u001b[39m.\u001b[39m_can_hold_identifiers_and_holds_name(name)\n\u001b[0;32m   5573\u001b[0m ):\n\u001b[0;32m   5574\u001b[0m     \u001b[39mreturn\u001b[39;00m \u001b[39mself\u001b[39m[name]\n\u001b[1;32m-> 5575\u001b[0m \u001b[39mreturn\u001b[39;00m \u001b[39mobject\u001b[39;49m\u001b[39m.\u001b[39;49m\u001b[39m__getattribute__\u001b[39;49m(\u001b[39mself\u001b[39;49m, name)\n",
      "\u001b[1;31mAttributeError\u001b[0m: 'DataFrame' object has no attribute 'ds'"
     ]
    }
   ],
   "source": [
    "# Preprocessing for deepAR\n",
    "my_df = df.reset_index() [[\"index\", \"Total_Heat\"]]\n",
    "my_df.columns = [\"date\", \"y\"]\n",
    "my_df.ds = pd.to_datetime(my_df.ds).dt.tz_convert(None)"
   ]
  },
  {
   "cell_type": "code",
   "execution_count": null,
   "metadata": {},
   "outputs": [],
   "source": [
    "df_scaler = MinMaxScaler()\n",
    "my_df.y = pd.DataFrame(df_scaler.fit_transform(my_df[[\"y\"]]), columns=[\"y\"])\n"
   ]
  },
  {
   "cell_type": "code",
   "execution_count": 7,
   "metadata": {},
   "outputs": [
    {
     "name": "stderr",
     "output_type": "stream",
     "text": [
      "C:\\Users\\jabbe\\AppData\\Local\\Temp\\ipykernel_27220\\2368371765.py:2: FutureWarning: The 'freq' argument in Timestamp is deprecated and will be removed in a future version.\n",
      "  start = pd.Timestamp(\"01-01-2008\", freq=\"H\")\n"
     ]
    }
   ],
   "source": [
    "from gluonts.dataset.common import ListDataset\n",
    "start = pd.Timestamp(\"01-01-2008\", freq=\"H\")\n",
    "# train dataset: cut the last window of length \"prediction_length\", add \"target\" and \"start\" fields\n",
    "train_ds = ListDataset([{'target': my_df.loc[:450,'y'], 'start': start}], freq='H')\n",
    "# test dataset: use the whole dataset, add \"target\" and \"start\" fields\n",
    "test_ds = ListDataset([{'target': my_df['y'], 'start': start}],freq='H')"
   ]
  },
  {
   "cell_type": "code",
   "execution_count": 1,
   "metadata": {},
   "outputs": [
    {
     "name": "stderr",
     "output_type": "stream",
     "text": [
      "c:\\Users\\jabbe\\Envs\\idw\\lib\\site-packages\\gluonts\\json.py:101: UserWarning: Using `json`-module for json-handling. Consider installing one of `orjson`, `ujson` to speed up serialization and deserialization.\n",
      "  warnings.warn(\n"
     ]
    },
    {
     "ename": "ModuleNotFoundError",
     "evalue": "No module named 'mxnet'",
     "output_type": "error",
     "traceback": [
      "\u001b[1;31m---------------------------------------------------------------------------\u001b[0m",
      "\u001b[1;31mModuleNotFoundError\u001b[0m                       Traceback (most recent call last)",
      "\u001b[1;32mc:\\Users\\jabbe\\Documents\\DataScience\\4Semester\\Opencampus\\TSProject\\GitHub\\Time_series_ML\\deepAR.ipynb Cell 8\u001b[0m in \u001b[0;36m<cell line: 2>\u001b[1;34m()\u001b[0m\n\u001b[0;32m      <a href='vscode-notebook-cell:/c%3A/Users/jabbe/Documents/DataScience/4Semester/Opencampus/TSProject/GitHub/Time_series_ML/deepAR.ipynb#X10sZmlsZQ%3D%3D?line=0'>1</a>\u001b[0m \u001b[39mfrom\u001b[39;00m \u001b[39mgluonts\u001b[39;00m\u001b[39m.\u001b[39;00m\u001b[39mtorch\u001b[39;00m\u001b[39m.\u001b[39;00m\u001b[39mmodel\u001b[39;00m\u001b[39m.\u001b[39;00m\u001b[39mdeepar\u001b[39;00m \u001b[39mimport\u001b[39;00m DeepAREstimator\n\u001b[1;32m----> <a href='vscode-notebook-cell:/c%3A/Users/jabbe/Documents/DataScience/4Semester/Opencampus/TSProject/GitHub/Time_series_ML/deepAR.ipynb#X10sZmlsZQ%3D%3D?line=1'>2</a>\u001b[0m \u001b[39mfrom\u001b[39;00m \u001b[39mgluonts\u001b[39;00m\u001b[39m.\u001b[39;00m\u001b[39mmx\u001b[39;00m\u001b[39m.\u001b[39;00m\u001b[39mtrainer\u001b[39;00m \u001b[39mimport\u001b[39;00m Trainer\n\u001b[0;32m      <a href='vscode-notebook-cell:/c%3A/Users/jabbe/Documents/DataScience/4Semester/Opencampus/TSProject/GitHub/Time_series_ML/deepAR.ipynb#X10sZmlsZQ%3D%3D?line=2'>3</a>\u001b[0m \u001b[39m# import mxnet as mx\u001b[39;00m\n\u001b[0;32m      <a href='vscode-notebook-cell:/c%3A/Users/jabbe/Documents/DataScience/4Semester/Opencampus/TSProject/GitHub/Time_series_ML/deepAR.ipynb#X10sZmlsZQ%3D%3D?line=3'>4</a>\u001b[0m \u001b[39mimport\u001b[39;00m \u001b[39mnumpy\u001b[39;00m \u001b[39mas\u001b[39;00m \u001b[39mnp\u001b[39;00m\n",
      "File \u001b[1;32mc:\\Users\\jabbe\\Envs\\idw\\lib\\site-packages\\gluonts\\mx\\__init__.py:21\u001b[0m, in \u001b[0;36m<module>\u001b[1;34m\u001b[0m\n\u001b[0;32m     18\u001b[0m \u001b[39mimport\u001b[39;00m \u001b[39mtyping\u001b[39;00m\n\u001b[0;32m     19\u001b[0m \u001b[39mfrom\u001b[39;00m \u001b[39mpkgutil\u001b[39;00m \u001b[39mimport\u001b[39;00m extend_path\n\u001b[1;32m---> 21\u001b[0m \u001b[39mimport\u001b[39;00m \u001b[39mmxnet\u001b[39;00m \u001b[39mas\u001b[39;00m \u001b[39mmx\u001b[39;00m\n\u001b[0;32m     23\u001b[0m __path__ \u001b[39m=\u001b[39m extend_path(__path__, \u001b[39m__name__\u001b[39m)  \u001b[39m# type: ignore\u001b[39;00m\n\u001b[0;32m     25\u001b[0m \u001b[39m# Tensor type for HybridBlocks in Gluon\u001b[39;00m\n",
      "\u001b[1;31mModuleNotFoundError\u001b[0m: No module named 'mxnet'"
     ]
    }
   ],
   "source": [
    "from gluonts.torch.model.deepar import DeepAREstimator\n",
    "from gluonts.mx.trainer import Trainer\n",
    "# import mxnet as mx\n",
    "import numpy as np\n",
    "\n",
    "np.random.seed(7)\n",
    "\n",
    "estimator = DeepAREstimator(\n",
    "    prediction_length=28,\n",
    "    context_length=100,\n",
    "    freq=\"H\",\n",
    "    trainer=Trainer(#ctx=\"gpu\", # remove if running on windows\n",
    "                    epochs=5,\n",
    "                    learning_rate=1e-3,\n",
    "                    num_batches_per_epoch=100\n",
    "                   )\n",
    ")\n",
    "\n",
    "predictor = estimator.train(train_ds)"
   ]
  },
  {
   "cell_type": "code",
   "execution_count": null,
   "metadata": {},
   "outputs": [],
   "source": [
    "predictions = predictor.predict(test_ds)\n",
    "predictions = list(predictions)[0]\n",
    "predictions = predictions.quantile(0.5)"
   ]
  },
  {
   "cell_type": "code",
   "execution_count": null,
   "metadata": {},
   "outputs": [],
   "source": [
    "from sklearn.metrics import r2_score\n",
    "print(r2_score( list(test_ds)[0]['target'][-28:], predictions))\n",
    "\n",
    "import matplotlib.pyplot as plt\n",
    "plt.plot(predictions)\n",
    "plt.plot(list(test_ds)[0]['target'][-28:])\n",
    "plt.legend(['predictions', 'actuals'])\n",
    "plt.show()\n",
    "\n"
   ]
  },
  {
   "cell_type": "code",
   "execution_count": null,
   "metadata": {},
   "outputs": [],
   "source": [
    "# Hyperparameter\n",
    "train_days = 30\n",
    "forecast_days = 2"
   ]
  },
  {
   "cell_type": "code",
   "execution_count": null,
   "metadata": {},
   "outputs": [],
   "source": [
    "# creating two seperate lists with a function\n",
    "\n",
    "def create_X_y(data_df: pd.DataFrame, train_days:int, forecast_days:int):\n",
    "    \"\"\"\"\"\"\n",
    "    X_list = []\n",
    "    y_list = []\n",
    "\n",
    "    for i in range(train_days*24, len(data_df)-forecast_days*24, 24):\n",
    "        X_list.append(data_df.iloc[i-train_days*24:i])\n",
    "        y_list.append(data_df[i:i+forecast_days*24])\n",
    "    \n",
    "    return X_list, y_list\n",
    "    "
   ]
  },
  {
   "cell_type": "code",
   "execution_count": null,
   "metadata": {},
   "outputs": [],
   "source": [
    "X_list, y_list = create_X_y(my_df[[\"ds\", \"y\"]], train_days, forecast_days)"
   ]
  }
 ],
 "metadata": {
  "kernelspec": {
   "display_name": "idw",
   "language": "python",
   "name": "python3"
  },
  "language_info": {
   "codemirror_mode": {
    "name": "ipython",
    "version": 3
   },
   "file_extension": ".py",
   "mimetype": "text/x-python",
   "name": "python",
   "nbconvert_exporter": "python",
   "pygments_lexer": "ipython3",
   "version": "3.10.2"
  },
  "orig_nbformat": 4
 },
 "nbformat": 4,
 "nbformat_minor": 2
}
